{
 "cells": [
  {
   "cell_type": "markdown",
   "id": "d7dc2e82",
   "metadata": {},
   "source": [
    "# Projet spam filter by Steve and Jeremy"
   ]
  },
  {
   "cell_type": "markdown",
   "id": "75f424aa",
   "metadata": {},
   "source": [
    "![title](SPAM-1.png)\n",
    "                                      Projet en collaboration avec le gretta"
   ]
  },
  {
   "cell_type": "markdown",
   "id": "680654f8",
   "metadata": {},
   "source": [
    "## ANALYSE DES DONNEES"
   ]
  },
  {
   "cell_type": "markdown",
   "id": "d7452029",
   "metadata": {},
   "source": [
    "### Analyse du DF "
   ]
  },
  {
   "cell_type": "code",
   "execution_count": 216,
   "id": "b1ab7a6b",
   "metadata": {},
   "outputs": [],
   "source": [
    "#importation des librairies\n",
    "import pandas as pd\n",
    "import numpy as np\n",
    "import seaborn as sns\n",
    "import matplotlib.pyplot as plt"
   ]
  },
  {
   "cell_type": "markdown",
   "id": "b2a51d44",
   "metadata": {},
   "source": [
    "La première étape: Ouvrir le fichier csv et visualiser son contenu. "
   ]
  },
  {
   "cell_type": "code",
   "execution_count": 217,
   "id": "e005c951",
   "metadata": {},
   "outputs": [],
   "source": [
    "#ouverture du fichier csv\n",
    "\n",
    "df = pd.read_csv('spam.csv',encoding= 'latin-1')"
   ]
  },
  {
   "cell_type": "code",
   "execution_count": 218,
   "id": "d9e6706d",
   "metadata": {},
   "outputs": [
    {
     "data": {
      "text/html": [
       "<div>\n",
       "<style scoped>\n",
       "    .dataframe tbody tr th:only-of-type {\n",
       "        vertical-align: middle;\n",
       "    }\n",
       "\n",
       "    .dataframe tbody tr th {\n",
       "        vertical-align: top;\n",
       "    }\n",
       "\n",
       "    .dataframe thead th {\n",
       "        text-align: right;\n",
       "    }\n",
       "</style>\n",
       "<table border=\"1\" class=\"dataframe\">\n",
       "  <thead>\n",
       "    <tr style=\"text-align: right;\">\n",
       "      <th></th>\n",
       "      <th>v1</th>\n",
       "      <th>v2</th>\n",
       "      <th>Unnamed: 2</th>\n",
       "      <th>Unnamed: 3</th>\n",
       "      <th>Unnamed: 4</th>\n",
       "    </tr>\n",
       "  </thead>\n",
       "  <tbody>\n",
       "    <tr>\n",
       "      <th>0</th>\n",
       "      <td>ham</td>\n",
       "      <td>Go until jurong point, crazy.. Available only ...</td>\n",
       "      <td>NaN</td>\n",
       "      <td>NaN</td>\n",
       "      <td>NaN</td>\n",
       "    </tr>\n",
       "    <tr>\n",
       "      <th>1</th>\n",
       "      <td>ham</td>\n",
       "      <td>Ok lar... Joking wif u oni...</td>\n",
       "      <td>NaN</td>\n",
       "      <td>NaN</td>\n",
       "      <td>NaN</td>\n",
       "    </tr>\n",
       "    <tr>\n",
       "      <th>2</th>\n",
       "      <td>spam</td>\n",
       "      <td>Free entry in 2 a wkly comp to win FA Cup fina...</td>\n",
       "      <td>NaN</td>\n",
       "      <td>NaN</td>\n",
       "      <td>NaN</td>\n",
       "    </tr>\n",
       "    <tr>\n",
       "      <th>3</th>\n",
       "      <td>ham</td>\n",
       "      <td>U dun say so early hor... U c already then say...</td>\n",
       "      <td>NaN</td>\n",
       "      <td>NaN</td>\n",
       "      <td>NaN</td>\n",
       "    </tr>\n",
       "    <tr>\n",
       "      <th>4</th>\n",
       "      <td>ham</td>\n",
       "      <td>Nah I don't think he goes to usf, he lives aro...</td>\n",
       "      <td>NaN</td>\n",
       "      <td>NaN</td>\n",
       "      <td>NaN</td>\n",
       "    </tr>\n",
       "  </tbody>\n",
       "</table>\n",
       "</div>"
      ],
      "text/plain": [
       "     v1                                                 v2 Unnamed: 2  \\\n",
       "0   ham  Go until jurong point, crazy.. Available only ...        NaN   \n",
       "1   ham                      Ok lar... Joking wif u oni...        NaN   \n",
       "2  spam  Free entry in 2 a wkly comp to win FA Cup fina...        NaN   \n",
       "3   ham  U dun say so early hor... U c already then say...        NaN   \n",
       "4   ham  Nah I don't think he goes to usf, he lives aro...        NaN   \n",
       "\n",
       "  Unnamed: 3 Unnamed: 4  \n",
       "0        NaN        NaN  \n",
       "1        NaN        NaN  \n",
       "2        NaN        NaN  \n",
       "3        NaN        NaN  \n",
       "4        NaN        NaN  "
      ]
     },
     "execution_count": 218,
     "metadata": {},
     "output_type": "execute_result"
    }
   ],
   "source": [
    "df.head()"
   ]
  },
  {
   "cell_type": "markdown",
   "id": "1bf2e353",
   "metadata": {},
   "source": [
    "Nous remarquons qu'il y a des colonnes qui sont inules et que les noms des colonnes ne sont pas parlants\n"
   ]
  },
  {
   "cell_type": "code",
   "execution_count": 219,
   "id": "97241325",
   "metadata": {},
   "outputs": [
    {
     "data": {
      "text/plain": [
       "v1               2\n",
       "v2            5169\n",
       "Unnamed: 2      43\n",
       "Unnamed: 3      10\n",
       "Unnamed: 4       5\n",
       "dtype: int64"
      ]
     },
     "execution_count": 219,
     "metadata": {},
     "output_type": "execute_result"
    }
   ],
   "source": [
    "df.nunique(axis=0)# returns the number of unique values for each variable."
   ]
  },
  {
   "cell_type": "markdown",
   "id": "f9708145",
   "metadata": {},
   "source": [
    "### Nettoyage du DF "
   ]
  },
  {
   "cell_type": "code",
   "execution_count": 220,
   "id": "cc53ccf3",
   "metadata": {},
   "outputs": [
    {
     "data": {
      "text/html": [
       "<div>\n",
       "<style scoped>\n",
       "    .dataframe tbody tr th:only-of-type {\n",
       "        vertical-align: middle;\n",
       "    }\n",
       "\n",
       "    .dataframe tbody tr th {\n",
       "        vertical-align: top;\n",
       "    }\n",
       "\n",
       "    .dataframe thead th {\n",
       "        text-align: right;\n",
       "    }\n",
       "</style>\n",
       "<table border=\"1\" class=\"dataframe\">\n",
       "  <thead>\n",
       "    <tr style=\"text-align: right;\">\n",
       "      <th></th>\n",
       "      <th>label</th>\n",
       "      <th>sms</th>\n",
       "    </tr>\n",
       "  </thead>\n",
       "  <tbody>\n",
       "    <tr>\n",
       "      <th>0</th>\n",
       "      <td>ham</td>\n",
       "      <td>Go until jurong point, crazy.. Available only ...</td>\n",
       "    </tr>\n",
       "    <tr>\n",
       "      <th>1</th>\n",
       "      <td>ham</td>\n",
       "      <td>Ok lar... Joking wif u oni...</td>\n",
       "    </tr>\n",
       "    <tr>\n",
       "      <th>2</th>\n",
       "      <td>spam</td>\n",
       "      <td>Free entry in 2 a wkly comp to win FA Cup fina...</td>\n",
       "    </tr>\n",
       "    <tr>\n",
       "      <th>3</th>\n",
       "      <td>ham</td>\n",
       "      <td>U dun say so early hor... U c already then say...</td>\n",
       "    </tr>\n",
       "    <tr>\n",
       "      <th>4</th>\n",
       "      <td>ham</td>\n",
       "      <td>Nah I don't think he goes to usf, he lives aro...</td>\n",
       "    </tr>\n",
       "    <tr>\n",
       "      <th>...</th>\n",
       "      <td>...</td>\n",
       "      <td>...</td>\n",
       "    </tr>\n",
       "    <tr>\n",
       "      <th>5567</th>\n",
       "      <td>spam</td>\n",
       "      <td>This is the 2nd time we have tried 2 contact u...</td>\n",
       "    </tr>\n",
       "    <tr>\n",
       "      <th>5568</th>\n",
       "      <td>ham</td>\n",
       "      <td>Will Ì_ b going to esplanade fr home?</td>\n",
       "    </tr>\n",
       "    <tr>\n",
       "      <th>5569</th>\n",
       "      <td>ham</td>\n",
       "      <td>Pity, * was in mood for that. So...any other s...</td>\n",
       "    </tr>\n",
       "    <tr>\n",
       "      <th>5570</th>\n",
       "      <td>ham</td>\n",
       "      <td>The guy did some bitching but I acted like i'd...</td>\n",
       "    </tr>\n",
       "    <tr>\n",
       "      <th>5571</th>\n",
       "      <td>ham</td>\n",
       "      <td>Rofl. Its true to its name</td>\n",
       "    </tr>\n",
       "  </tbody>\n",
       "</table>\n",
       "<p>5572 rows × 2 columns</p>\n",
       "</div>"
      ],
      "text/plain": [
       "     label                                                sms\n",
       "0      ham  Go until jurong point, crazy.. Available only ...\n",
       "1      ham                      Ok lar... Joking wif u oni...\n",
       "2     spam  Free entry in 2 a wkly comp to win FA Cup fina...\n",
       "3      ham  U dun say so early hor... U c already then say...\n",
       "4      ham  Nah I don't think he goes to usf, he lives aro...\n",
       "...    ...                                                ...\n",
       "5567  spam  This is the 2nd time we have tried 2 contact u...\n",
       "5568   ham              Will Ì_ b going to esplanade fr home?\n",
       "5569   ham  Pity, * was in mood for that. So...any other s...\n",
       "5570   ham  The guy did some bitching but I acted like i'd...\n",
       "5571   ham                         Rofl. Its true to its name\n",
       "\n",
       "[5572 rows x 2 columns]"
      ]
     },
     "execution_count": 220,
     "metadata": {},
     "output_type": "execute_result"
    }
   ],
   "source": [
    "#NETTOYAGE DES DONNEES\n",
    "dfn = df.drop(['Unnamed: 2','Unnamed: 3','Unnamed: 4'], axis=1)\n",
    "dfn = dfn.rename(columns={'v1':'label', 'v2':'sms'})\n",
    "dfn"
   ]
  },
  {
   "cell_type": "markdown",
   "id": "9d08fd87",
   "metadata": {},
   "source": [
    "Nous enlevons les colonnes inutiles et renommons les colonnes importantes"
   ]
  },
  {
   "cell_type": "markdown",
   "id": "7fadfae2",
   "metadata": {},
   "source": [
    "## VISUALISATION DES DONNEES"
   ]
  },
  {
   "cell_type": "markdown",
   "id": "b2a5c57d",
   "metadata": {},
   "source": [
    "Dans cette partie nous allons visualisé notre jeu de donnée."
   ]
  },
  {
   "cell_type": "code",
   "execution_count": 221,
   "id": "10c05ff4",
   "metadata": {},
   "outputs": [
    {
     "data": {
      "text/html": [
       "<div>\n",
       "<style scoped>\n",
       "    .dataframe tbody tr th:only-of-type {\n",
       "        vertical-align: middle;\n",
       "    }\n",
       "\n",
       "    .dataframe tbody tr th {\n",
       "        vertical-align: top;\n",
       "    }\n",
       "\n",
       "    .dataframe thead th {\n",
       "        text-align: right;\n",
       "    }\n",
       "</style>\n",
       "<table border=\"1\" class=\"dataframe\">\n",
       "  <thead>\n",
       "    <tr style=\"text-align: right;\">\n",
       "      <th></th>\n",
       "      <th>label</th>\n",
       "      <th>sms</th>\n",
       "    </tr>\n",
       "  </thead>\n",
       "  <tbody>\n",
       "    <tr>\n",
       "      <th>count</th>\n",
       "      <td>5572</td>\n",
       "      <td>5572</td>\n",
       "    </tr>\n",
       "    <tr>\n",
       "      <th>unique</th>\n",
       "      <td>2</td>\n",
       "      <td>5169</td>\n",
       "    </tr>\n",
       "    <tr>\n",
       "      <th>top</th>\n",
       "      <td>ham</td>\n",
       "      <td>Sorry, I'll call later</td>\n",
       "    </tr>\n",
       "    <tr>\n",
       "      <th>freq</th>\n",
       "      <td>4825</td>\n",
       "      <td>30</td>\n",
       "    </tr>\n",
       "  </tbody>\n",
       "</table>\n",
       "</div>"
      ],
      "text/plain": [
       "       label                     sms\n",
       "count   5572                    5572\n",
       "unique     2                    5169\n",
       "top      ham  Sorry, I'll call later\n",
       "freq    4825                      30"
      ]
     },
     "execution_count": 221,
     "metadata": {},
     "output_type": "execute_result"
    }
   ],
   "source": [
    "dfn.describe()"
   ]
  },
  {
   "cell_type": "markdown",
   "id": "27403aad",
   "metadata": {},
   "source": [
    "Nous voyons qu'il y a 5572 sms "
   ]
  },
  {
   "cell_type": "markdown",
   "id": "dec9b503",
   "metadata": {},
   "source": [
    "### Proportion des spam/ham "
   ]
  },
  {
   "cell_type": "code",
   "execution_count": 222,
   "id": "6bfd8ebe",
   "metadata": {},
   "outputs": [
    {
     "data": {
      "text/plain": [
       "ham     4825\n",
       "spam     747\n",
       "Name: label, dtype: int64"
      ]
     },
     "execution_count": 222,
     "metadata": {},
     "output_type": "execute_result"
    }
   ],
   "source": [
    "#compter le nombre de spam/ham\n",
    "dfn.label.value_counts()"
   ]
  },
  {
   "cell_type": "code",
   "execution_count": 223,
   "id": "697816b8",
   "metadata": {},
   "outputs": [
    {
     "data": {
      "image/png": "[encoded data removed]",
      "text/plain": [
       "<Figure size 540x360 with 1 Axes>"
      ]
     },
     "metadata": {
      "needs_background": "light"
     },
     "output_type": "display_data"
    }
   ],
   "source": [
    "#compter spam et ham\n",
    "import matplotlib.pyplot as plt\n",
    "sns.catplot( x='label',\n",
    "             kind=\"count\", \n",
    "             data=dfn,\n",
    "             height=5,\n",
    "             aspect=1.5)\n",
    "plt.xlabel(\"label\", size=14)\n",
    "plt.ylabel(\"Count\", size=14)\n",
    "plt.tight_layout()\n",
    "plt.savefig(\"Countplot_or_barplot_with_Seaborn_catplot.png\")\n"
   ]
  },
  {
   "cell_type": "markdown",
   "id": "a1e97973",
   "metadata": {},
   "source": [
    "Nous remarquons que notre jeu de donnée est déséquilibré. La proportion de ham est bien plus élevé que les spams, cela sera à prendre en compte lors de la partie étude du model de ML. "
   ]
  },
  {
   "cell_type": "markdown",
   "id": "656260e1",
   "metadata": {},
   "source": [
    "## RECHERCHE DES FEATURES"
   ]
  },
  {
   "cell_type": "markdown",
   "id": "cb78126c",
   "metadata": {},
   "source": [
    "Maintenant que nous connaissons bien notre jeu de donnée nous allons devoir créer des features qui seront utiliser\n",
    "par notre model de ML. Les features vont permettre d'analyser les sms et leurs donner des caractérisques. \n",
    "Pour notre jeu de donnée nous avons décidé d'utiliser 7 features:\n",
    "\n",
    "    -Taille du message\n",
    "    -Dictionnaire de mots\n",
    "    -Les urls\n",
    "    -Les numéros de téléphone\n",
    "    -Les majuscules et minuscules\n",
    "    -Les caractères spéciaux\n",
    "    -La longueur moyenne des mots"
   ]
  },
  {
   "cell_type": "markdown",
   "id": "a01ebc90",
   "metadata": {},
   "source": [
    "### Feature1: Taille du message."
   ]
  },
  {
   "cell_type": "markdown",
   "id": "74e6d99d",
   "metadata": {},
   "source": [
    "Dans la première partie nous allons déterminer la longueur moyenne des sms"
   ]
  },
  {
   "cell_type": "code",
   "execution_count": 224,
   "id": "17c43058",
   "metadata": {},
   "outputs": [
    {
     "data": {
      "text/html": [
       "<div>\n",
       "<style scoped>\n",
       "    .dataframe tbody tr th:only-of-type {\n",
       "        vertical-align: middle;\n",
       "    }\n",
       "\n",
       "    .dataframe tbody tr th {\n",
       "        vertical-align: top;\n",
       "    }\n",
       "\n",
       "    .dataframe thead th {\n",
       "        text-align: right;\n",
       "    }\n",
       "</style>\n",
       "<table border=\"1\" class=\"dataframe\">\n",
       "  <thead>\n",
       "    <tr style=\"text-align: right;\">\n",
       "      <th></th>\n",
       "      <th>label</th>\n",
       "      <th>sms</th>\n",
       "      <th>length</th>\n",
       "    </tr>\n",
       "  </thead>\n",
       "  <tbody>\n",
       "    <tr>\n",
       "      <th>0</th>\n",
       "      <td>ham</td>\n",
       "      <td>Go until jurong point, crazy.. Available only ...</td>\n",
       "      <td>111</td>\n",
       "    </tr>\n",
       "    <tr>\n",
       "      <th>1</th>\n",
       "      <td>ham</td>\n",
       "      <td>Ok lar... Joking wif u oni...</td>\n",
       "      <td>29</td>\n",
       "    </tr>\n",
       "    <tr>\n",
       "      <th>2</th>\n",
       "      <td>spam</td>\n",
       "      <td>Free entry in 2 a wkly comp to win FA Cup fina...</td>\n",
       "      <td>155</td>\n",
       "    </tr>\n",
       "    <tr>\n",
       "      <th>3</th>\n",
       "      <td>ham</td>\n",
       "      <td>U dun say so early hor... U c already then say...</td>\n",
       "      <td>49</td>\n",
       "    </tr>\n",
       "    <tr>\n",
       "      <th>4</th>\n",
       "      <td>ham</td>\n",
       "      <td>Nah I don't think he goes to usf, he lives aro...</td>\n",
       "      <td>61</td>\n",
       "    </tr>\n",
       "  </tbody>\n",
       "</table>\n",
       "</div>"
      ],
      "text/plain": [
       "  label                                                sms  length\n",
       "0   ham  Go until jurong point, crazy.. Available only ...     111\n",
       "1   ham                      Ok lar... Joking wif u oni...      29\n",
       "2  spam  Free entry in 2 a wkly comp to win FA Cup fina...     155\n",
       "3   ham  U dun say so early hor... U c already then say...      49\n",
       "4   ham  Nah I don't think he goes to usf, he lives aro...      61"
      ]
     },
     "execution_count": 224,
     "metadata": {},
     "output_type": "execute_result"
    }
   ],
   "source": [
    "#compter la longueur des s\n",
    "dfn['length'] = dfn['sms'].apply(len)\n",
    "dfn.head()"
   ]
  },
  {
   "cell_type": "code",
   "execution_count": 225,
   "id": "43e8c1ab",
   "metadata": {},
   "outputs": [
    {
     "data": {
      "image/png": "[encoded data removed]",
      "text/plain": [
       "<Figure size 1440x720 with 1 Axes>"
      ]
     },
     "metadata": {
      "needs_background": "light"
     },
     "output_type": "display_data"
    }
   ],
   "source": [
    "#length of sms visualisaion with histogram\n",
    "dfn['length'].plot(bins=300, kind='hist', color='orange')\n",
    "plt.ylabel('number of cacatere')\n",
    "plt.xlabel('volume of sms')\n",
    "plt.xlim(5,300)\n",
    "plt.show()"
   ]
  },
  {
   "cell_type": "code",
   "execution_count": 226,
   "id": "0f3370f6",
   "metadata": {},
   "outputs": [
    {
     "data": {
      "image/png": "[encoded data removed]",
      "text/plain": [
       "<Figure size 1440x720 with 1 Axes>"
      ]
     },
     "metadata": {
      "needs_background": "light"
     },
     "output_type": "display_data"
    }
   ],
   "source": [
    "#Histrogram par SPAM OU HAM\n",
    "x1 = dfn['length'].loc[dfn.label=='spam']\n",
    "x2 = dfn['length'].loc[dfn.label=='ham']\n",
    "kwargs = dict(alpha=1, bins=50)\n",
    "kwargs2 = dict(alpha=0.1, bins=400)\n",
    "\n",
    "plt.hist(x1, **kwargs, color='r', label='spam')\n",
    "plt.hist(x2, **kwargs2, color='black', label='ham')\n",
    "\n",
    "plt.gca().set(title='Frequency of length', ylabel='Frequency')\n",
    "plt.xlim(5,200)\n",
    "plt.legend();"
   ]
  },
  {
   "cell_type": "markdown",
   "id": "5b1acac5",
   "metadata": {},
   "source": [
    "Nous remarquons très clairement que les spams sont bien plus longs que les hams. Cela confirme l'importance de cette features dans notre DataFrame. "
   ]
  },
  {
   "cell_type": "code",
   "execution_count": 227,
   "id": "6bca7d16",
   "metadata": {},
   "outputs": [
    {
     "data": {
      "text/html": [
       "<div>\n",
       "<style scoped>\n",
       "    .dataframe tbody tr th:only-of-type {\n",
       "        vertical-align: middle;\n",
       "    }\n",
       "\n",
       "    .dataframe tbody tr th {\n",
       "        vertical-align: top;\n",
       "    }\n",
       "\n",
       "    .dataframe thead th {\n",
       "        text-align: right;\n",
       "    }\n",
       "</style>\n",
       "<table border=\"1\" class=\"dataframe\">\n",
       "  <thead>\n",
       "    <tr style=\"text-align: right;\">\n",
       "      <th></th>\n",
       "      <th>label</th>\n",
       "      <th>sms</th>\n",
       "      <th>length</th>\n",
       "    </tr>\n",
       "  </thead>\n",
       "  <tbody>\n",
       "    <tr>\n",
       "      <th>0</th>\n",
       "      <td>ham</td>\n",
       "      <td>Go until jurong point, crazy.. Available only ...</td>\n",
       "      <td>111</td>\n",
       "    </tr>\n",
       "    <tr>\n",
       "      <th>1</th>\n",
       "      <td>ham</td>\n",
       "      <td>Ok lar... Joking wif u oni...</td>\n",
       "      <td>29</td>\n",
       "    </tr>\n",
       "    <tr>\n",
       "      <th>2</th>\n",
       "      <td>spam</td>\n",
       "      <td>Free entry in 2 a wkly comp to win FA Cup fina...</td>\n",
       "      <td>155</td>\n",
       "    </tr>\n",
       "    <tr>\n",
       "      <th>3</th>\n",
       "      <td>ham</td>\n",
       "      <td>U dun say so early hor... U c already then say...</td>\n",
       "      <td>49</td>\n",
       "    </tr>\n",
       "    <tr>\n",
       "      <th>4</th>\n",
       "      <td>ham</td>\n",
       "      <td>Nah I don't think he goes to usf, he lives aro...</td>\n",
       "      <td>61</td>\n",
       "    </tr>\n",
       "  </tbody>\n",
       "</table>\n",
       "</div>"
      ],
      "text/plain": [
       "  label                                                sms  length\n",
       "0   ham  Go until jurong point, crazy.. Available only ...     111\n",
       "1   ham                      Ok lar... Joking wif u oni...      29\n",
       "2  spam  Free entry in 2 a wkly comp to win FA Cup fina...     155\n",
       "3   ham  U dun say so early hor... U c already then say...      49\n",
       "4   ham  Nah I don't think he goes to usf, he lives aro...      61"
      ]
     },
     "execution_count": 227,
     "metadata": {},
     "output_type": "execute_result"
    }
   ],
   "source": [
    "#compter la longueur des s\n",
    "dfn['length'] = dfn['sms'].apply(len)\n",
    "dfn.head()"
   ]
  },
  {
   "cell_type": "markdown",
   "id": "fa735297",
   "metadata": {},
   "source": [
    "### Feature2:Dictionnaire de mots"
   ]
  },
  {
   "cell_type": "markdown",
   "id": "f4520af3",
   "metadata": {},
   "source": [
    "Dans cette seconde partie nous allons créer un dictionnaire des mots les plus communs dans un spam et nous allons les compter dans tous les messages. Pour cela nous utisons la librairie Wordcloud qui nous permet de sortir graphiquement tous les mots les plus utilisés. Nous allons faire une analyse séparé sur les spams et hams, cela nous permettra de trouver les stopword. Les stopwords permettent d'avoir un dictionnaire de mot plus cohérent."
   ]
  },
  {
   "cell_type": "code",
   "execution_count": 228,
   "id": "a6291354",
   "metadata": {},
   "outputs": [],
   "source": [
    "import collections\n",
    "import numpy as np\n",
    "import pandas as pd\n",
    "import matplotlib.cm as cm\n",
    "import matplotlib.pyplot as plt\n",
    "from matplotlib import rcParams\n",
    "from wordcloud import WordCloud, STOPWORDS\n",
    "%matplotlib inline\n",
    "import nltk\n",
    "from nltk.corpus import stopwords\n",
    "import webbrowser"
   ]
  },
  {
   "cell_type": "markdown",
   "id": "81283331",
   "metadata": {},
   "source": [
    "#### Visualisation des mots dans les hams"
   ]
  },
  {
   "cell_type": "code",
   "execution_count": 229,
   "id": "b85aafbf",
   "metadata": {},
   "outputs": [],
   "source": [
    "#lien du tuto\n",
    "#webbrowser.open('https://towardsdatascience.com/generate-meaningful-word-clouds-in-python-5b85f5668eeb')"
   ]
  },
  {
   "cell_type": "code",
   "execution_count": 230,
   "id": "fcd62627",
   "metadata": {},
   "outputs": [
    {
     "data": {
      "image/png": "[encoded data removed]",
      "text/plain": [
       "<Figure size 720x720 with 1 Axes>"
      ]
     },
     "metadata": {
      "needs_background": "light"
     },
     "output_type": "display_data"
    },
    {
     "name": "stdout",
     "output_type": "stream",
     "text": [
      "There are 695025 words in the combination of all HAM.\n"
     ]
    },
    {
     "data": {
      "image/png": "[encoded data removed]",
      "text/plain": [
       "<Figure size 1440x360 with 1 Axes>"
      ]
     },
     "metadata": {
      "needs_background": "light"
     },
     "output_type": "display_data"
    }
   ],
   "source": [
    "#selection de la colonne ham et transformation en minuscule\n",
    "ham = dfn['sms'].loc[dfn.label=='ham']\n",
    "ham1 = ' '.join(ham.str.lower()) \n",
    "\n",
    "#----------------------------------------------------------------------------------------------------\n",
    "#definition des stopword\n",
    "stopwords = stopwords.words('english') #STOPWORDS\n",
    "#stopwords.add('will')\n",
    "\n",
    "wordcloud = WordCloud(stopwords=stopwords, background_color=\"white\", max_words=50).generate(ham1)\n",
    "rcParams['figure.figsize'] = 10, 10\n",
    "plt.imshow(wordcloud)\n",
    "plt.axis(\"off\")\n",
    "plt.show()\n",
    "#------------------------------------------------------------------------------------------------------\n",
    "#We can even verify the top words using the bar charts.\n",
    "filtered_words = [word for word in ham1.split() if word not in stopwords]\n",
    "counted_words = collections.Counter(filtered_words)\n",
    "\n",
    "words = []\n",
    "counts = []\n",
    "for letter, count in counted_words.most_common(20):\n",
    "    words.append(letter)\n",
    "    counts.append(count)\n",
    "colors = cm.rainbow(np.linspace(0, 1, 10))\n",
    "rcParams['figure.figsize'] = 20, 5\n",
    "\n",
    "\n",
    "plt.title('Top words in the sms vs their count')\n",
    "plt.xlabel('Count')\n",
    "plt.ylabel('Words')\n",
    "plt.barh(words, counts, color=colors)\n",
    "#-----------------------------------------------------\n",
    "text = \" \".join(review for review in ham1)\n",
    "print (\"There are {} words in the combination of all HAM.\".format(len(text)))"
   ]
  },
  {
   "cell_type": "markdown",
   "id": "19c1c5a3",
   "metadata": {},
   "source": [
    "Sur le graphique du dessus nous pouvons voir que les mots les plus communs dans les hams sont:\n",
    "\n",
    "    -u\n",
    "    -i'm\n",
    "    -get\n",
    "    -go\n",
    "    -ur\n",
    "    -got"
   ]
  },
  {
   "cell_type": "markdown",
   "id": "bf27cda6",
   "metadata": {
    "heading_collapsed": true
   },
   "source": [
    "#### Visualisation des mots dans les spams"
   ]
  },
  {
   "cell_type": "code",
   "execution_count": 231,
   "id": "7bd0e57e",
   "metadata": {
    "hidden": true
   },
   "outputs": [
    {
     "data": {
      "image/png": "[encoded data removed]",
      "text/plain": [
       "<Figure size 720x720 with 1 Axes>"
      ]
     },
     "metadata": {
      "needs_background": "light"
     },
     "output_type": "display_data"
    },
    {
     "name": "stdout",
     "output_type": "stream",
     "text": [
      "There are 208957 words in the combination of all SPAM.\n"
     ]
    },
    {
     "data": {
      "image/png": "[encoded data removed]",
      "text/plain": [
       "<Figure size 1440x720 with 1 Axes>"
      ]
     },
     "metadata": {
      "needs_background": "light"
     },
     "output_type": "display_data"
    }
   ],
   "source": [
    "from string import digits\n",
    "#selection de la colonne ham et transformation en minuscule\n",
    "spam = dfn['sms'].loc[dfn.label=='spam']\n",
    "#spam0 = #filter(lambda x: x.isalpha(), spam) #spam.translate(None, digits)#''.join([i for i in spam if not i.isdigit()]) #str(spam)' '.join(spam.str.lower())\n",
    "spam1 = ' '.join(spam.str.lower())\n",
    "#----------------------------------------------------------------------------------------------------\n",
    "#definition des stopword\n",
    "stopwords = STOPWORDS\n",
    "stopwords.add('co uk')\n",
    "stopwords.add('u')\n",
    "stopwords.add('will')\n",
    "stopwords.add('-')\n",
    "stopwords.add('&')\n",
    "stopwords.add('2')\n",
    "stopwords.add('4')\n",
    "wordcloud = WordCloud(stopwords=stopwords, background_color=\"white\", max_words=1000).generate(spam1)\n",
    "rcParams['figure.figsize'] = 10, 10\n",
    "plt.imshow(wordcloud)\n",
    "plt.axis(\"off\")\n",
    "plt.show()\n",
    "#------------------------------------------------------------------------------------------------------\n",
    "#We can even verify the top words using the bar charts.\n",
    "#creation de la boucle\n",
    "filtered_words = [word for word in spam1.split() if word not in stopwords]\n",
    "counted_words = collections.Counter(filtered_words)\n",
    "\n",
    "words = []\n",
    "counts = []\n",
    "for letter, count in counted_words.most_common(10):\n",
    "    words.append(letter)\n",
    "    counts.append(count)\n",
    "\n",
    "#creation du graph    \n",
    "colors = cm.rainbow(np.linspace(0, 1, 10))\n",
    "rcParams['figure.figsize'] = 20, 10\n",
    "\n",
    "\n",
    "plt.title('Top words in the sms vs their count')\n",
    "plt.xlabel('Count')\n",
    "plt.ylabel('Words')\n",
    "plt.barh(words, counts, color=colors)\n",
    "#-----------------------------------------------------\n",
    "text = \" \".join(review for review in spam1)\n",
    "print (\"There are {} words in the combination of all SPAM.\".format(len(text)))"
   ]
  },
  {
   "cell_type": "markdown",
   "id": "6a3cb30c",
   "metadata": {
    "hidden": true
   },
   "source": [
    "sur le graphique du dessus nous pouvons voir que les mots les plus communs dans les spams sont:\n",
    "\n",
    "    -call\n",
    "    -free\n",
    "    -ur\n",
    "    -txt, text\n",
    "    -mobile\n",
    "    -claim"
   ]
  },
  {
   "cell_type": "markdown",
   "id": "2f2c58cc",
   "metadata": {
    "heading_collapsed": true
   },
   "source": [
    "#### Creation d'un dictionnaire"
   ]
  },
  {
   "cell_type": "markdown",
   "id": "96718ea2",
   "metadata": {
    "hidden": true
   },
   "source": [
    "Maintenant que nous avons analyser les mots les plus courants nous allons créer un dictionnaire:"
   ]
  },
  {
   "cell_type": "code",
   "execution_count": 232,
   "id": "73c2f4fd",
   "metadata": {
    "hidden": true
   },
   "outputs": [],
   "source": [
    "#filtre des mots\n",
    "def create_dictionary(text):\n",
    "    filtered_words = [word for word in text.split() if word not in stopwords]\n",
    "    counted_words = collections.Counter(filtered_words)\n",
    "\n",
    "    words = []\n",
    "    counts = []\n",
    "    #counte les mots les plus communs\n",
    "    for letter, count in counted_words.most_common(10):\n",
    "        words.append(letter)\n",
    "        counts.append(count)\n",
    "    return words"
   ]
  },
  {
   "cell_type": "code",
   "execution_count": 233,
   "id": "583a8762",
   "metadata": {
    "hidden": true
   },
   "outputs": [
    {
     "name": "stdout",
     "output_type": "stream",
     "text": [
      "Voici les mots choisis pour le dico: ['call', 'free', 'ur', 'txt', 'text', 'mobile', 'claim', 'reply', 'now', 'stop']\n"
     ]
    }
   ],
   "source": [
    "dico = create_dictionary(spam1)\n",
    "print('Voici les mots choisis pour le dico:',dico)"
   ]
  },
  {
   "cell_type": "code",
   "execution_count": null,
   "id": "3a65099c",
   "metadata": {
    "hidden": true,
    "scrolled": true
   },
   "outputs": [],
   "source": []
  },
  {
   "cell_type": "markdown",
   "id": "10981509",
   "metadata": {
    "heading_collapsed": true
   },
   "source": [
    "#### COMPTAGE des mots spam dans les sms"
   ]
  },
  {
   "cell_type": "markdown",
   "id": "ab2fe89b",
   "metadata": {
    "hidden": true
   },
   "source": [
    "Il nous manque plus qu'à les compter dans tous nos messages grace a une boucle qui pas vérifier la présence des mots de notre dico."
   ]
  },
  {
   "cell_type": "code",
   "execution_count": 234,
   "id": "300c1dc2",
   "metadata": {
    "hidden": true
   },
   "outputs": [],
   "source": [
    "def count_words(txt):\n",
    "    count = 0\n",
    "    for i in range (0, len (txt)):\n",
    "        txt.lower()\n",
    "        words = dico\n",
    "        #Checks whether given character is a punctuation mark  \n",
    "        if txt[i] in (words) :  \n",
    "            count = count + 1;  \n",
    "            #print(count)\n",
    "    return count\n",
    "#print (count); \n",
    "dfn[\"spam_word\"]=dfn.sms.apply(count_words)"
   ]
  },
  {
   "cell_type": "code",
   "execution_count": 235,
   "id": "51ec8304",
   "metadata": {
    "hidden": true
   },
   "outputs": [
    {
     "name": "stdout",
     "output_type": "stream",
     "text": [
      "['call', 'free', 'ur', 'txt', 'text', 'mobile', 'claim', 'reply', 'now', 'stop']\n"
     ]
    }
   ],
   "source": [
    "print(dico)"
   ]
  },
  {
   "cell_type": "code",
   "execution_count": 236,
   "id": "cf993ca7",
   "metadata": {
    "hidden": true
   },
   "outputs": [
    {
     "data": {
      "text/html": [
       "<div>\n",
       "<style scoped>\n",
       "    .dataframe tbody tr th:only-of-type {\n",
       "        vertical-align: middle;\n",
       "    }\n",
       "\n",
       "    .dataframe tbody tr th {\n",
       "        vertical-align: top;\n",
       "    }\n",
       "\n",
       "    .dataframe thead th {\n",
       "        text-align: right;\n",
       "    }\n",
       "</style>\n",
       "<table border=\"1\" class=\"dataframe\">\n",
       "  <thead>\n",
       "    <tr style=\"text-align: right;\">\n",
       "      <th></th>\n",
       "      <th>label</th>\n",
       "      <th>sms</th>\n",
       "      <th>length</th>\n",
       "      <th>spam_word</th>\n",
       "    </tr>\n",
       "  </thead>\n",
       "  <tbody>\n",
       "    <tr>\n",
       "      <th>0</th>\n",
       "      <td>ham</td>\n",
       "      <td>Go until jurong point, crazy.. Available only ...</td>\n",
       "      <td>111</td>\n",
       "      <td>0</td>\n",
       "    </tr>\n",
       "    <tr>\n",
       "      <th>1</th>\n",
       "      <td>ham</td>\n",
       "      <td>Ok lar... Joking wif u oni...</td>\n",
       "      <td>29</td>\n",
       "      <td>0</td>\n",
       "    </tr>\n",
       "    <tr>\n",
       "      <th>2</th>\n",
       "      <td>spam</td>\n",
       "      <td>Free entry in 2 a wkly comp to win FA Cup fina...</td>\n",
       "      <td>155</td>\n",
       "      <td>0</td>\n",
       "    </tr>\n",
       "    <tr>\n",
       "      <th>3</th>\n",
       "      <td>ham</td>\n",
       "      <td>U dun say so early hor... U c already then say...</td>\n",
       "      <td>49</td>\n",
       "      <td>0</td>\n",
       "    </tr>\n",
       "    <tr>\n",
       "      <th>4</th>\n",
       "      <td>ham</td>\n",
       "      <td>Nah I don't think he goes to usf, he lives aro...</td>\n",
       "      <td>61</td>\n",
       "      <td>0</td>\n",
       "    </tr>\n",
       "    <tr>\n",
       "      <th>...</th>\n",
       "      <td>...</td>\n",
       "      <td>...</td>\n",
       "      <td>...</td>\n",
       "      <td>...</td>\n",
       "    </tr>\n",
       "    <tr>\n",
       "      <th>5567</th>\n",
       "      <td>spam</td>\n",
       "      <td>This is the 2nd time we have tried 2 contact u...</td>\n",
       "      <td>161</td>\n",
       "      <td>0</td>\n",
       "    </tr>\n",
       "    <tr>\n",
       "      <th>5568</th>\n",
       "      <td>ham</td>\n",
       "      <td>Will Ì_ b going to esplanade fr home?</td>\n",
       "      <td>37</td>\n",
       "      <td>0</td>\n",
       "    </tr>\n",
       "    <tr>\n",
       "      <th>5569</th>\n",
       "      <td>ham</td>\n",
       "      <td>Pity, * was in mood for that. So...any other s...</td>\n",
       "      <td>57</td>\n",
       "      <td>0</td>\n",
       "    </tr>\n",
       "    <tr>\n",
       "      <th>5570</th>\n",
       "      <td>ham</td>\n",
       "      <td>The guy did some bitching but I acted like i'd...</td>\n",
       "      <td>125</td>\n",
       "      <td>0</td>\n",
       "    </tr>\n",
       "    <tr>\n",
       "      <th>5571</th>\n",
       "      <td>ham</td>\n",
       "      <td>Rofl. Its true to its name</td>\n",
       "      <td>26</td>\n",
       "      <td>0</td>\n",
       "    </tr>\n",
       "  </tbody>\n",
       "</table>\n",
       "<p>5572 rows × 4 columns</p>\n",
       "</div>"
      ],
      "text/plain": [
       "     label                                                sms  length  \\\n",
       "0      ham  Go until jurong point, crazy.. Available only ...     111   \n",
       "1      ham                      Ok lar... Joking wif u oni...      29   \n",
       "2     spam  Free entry in 2 a wkly comp to win FA Cup fina...     155   \n",
       "3      ham  U dun say so early hor... U c already then say...      49   \n",
       "4      ham  Nah I don't think he goes to usf, he lives aro...      61   \n",
       "...    ...                                                ...     ...   \n",
       "5567  spam  This is the 2nd time we have tried 2 contact u...     161   \n",
       "5568   ham              Will Ì_ b going to esplanade fr home?      37   \n",
       "5569   ham  Pity, * was in mood for that. So...any other s...      57   \n",
       "5570   ham  The guy did some bitching but I acted like i'd...     125   \n",
       "5571   ham                         Rofl. Its true to its name      26   \n",
       "\n",
       "      spam_word  \n",
       "0             0  \n",
       "1             0  \n",
       "2             0  \n",
       "3             0  \n",
       "4             0  \n",
       "...         ...  \n",
       "5567          0  \n",
       "5568          0  \n",
       "5569          0  \n",
       "5570          0  \n",
       "5571          0  \n",
       "\n",
       "[5572 rows x 4 columns]"
      ]
     },
     "execution_count": 236,
     "metadata": {},
     "output_type": "execute_result"
    }
   ],
   "source": [
    "#dfn.sms.tolist()\n",
    "#dfn.sms.str.lower()\n",
    "dfn"
   ]
  },
  {
   "cell_type": "markdown",
   "id": "d9afbc01",
   "metadata": {
    "heading_collapsed": true
   },
   "source": [
    "#### TOP HAM & SPAM "
   ]
  },
  {
   "cell_type": "code",
   "execution_count": 237,
   "id": "76c3da98",
   "metadata": {
    "hidden": true
   },
   "outputs": [
    {
     "data": {
      "text/html": [
       "<div>\n",
       "<style scoped>\n",
       "    .dataframe tbody tr th:only-of-type {\n",
       "        vertical-align: middle;\n",
       "    }\n",
       "\n",
       "    .dataframe tbody tr th {\n",
       "        vertical-align: top;\n",
       "    }\n",
       "\n",
       "    .dataframe thead th {\n",
       "        text-align: right;\n",
       "    }\n",
       "</style>\n",
       "<table border=\"1\" class=\"dataframe\">\n",
       "  <thead>\n",
       "    <tr style=\"text-align: right;\">\n",
       "      <th></th>\n",
       "      <th>label</th>\n",
       "      <th>sms</th>\n",
       "      <th>length</th>\n",
       "      <th>spam_word</th>\n",
       "    </tr>\n",
       "  </thead>\n",
       "  <tbody>\n",
       "    <tr>\n",
       "      <th>0</th>\n",
       "      <td>ham</td>\n",
       "      <td>Go until jurong point, crazy.. Available only ...</td>\n",
       "      <td>111</td>\n",
       "      <td>0</td>\n",
       "    </tr>\n",
       "    <tr>\n",
       "      <th>3716</th>\n",
       "      <td>ham</td>\n",
       "      <td>I'm gonna rip out my uterus.</td>\n",
       "      <td>28</td>\n",
       "      <td>0</td>\n",
       "    </tr>\n",
       "    <tr>\n",
       "      <th>3714</th>\n",
       "      <td>ham</td>\n",
       "      <td>I am late,so call you tomorrow morning.take ca...</td>\n",
       "      <td>92</td>\n",
       "      <td>0</td>\n",
       "    </tr>\n",
       "    <tr>\n",
       "      <th>3713</th>\n",
       "      <td>ham</td>\n",
       "      <td>Oh, i will get paid. The most outstanding one ...</td>\n",
       "      <td>159</td>\n",
       "      <td>0</td>\n",
       "    </tr>\n",
       "    <tr>\n",
       "      <th>3712</th>\n",
       "      <td>ham</td>\n",
       "      <td>If i not meeting Ì_ all rite then i'll go home...</td>\n",
       "      <td>86</td>\n",
       "      <td>0</td>\n",
       "    </tr>\n",
       "    <tr>\n",
       "      <th>3711</th>\n",
       "      <td>ham</td>\n",
       "      <td>Wat u doing there?</td>\n",
       "      <td>18</td>\n",
       "      <td>0</td>\n",
       "    </tr>\n",
       "    <tr>\n",
       "      <th>3710</th>\n",
       "      <td>ham</td>\n",
       "      <td>Sorry pa, i dont knw who ru pa?</td>\n",
       "      <td>31</td>\n",
       "      <td>0</td>\n",
       "    </tr>\n",
       "    <tr>\n",
       "      <th>3709</th>\n",
       "      <td>ham</td>\n",
       "      <td>ARE YOU IN TOWN? THIS IS V. IMPORTANT</td>\n",
       "      <td>37</td>\n",
       "      <td>0</td>\n",
       "    </tr>\n",
       "    <tr>\n",
       "      <th>3708</th>\n",
       "      <td>ham</td>\n",
       "      <td>Ok.ok ok..then..whats ur todays plan</td>\n",
       "      <td>36</td>\n",
       "      <td>0</td>\n",
       "    </tr>\n",
       "    <tr>\n",
       "      <th>3706</th>\n",
       "      <td>ham</td>\n",
       "      <td>Aight do you still want to get money</td>\n",
       "      <td>36</td>\n",
       "      <td>0</td>\n",
       "    </tr>\n",
       "  </tbody>\n",
       "</table>\n",
       "</div>"
      ],
      "text/plain": [
       "     label                                                sms  length  \\\n",
       "0      ham  Go until jurong point, crazy.. Available only ...     111   \n",
       "3716   ham                       I'm gonna rip out my uterus.      28   \n",
       "3714   ham  I am late,so call you tomorrow morning.take ca...      92   \n",
       "3713   ham  Oh, i will get paid. The most outstanding one ...     159   \n",
       "3712   ham  If i not meeting Ì_ all rite then i'll go home...      86   \n",
       "3711   ham                                 Wat u doing there?      18   \n",
       "3710   ham                    Sorry pa, i dont knw who ru pa?      31   \n",
       "3709   ham              ARE YOU IN TOWN? THIS IS V. IMPORTANT      37   \n",
       "3708   ham               Ok.ok ok..then..whats ur todays plan      36   \n",
       "3706   ham               Aight do you still want to get money      36   \n",
       "\n",
       "      spam_word  \n",
       "0             0  \n",
       "3716          0  \n",
       "3714          0  \n",
       "3713          0  \n",
       "3712          0  \n",
       "3711          0  \n",
       "3710          0  \n",
       "3709          0  \n",
       "3708          0  \n",
       "3706          0  "
      ]
     },
     "execution_count": 237,
     "metadata": {},
     "output_type": "execute_result"
    }
   ],
   "source": [
    "#visualisation des spam words dans les hams\n",
    "dfnW = dfn.loc[dfn.label=='ham']\n",
    "dfnW.sort_values(by=['spam_word'],ascending=False).head(10) #classer par ordre descendant\n"
   ]
  },
  {
   "cell_type": "code",
   "execution_count": 238,
   "id": "34921048",
   "metadata": {
    "hidden": true
   },
   "outputs": [
    {
     "data": {
      "text/html": [
       "<div>\n",
       "<style scoped>\n",
       "    .dataframe tbody tr th:only-of-type {\n",
       "        vertical-align: middle;\n",
       "    }\n",
       "\n",
       "    .dataframe tbody tr th {\n",
       "        vertical-align: top;\n",
       "    }\n",
       "\n",
       "    .dataframe thead th {\n",
       "        text-align: right;\n",
       "    }\n",
       "</style>\n",
       "<table border=\"1\" class=\"dataframe\">\n",
       "  <thead>\n",
       "    <tr style=\"text-align: right;\">\n",
       "      <th></th>\n",
       "      <th>label</th>\n",
       "      <th>sms</th>\n",
       "      <th>length</th>\n",
       "      <th>spam_word</th>\n",
       "    </tr>\n",
       "  </thead>\n",
       "  <tbody>\n",
       "    <tr>\n",
       "      <th>2</th>\n",
       "      <td>spam</td>\n",
       "      <td>Free entry in 2 a wkly comp to win FA Cup fina...</td>\n",
       "      <td>155</td>\n",
       "      <td>0</td>\n",
       "    </tr>\n",
       "    <tr>\n",
       "      <th>3707</th>\n",
       "      <td>spam</td>\n",
       "      <td>Free Top ringtone -sub to weekly ringtone-get ...</td>\n",
       "      <td>114</td>\n",
       "      <td>0</td>\n",
       "    </tr>\n",
       "    <tr>\n",
       "      <th>3718</th>\n",
       "      <td>spam</td>\n",
       "      <td>Thanks for your ringtone order, reference numb...</td>\n",
       "      <td>197</td>\n",
       "      <td>0</td>\n",
       "    </tr>\n",
       "    <tr>\n",
       "      <th>3723</th>\n",
       "      <td>spam</td>\n",
       "      <td>Hi there, 2nights ur lucky night! Uve been inv...</td>\n",
       "      <td>156</td>\n",
       "      <td>0</td>\n",
       "    </tr>\n",
       "    <tr>\n",
       "      <th>3740</th>\n",
       "      <td>spam</td>\n",
       "      <td>2/2 146tf150p</td>\n",
       "      <td>13</td>\n",
       "      <td>0</td>\n",
       "    </tr>\n",
       "    <tr>\n",
       "      <th>3748</th>\n",
       "      <td>spam</td>\n",
       "      <td>Dear Voucher Holder 2 claim your 1st class air...</td>\n",
       "      <td>147</td>\n",
       "      <td>0</td>\n",
       "    </tr>\n",
       "    <tr>\n",
       "      <th>3753</th>\n",
       "      <td>spam</td>\n",
       "      <td>Bloomberg -Message center +447797706009 Why wa...</td>\n",
       "      <td>101</td>\n",
       "      <td>0</td>\n",
       "    </tr>\n",
       "    <tr>\n",
       "      <th>3756</th>\n",
       "      <td>spam</td>\n",
       "      <td>YES! The only place in town to meet exciting a...</td>\n",
       "      <td>109</td>\n",
       "      <td>0</td>\n",
       "    </tr>\n",
       "    <tr>\n",
       "      <th>3761</th>\n",
       "      <td>spam</td>\n",
       "      <td>FREE for 1st week! No1 Nokia tone 4 ur mob eve...</td>\n",
       "      <td>158</td>\n",
       "      <td>0</td>\n",
       "    </tr>\n",
       "    <tr>\n",
       "      <th>3764</th>\n",
       "      <td>spam</td>\n",
       "      <td>Someone U know has asked our dating service 2 ...</td>\n",
       "      <td>137</td>\n",
       "      <td>0</td>\n",
       "    </tr>\n",
       "  </tbody>\n",
       "</table>\n",
       "</div>"
      ],
      "text/plain": [
       "     label                                                sms  length  \\\n",
       "2     spam  Free entry in 2 a wkly comp to win FA Cup fina...     155   \n",
       "3707  spam  Free Top ringtone -sub to weekly ringtone-get ...     114   \n",
       "3718  spam  Thanks for your ringtone order, reference numb...     197   \n",
       "3723  spam  Hi there, 2nights ur lucky night! Uve been inv...     156   \n",
       "3740  spam                                      2/2 146tf150p      13   \n",
       "3748  spam  Dear Voucher Holder 2 claim your 1st class air...     147   \n",
       "3753  spam  Bloomberg -Message center +447797706009 Why wa...     101   \n",
       "3756  spam  YES! The only place in town to meet exciting a...     109   \n",
       "3761  spam  FREE for 1st week! No1 Nokia tone 4 ur mob eve...     158   \n",
       "3764  spam  Someone U know has asked our dating service 2 ...     137   \n",
       "\n",
       "      spam_word  \n",
       "2             0  \n",
       "3707          0  \n",
       "3718          0  \n",
       "3723          0  \n",
       "3740          0  \n",
       "3748          0  \n",
       "3753          0  \n",
       "3756          0  \n",
       "3761          0  \n",
       "3764          0  "
      ]
     },
     "execution_count": 238,
     "metadata": {},
     "output_type": "execute_result"
    }
   ],
   "source": [
    "#visualisation des spam words dans les spams\n",
    "dfnW1 = dfn.loc[dfn.label=='spam']\n",
    "dfnW1.sort_values(by=['spam_word'],ascending=True).head(10) #classer par ordre descendant\n"
   ]
  },
  {
   "cell_type": "markdown",
   "id": "aa6932e4",
   "metadata": {},
   "source": [
    "### Feature3: Recherche des URLs"
   ]
  },
  {
   "cell_type": "markdown",
   "id": "f89efce3",
   "metadata": {},
   "source": [
    "Dans cette partie nous allons compter le nombre d'URL grace aux REGEX"
   ]
  },
  {
   "cell_type": "markdown",
   "id": "a7bbd2f3",
   "metadata": {},
   "source": [
    "##### Creation fonction find URL "
   ]
  },
  {
   "cell_type": "code",
   "execution_count": 239,
   "id": "aba34db9",
   "metadata": {},
   "outputs": [],
   "source": [
    "#url_list = re.findall(r'(https?://\\S+)', txt)\n",
    "def get_url(txt):\n",
    "    regex = r\"(?i)\\b((?:https?://|www\\d{0,3}[.]|[a-z0-9.\\-]+[.][a-z]{2,4}/)(?:[^\\s()<>]+|\\(([^\\s()<>]+|(\\([^\\s()<>]+\\)))*\\))+(?:\\(([^\\s()<>]+|(\\([^\\s()<>]+\\)))*\\)|[^\\s`!()\\[\\]{};:'\\\".,<>?«»“”‘’]))\"\n",
    "    url = re.findall(regex,txt)\n",
    "    return  [x[0] for x in url] \n",
    "def count_url(txt):\n",
    "    regex = r\"(?i)\\b((?:https?://|www\\d{0,3}[.]|[a-z0-9.\\-]+[.][a-z]{2,4}/)(?:[^\\s()<>]+|\\(([^\\s()<>]+|(\\([^\\s()<>]+\\)))*\\))+(?:\\(([^\\s()<>]+|(\\([^\\s()<>]+\\)))*\\)|[^\\s`!()\\[\\]{};:'\\\".,<>?«»“”‘’]))\"\n",
    "    url = re.findall(regex,txt)\n",
    "    return  len([x[0] for x in url])"
   ]
  },
  {
   "cell_type": "code",
   "execution_count": 134,
   "id": "249c57cb",
   "metadata": {},
   "outputs": [],
   "source": [
    "#webbrowser.open('https://fr.acervolima.com/python-rechercher-une-url-dans-une-chaine/')"
   ]
  },
  {
   "cell_type": "markdown",
   "id": "0e87599b",
   "metadata": {},
   "source": [
    "##### affichage url dans spam"
   ]
  },
  {
   "cell_type": "code",
   "execution_count": 135,
   "id": "d3c678df",
   "metadata": {},
   "outputs": [
    {
     "name": "stdout",
     "output_type": "stream",
     "text": [
      "url=['www.dbuk.net', 'http://wap', 'www.sms.ac/u/bootydelious', 'www.areyouunique.co.uk', 'www.4-tc.biz', 'www.ldew.com1win150ppmx3age16', 'www.100percent-real.com', 'http://img', 'www.ldew.com1win150ppmx3age16', 'www.regalportfolio.co.uk', 'www.txttowin.co.uk', 'www.07781482378.com', 'http://www.bubbletext.com', 'www.applausestore.com', 'www.txt-2-shop.com', 'http://www.e-tlp.co.uk/expressoffer', 'www.cnupdates.com/newsletter', 'www.getzed.co.uk', 'www.ldew.com1win150ppmx3age16', 'www.comuk.net', 'http://www.e-tlp.co.uk/expressoffer', 'www.smsco.net', 'http://doit', 'www.getzed.co.uk', 'www.flirtparty.us', 'http://www.urawinner.com', 'www.txt43.com', 'lucozade.co.uk/wrc', 'www.ldew.com.subs16+1win150ppmx3', 'www.phb1.com', 'www.textcomp.com', 'www.ringtones.co.uk', 'www.4-tc.biz', 'http://www.urawinner.com', 'www.ldew.com', 'www.textpod.net', 'www.80488.biz', 'www.orange.co.uk/ow', 'www.ringtoneking.co.uk', 'www.getzed.co.uk', 'www.movietrivia.tv', 'o2.co.uk/games', 'www.win-82050.co.uk', 'www.100percent-real.com', 'www.textpod.net', 'www.ldew.com', 'www.getzed.co.uk', 'www.comuk.net', 'www.idew.com', 'www.b4utele.com', 'www.textcomp.com', 'www.ldew.com.subs16+1win150ppmx3', 'www.comuk.net', 'www.asjesus.com', 'www.music-trivia.net', 'www.txttowin.co.uk', 'www.txt82228.com', 'www.tkls.com', 'www.getzed.co.uk', 'www.getzed.co.uk', 'www.movietrivia.tv', 'http://gotbabes.co.uk', 'http://www.e-tlp.co.uk/reward', 'www.07781482378.com', 'www.bridal.petticoatdreams.co.uk', 'http://careers', 'www.rtf.sphosting.com', 'my-tone.com/enjoy', 'http://careers', 'www.getzed.co.uk', 'www.ringtones.co.uk', 'www.smsco.net', 'http://tms', 'widelive.com/index', 'http://alto18.co.uk/wave/wave.asp?o=44345', 'http://www.wtlp.co.uk/text', 'www.getzed.co.uk', 'www.ringtones.co.uk', 'http://www.urawinner.com', 'www.idew.com', 'http://www.urawinner.com', 'www.sms.ac/u/nat27081980', 'http://www.urawinner.com', 'www.100percent-real.com', 'http://www.urawinner.com', 'www.clubzed.co.uk', 'www.t-c.biz', 'www.comuk.net', 'www.txt-2-shop.com', 'www.clubmoby.com', 'www.win-82050.co.uk', 'o2.co.uk/games', 'www.cashbin.co.uk', 'www.santacalling.com', 'www.4-tc.biz', 'www.sms.ac/u/hmmross', 'lucozade.co.uk/wrc', 'www.vouch4me.com/etlp/dining.asp', 'www.sms.ac/u/goldviking', 'www.ldew.com1win150ppmx3age16', 'www.sms.ac/u/natalie2k9', 'www.ringtones.co.uk', 'www.getzed.co.uk', 'www.telediscount.co.uk', 'www.sms.ac/u/nat27081980', 'www.t-c.biz', 'www.dbuk.net', 'www.ldew.com1win150ppmx3age16subscription', 'www.gr8prizes.com', 'www.shortbreaks.org.uk\\\\', 'www.gamb.tv', 'widelive.com/index', 'www.comuk.net']\n"
     ]
    },
    {
     "data": {
      "text/plain": [
       "113"
      ]
     },
     "execution_count": 135,
     "metadata": {},
     "output_type": "execute_result"
    }
   ],
   "source": [
    "#affichage url dans spam\n",
    "import re \n",
    "l = get_url(spam1) \n",
    "print(f\"url={l}\")\n",
    "count_url(spam1)"
   ]
  },
  {
   "cell_type": "markdown",
   "id": "30b41a41",
   "metadata": {},
   "source": [
    "Il y a 113 url dans les spams "
   ]
  },
  {
   "cell_type": "markdown",
   "id": "e73849be",
   "metadata": {},
   "source": [
    "##### affichage url dans ham"
   ]
  },
  {
   "cell_type": "code",
   "execution_count": 241,
   "id": "3604d362",
   "metadata": {},
   "outputs": [
    {
     "name": "stdout",
     "output_type": "stream",
     "text": [
      "url=['www.fullonsms.com', 'staff.science.nus.edu.sg/~phyhcmk/teaching/pc1323', 'www.fullonsms.com']\n",
      "Il y a 3 url dans les spams\n"
     ]
    }
   ],
   "source": [
    "#affichage url dans ham\n",
    "l2 = get_url(ham1)\n",
    "print(f\"url={l2}\")\n",
    "print('Il y a',len(l2),'url dans les spams')"
   ]
  },
  {
   "cell_type": "markdown",
   "id": "cc0b5ee0",
   "metadata": {},
   "source": [
    "Nous remarquons qu'il a bien plus d'URL dans les spams que dans les hams"
   ]
  },
  {
   "cell_type": "markdown",
   "id": "030dd32f",
   "metadata": {
    "heading_collapsed": true
   },
   "source": [
    "##### Rajout du nombre d'url dans DF"
   ]
  },
  {
   "cell_type": "code",
   "execution_count": 137,
   "id": "b4697280",
   "metadata": {
    "hidden": true
   },
   "outputs": [
    {
     "data": {
      "text/html": [
       "<div>\n",
       "<style scoped>\n",
       "    .dataframe tbody tr th:only-of-type {\n",
       "        vertical-align: middle;\n",
       "    }\n",
       "\n",
       "    .dataframe tbody tr th {\n",
       "        vertical-align: top;\n",
       "    }\n",
       "\n",
       "    .dataframe thead th {\n",
       "        text-align: right;\n",
       "    }\n",
       "</style>\n",
       "<table border=\"1\" class=\"dataframe\">\n",
       "  <thead>\n",
       "    <tr style=\"text-align: right;\">\n",
       "      <th></th>\n",
       "      <th>label</th>\n",
       "      <th>sms</th>\n",
       "      <th>length</th>\n",
       "      <th>spam_word</th>\n",
       "      <th>amount_url</th>\n",
       "    </tr>\n",
       "  </thead>\n",
       "  <tbody>\n",
       "    <tr>\n",
       "      <th>0</th>\n",
       "      <td>ham</td>\n",
       "      <td>Go until jurong point, crazy.. Available only ...</td>\n",
       "      <td>111</td>\n",
       "      <td>0</td>\n",
       "      <td>0</td>\n",
       "    </tr>\n",
       "    <tr>\n",
       "      <th>1</th>\n",
       "      <td>ham</td>\n",
       "      <td>Ok lar... Joking wif u oni...</td>\n",
       "      <td>29</td>\n",
       "      <td>0</td>\n",
       "      <td>0</td>\n",
       "    </tr>\n",
       "    <tr>\n",
       "      <th>2</th>\n",
       "      <td>spam</td>\n",
       "      <td>Free entry in 2 a wkly comp to win FA Cup fina...</td>\n",
       "      <td>155</td>\n",
       "      <td>0</td>\n",
       "      <td>0</td>\n",
       "    </tr>\n",
       "    <tr>\n",
       "      <th>3</th>\n",
       "      <td>ham</td>\n",
       "      <td>U dun say so early hor... U c already then say...</td>\n",
       "      <td>49</td>\n",
       "      <td>0</td>\n",
       "      <td>0</td>\n",
       "    </tr>\n",
       "    <tr>\n",
       "      <th>4</th>\n",
       "      <td>ham</td>\n",
       "      <td>Nah I don't think he goes to usf, he lives aro...</td>\n",
       "      <td>61</td>\n",
       "      <td>0</td>\n",
       "      <td>0</td>\n",
       "    </tr>\n",
       "    <tr>\n",
       "      <th>...</th>\n",
       "      <td>...</td>\n",
       "      <td>...</td>\n",
       "      <td>...</td>\n",
       "      <td>...</td>\n",
       "      <td>...</td>\n",
       "    </tr>\n",
       "    <tr>\n",
       "      <th>5567</th>\n",
       "      <td>spam</td>\n",
       "      <td>This is the 2nd time we have tried 2 contact u...</td>\n",
       "      <td>161</td>\n",
       "      <td>0</td>\n",
       "      <td>0</td>\n",
       "    </tr>\n",
       "    <tr>\n",
       "      <th>5568</th>\n",
       "      <td>ham</td>\n",
       "      <td>Will Ì_ b going to esplanade fr home?</td>\n",
       "      <td>37</td>\n",
       "      <td>0</td>\n",
       "      <td>0</td>\n",
       "    </tr>\n",
       "    <tr>\n",
       "      <th>5569</th>\n",
       "      <td>ham</td>\n",
       "      <td>Pity, * was in mood for that. So...any other s...</td>\n",
       "      <td>57</td>\n",
       "      <td>0</td>\n",
       "      <td>0</td>\n",
       "    </tr>\n",
       "    <tr>\n",
       "      <th>5570</th>\n",
       "      <td>ham</td>\n",
       "      <td>The guy did some bitching but I acted like i'd...</td>\n",
       "      <td>125</td>\n",
       "      <td>0</td>\n",
       "      <td>0</td>\n",
       "    </tr>\n",
       "    <tr>\n",
       "      <th>5571</th>\n",
       "      <td>ham</td>\n",
       "      <td>Rofl. Its true to its name</td>\n",
       "      <td>26</td>\n",
       "      <td>0</td>\n",
       "      <td>0</td>\n",
       "    </tr>\n",
       "  </tbody>\n",
       "</table>\n",
       "<p>5572 rows × 5 columns</p>\n",
       "</div>"
      ],
      "text/plain": [
       "     label                                                sms  length  \\\n",
       "0      ham  Go until jurong point, crazy.. Available only ...     111   \n",
       "1      ham                      Ok lar... Joking wif u oni...      29   \n",
       "2     spam  Free entry in 2 a wkly comp to win FA Cup fina...     155   \n",
       "3      ham  U dun say so early hor... U c already then say...      49   \n",
       "4      ham  Nah I don't think he goes to usf, he lives aro...      61   \n",
       "...    ...                                                ...     ...   \n",
       "5567  spam  This is the 2nd time we have tried 2 contact u...     161   \n",
       "5568   ham              Will Ì_ b going to esplanade fr home?      37   \n",
       "5569   ham  Pity, * was in mood for that. So...any other s...      57   \n",
       "5570   ham  The guy did some bitching but I acted like i'd...     125   \n",
       "5571   ham                         Rofl. Its true to its name      26   \n",
       "\n",
       "      spam_word  amount_url  \n",
       "0             0           0  \n",
       "1             0           0  \n",
       "2             0           0  \n",
       "3             0           0  \n",
       "4             0           0  \n",
       "...         ...         ...  \n",
       "5567          0           0  \n",
       "5568          0           0  \n",
       "5569          0           0  \n",
       "5570          0           0  \n",
       "5571          0           0  \n",
       "\n",
       "[5572 rows x 5 columns]"
      ]
     },
     "execution_count": 137,
     "metadata": {},
     "output_type": "execute_result"
    }
   ],
   "source": [
    "#Rajout du nombre d'url dans DF\n",
    "dfn[\"amount_url\"]=dfn.sms.apply(count_url)\n",
    "dfn"
   ]
  },
  {
   "cell_type": "markdown",
   "id": "abf9e263",
   "metadata": {
    "heading_collapsed": true
   },
   "source": [
    "##### Analyse du resultat dans les spams"
   ]
  },
  {
   "cell_type": "code",
   "execution_count": 138,
   "id": "0409147c",
   "metadata": {
    "hidden": true
   },
   "outputs": [
    {
     "data": {
      "text/html": [
       "<div>\n",
       "<style scoped>\n",
       "    .dataframe tbody tr th:only-of-type {\n",
       "        vertical-align: middle;\n",
       "    }\n",
       "\n",
       "    .dataframe tbody tr th {\n",
       "        vertical-align: top;\n",
       "    }\n",
       "\n",
       "    .dataframe thead th {\n",
       "        text-align: right;\n",
       "    }\n",
       "</style>\n",
       "<table border=\"1\" class=\"dataframe\">\n",
       "  <thead>\n",
       "    <tr style=\"text-align: right;\">\n",
       "      <th></th>\n",
       "      <th>label</th>\n",
       "      <th>sms</th>\n",
       "      <th>length</th>\n",
       "      <th>spam_word</th>\n",
       "      <th>amount_url</th>\n",
       "    </tr>\n",
       "  </thead>\n",
       "  <tbody>\n",
       "    <tr>\n",
       "      <th>3860</th>\n",
       "      <td>spam</td>\n",
       "      <td>Free Msg: Ringtone!From: http://tms. widelive....</td>\n",
       "      <td>109</td>\n",
       "      <td>0</td>\n",
       "      <td>2</td>\n",
       "    </tr>\n",
       "    <tr>\n",
       "      <th>1406</th>\n",
       "      <td>spam</td>\n",
       "      <td>URGENT, IMPORTANT INFORMATION FOR O2 USER. TOD...</td>\n",
       "      <td>163</td>\n",
       "      <td>0</td>\n",
       "      <td>1</td>\n",
       "    </tr>\n",
       "    <tr>\n",
       "      <th>3640</th>\n",
       "      <td>spam</td>\n",
       "      <td>You can stop further club tones by replying \\S...</td>\n",
       "      <td>128</td>\n",
       "      <td>0</td>\n",
       "      <td>1</td>\n",
       "    </tr>\n",
       "    <tr>\n",
       "      <th>2307</th>\n",
       "      <td>spam</td>\n",
       "      <td>WIN a year supply of CDs 4 a store of ur choic...</td>\n",
       "      <td>147</td>\n",
       "      <td>0</td>\n",
       "      <td>1</td>\n",
       "    </tr>\n",
       "    <tr>\n",
       "      <th>832</th>\n",
       "      <td>spam</td>\n",
       "      <td>Dear Voucher Holder, To claim this weeks offer...</td>\n",
       "      <td>152</td>\n",
       "      <td>0</td>\n",
       "      <td>1</td>\n",
       "    </tr>\n",
       "    <tr>\n",
       "      <th>4752</th>\n",
       "      <td>spam</td>\n",
       "      <td>Cashbin.co.uk (Get lots of cash this weekend!)...</td>\n",
       "      <td>155</td>\n",
       "      <td>0</td>\n",
       "      <td>1</td>\n",
       "    </tr>\n",
       "    <tr>\n",
       "      <th>865</th>\n",
       "      <td>spam</td>\n",
       "      <td>Congratulations ur awarded either a yrs supply...</td>\n",
       "      <td>161</td>\n",
       "      <td>0</td>\n",
       "      <td>1</td>\n",
       "    </tr>\n",
       "    <tr>\n",
       "      <th>4733</th>\n",
       "      <td>spam</td>\n",
       "      <td>Buy Space Invaders 4 a chance 2 win orig Arcad...</td>\n",
       "      <td>154</td>\n",
       "      <td>0</td>\n",
       "      <td>1</td>\n",
       "    </tr>\n",
       "    <tr>\n",
       "      <th>2266</th>\n",
       "      <td>spam</td>\n",
       "      <td>&lt;Forwarded from 88877&gt;FREE entry into our å£25...</td>\n",
       "      <td>122</td>\n",
       "      <td>0</td>\n",
       "      <td>1</td>\n",
       "    </tr>\n",
       "    <tr>\n",
       "      <th>4699</th>\n",
       "      <td>spam</td>\n",
       "      <td>WIN: We have a winner! Mr. T. Foley won an iPo...</td>\n",
       "      <td>132</td>\n",
       "      <td>0</td>\n",
       "      <td>1</td>\n",
       "    </tr>\n",
       "  </tbody>\n",
       "</table>\n",
       "</div>"
      ],
      "text/plain": [
       "     label                                                sms  length  \\\n",
       "3860  spam  Free Msg: Ringtone!From: http://tms. widelive....     109   \n",
       "1406  spam  URGENT, IMPORTANT INFORMATION FOR O2 USER. TOD...     163   \n",
       "3640  spam  You can stop further club tones by replying \\S...     128   \n",
       "2307  spam  WIN a year supply of CDs 4 a store of ur choic...     147   \n",
       "832   spam  Dear Voucher Holder, To claim this weeks offer...     152   \n",
       "4752  spam  Cashbin.co.uk (Get lots of cash this weekend!)...     155   \n",
       "865   spam  Congratulations ur awarded either a yrs supply...     161   \n",
       "4733  spam  Buy Space Invaders 4 a chance 2 win orig Arcad...     154   \n",
       "2266  spam  <Forwarded from 88877>FREE entry into our å£25...     122   \n",
       "4699  spam  WIN: We have a winner! Mr. T. Foley won an iPo...     132   \n",
       "\n",
       "      spam_word  amount_url  \n",
       "3860          0           2  \n",
       "1406          0           1  \n",
       "3640          0           1  \n",
       "2307          0           1  \n",
       "832           0           1  \n",
       "4752          0           1  \n",
       "865           0           1  \n",
       "4733          0           1  \n",
       "2266          0           1  \n",
       "4699          0           1  "
      ]
     },
     "execution_count": 138,
     "metadata": {},
     "output_type": "execute_result"
    }
   ],
   "source": [
    "spamU = dfn.loc[dfn.label=='spam']\n",
    "spamU.sort_values(by=['amount_url'],ascending=False).head(10) #classer par ordre descendant"
   ]
  },
  {
   "cell_type": "markdown",
   "id": "2c23a39d",
   "metadata": {},
   "source": [
    "### Feature4: Recherche des numeros de telephone"
   ]
  },
  {
   "cell_type": "markdown",
   "id": "d5c43c55",
   "metadata": {},
   "source": [
    "Dans cette partie nous allons rechercher les numéros de téléphones dans les sms"
   ]
  },
  {
   "cell_type": "code",
   "execution_count": 139,
   "id": "029ce35d",
   "metadata": {},
   "outputs": [],
   "source": [
    "def get_number(txt):\n",
    "    number_list1 = re.findall(r\"\\D(\\d{5})\\D\", txt)\n",
    "    number_list2 =  re.findall(\"(?<!\\d)\\d{11}(?!\\d)\", txt)\n",
    "    number_list3 =  re.findall(\"(?<!\\d)\\d{10}(?!\\d)\", txt)\n",
    "    return number_list1 + number_list2 + number_list3 \n",
    "def len_number(txt):\n",
    "    number_list1 = re.findall(r\"\\D(\\d{5})\\D\", txt)\n",
    "    number_list2 =  re.findall(\"(?<!\\d)\\d{11}(?!\\d)\", txt)\n",
    "    number_list3 =  re.findall(\"(?<!\\d)\\d{10}(?!\\d)\", txt)\n",
    "    return len(number_list1 + number_list2 + number_list3) \n",
    "    "
   ]
  },
  {
   "cell_type": "markdown",
   "id": "4e0c55a3",
   "metadata": {},
   "source": [
    "Nous avons pu constater qu'il y a des numéros à 11, 10 et 5 digits dans les spams. De plus les numéro a 5 digits sont plutôt nombreux. En faisant une recherche nous avons trouvé que les numéros à 5 digits étaient des numéros payants."
   ]
  },
  {
   "cell_type": "code",
   "execution_count": 140,
   "id": "d7900dbf",
   "metadata": {},
   "outputs": [],
   "source": [
    "dfn['phone_number'] = dfn.sms.apply(len_number)"
   ]
  },
  {
   "cell_type": "code",
   "execution_count": 141,
   "id": "197de63c",
   "metadata": {},
   "outputs": [
    {
     "data": {
      "text/html": [
       "<div>\n",
       "<style scoped>\n",
       "    .dataframe tbody tr th:only-of-type {\n",
       "        vertical-align: middle;\n",
       "    }\n",
       "\n",
       "    .dataframe tbody tr th {\n",
       "        vertical-align: top;\n",
       "    }\n",
       "\n",
       "    .dataframe thead th {\n",
       "        text-align: right;\n",
       "    }\n",
       "</style>\n",
       "<table border=\"1\" class=\"dataframe\">\n",
       "  <thead>\n",
       "    <tr style=\"text-align: right;\">\n",
       "      <th></th>\n",
       "      <th>label</th>\n",
       "      <th>sms</th>\n",
       "      <th>length</th>\n",
       "      <th>spam_word</th>\n",
       "      <th>amount_url</th>\n",
       "      <th>phone_number</th>\n",
       "    </tr>\n",
       "  </thead>\n",
       "  <tbody>\n",
       "    <tr>\n",
       "      <th>0</th>\n",
       "      <td>ham</td>\n",
       "      <td>Go until jurong point, crazy.. Available only ...</td>\n",
       "      <td>111</td>\n",
       "      <td>0</td>\n",
       "      <td>0</td>\n",
       "      <td>0</td>\n",
       "    </tr>\n",
       "    <tr>\n",
       "      <th>1</th>\n",
       "      <td>ham</td>\n",
       "      <td>Ok lar... Joking wif u oni...</td>\n",
       "      <td>29</td>\n",
       "      <td>0</td>\n",
       "      <td>0</td>\n",
       "      <td>0</td>\n",
       "    </tr>\n",
       "    <tr>\n",
       "      <th>2</th>\n",
       "      <td>spam</td>\n",
       "      <td>Free entry in 2 a wkly comp to win FA Cup fina...</td>\n",
       "      <td>155</td>\n",
       "      <td>0</td>\n",
       "      <td>0</td>\n",
       "      <td>2</td>\n",
       "    </tr>\n",
       "    <tr>\n",
       "      <th>3</th>\n",
       "      <td>ham</td>\n",
       "      <td>U dun say so early hor... U c already then say...</td>\n",
       "      <td>49</td>\n",
       "      <td>0</td>\n",
       "      <td>0</td>\n",
       "      <td>0</td>\n",
       "    </tr>\n",
       "    <tr>\n",
       "      <th>4</th>\n",
       "      <td>ham</td>\n",
       "      <td>Nah I don't think he goes to usf, he lives aro...</td>\n",
       "      <td>61</td>\n",
       "      <td>0</td>\n",
       "      <td>0</td>\n",
       "      <td>0</td>\n",
       "    </tr>\n",
       "    <tr>\n",
       "      <th>...</th>\n",
       "      <td>...</td>\n",
       "      <td>...</td>\n",
       "      <td>...</td>\n",
       "      <td>...</td>\n",
       "      <td>...</td>\n",
       "      <td>...</td>\n",
       "    </tr>\n",
       "    <tr>\n",
       "      <th>5567</th>\n",
       "      <td>spam</td>\n",
       "      <td>This is the 2nd time we have tried 2 contact u...</td>\n",
       "      <td>161</td>\n",
       "      <td>0</td>\n",
       "      <td>0</td>\n",
       "      <td>0</td>\n",
       "    </tr>\n",
       "    <tr>\n",
       "      <th>5568</th>\n",
       "      <td>ham</td>\n",
       "      <td>Will Ì_ b going to esplanade fr home?</td>\n",
       "      <td>37</td>\n",
       "      <td>0</td>\n",
       "      <td>0</td>\n",
       "      <td>0</td>\n",
       "    </tr>\n",
       "    <tr>\n",
       "      <th>5569</th>\n",
       "      <td>ham</td>\n",
       "      <td>Pity, * was in mood for that. So...any other s...</td>\n",
       "      <td>57</td>\n",
       "      <td>0</td>\n",
       "      <td>0</td>\n",
       "      <td>0</td>\n",
       "    </tr>\n",
       "    <tr>\n",
       "      <th>5570</th>\n",
       "      <td>ham</td>\n",
       "      <td>The guy did some bitching but I acted like i'd...</td>\n",
       "      <td>125</td>\n",
       "      <td>0</td>\n",
       "      <td>0</td>\n",
       "      <td>0</td>\n",
       "    </tr>\n",
       "    <tr>\n",
       "      <th>5571</th>\n",
       "      <td>ham</td>\n",
       "      <td>Rofl. Its true to its name</td>\n",
       "      <td>26</td>\n",
       "      <td>0</td>\n",
       "      <td>0</td>\n",
       "      <td>0</td>\n",
       "    </tr>\n",
       "  </tbody>\n",
       "</table>\n",
       "<p>5572 rows × 6 columns</p>\n",
       "</div>"
      ],
      "text/plain": [
       "     label                                                sms  length  \\\n",
       "0      ham  Go until jurong point, crazy.. Available only ...     111   \n",
       "1      ham                      Ok lar... Joking wif u oni...      29   \n",
       "2     spam  Free entry in 2 a wkly comp to win FA Cup fina...     155   \n",
       "3      ham  U dun say so early hor... U c already then say...      49   \n",
       "4      ham  Nah I don't think he goes to usf, he lives aro...      61   \n",
       "...    ...                                                ...     ...   \n",
       "5567  spam  This is the 2nd time we have tried 2 contact u...     161   \n",
       "5568   ham              Will Ì_ b going to esplanade fr home?      37   \n",
       "5569   ham  Pity, * was in mood for that. So...any other s...      57   \n",
       "5570   ham  The guy did some bitching but I acted like i'd...     125   \n",
       "5571   ham                         Rofl. Its true to its name      26   \n",
       "\n",
       "      spam_word  amount_url  phone_number  \n",
       "0             0           0             0  \n",
       "1             0           0             0  \n",
       "2             0           0             2  \n",
       "3             0           0             0  \n",
       "4             0           0             0  \n",
       "...         ...         ...           ...  \n",
       "5567          0           0             0  \n",
       "5568          0           0             0  \n",
       "5569          0           0             0  \n",
       "5570          0           0             0  \n",
       "5571          0           0             0  \n",
       "\n",
       "[5572 rows x 6 columns]"
      ]
     },
     "execution_count": 141,
     "metadata": {},
     "output_type": "execute_result"
    }
   ],
   "source": [
    "dfn"
   ]
  },
  {
   "cell_type": "code",
   "execution_count": null,
   "id": "39073cbf",
   "metadata": {},
   "outputs": [],
   "source": []
  },
  {
   "cell_type": "code",
   "execution_count": 142,
   "id": "c7d81c92",
   "metadata": {},
   "outputs": [],
   "source": [
    "#dfn.sms.tolist()"
   ]
  },
  {
   "cell_type": "code",
   "execution_count": 243,
   "id": "296fd07f",
   "metadata": {},
   "outputs": [
    {
     "name": "stdout",
     "output_type": "stream",
     "text": [
      "Il y a 680 numeros dans les spams\n"
     ]
    }
   ],
   "source": [
    "#nombre de numero dans tous mes spams\n",
    "l2 = get_number(spam1)\n",
    "#print(f\"number={l2}\")\n",
    "print('Il y a',len(l2),'numeros dans les spams')\n"
   ]
  },
  {
   "cell_type": "code",
   "execution_count": 245,
   "id": "5d0b956b",
   "metadata": {},
   "outputs": [
    {
     "name": "stdout",
     "output_type": "stream",
     "text": [
      "number=['0125698789']\n",
      "Il y a 1 numeros dans les spams\n"
     ]
    }
   ],
   "source": [
    "##nombre de numero dans tous mes hams\n",
    "l2 = get_number(ham1)\n",
    "print(f\"number={l2}\")\n",
    "print('Il y a',len(l2),'numeros dans les spams')"
   ]
  },
  {
   "cell_type": "code",
   "execution_count": 145,
   "id": "5f980dd3",
   "metadata": {},
   "outputs": [
    {
     "data": {
      "text/plain": [
       "2    Free entry in 2 a wkly comp to win FA Cup fina...\n",
       "5    FreeMsg Hey there darling it's been 3 week's n...\n",
       "Name: sms, dtype: object"
      ]
     },
     "execution_count": 145,
     "metadata": {},
     "output_type": "execute_result"
    }
   ],
   "source": [
    "spam.head(2)"
   ]
  },
  {
   "cell_type": "markdown",
   "id": "fa2c9520",
   "metadata": {},
   "source": [
    "Il y a beaucoup plus de numéro dans les spams que dans les hams. Cela confirme l'importance de cette feature dans notre DF."
   ]
  },
  {
   "cell_type": "markdown",
   "id": "1d89c441",
   "metadata": {},
   "source": [
    "### Feature5: Les majuscules"
   ]
  },
  {
   "cell_type": "markdown",
   "id": "ab3cc337",
   "metadata": {},
   "source": [
    "#### Nombre majuscule et minuscule dans tout le DF"
   ]
  },
  {
   "cell_type": "markdown",
   "id": "b09a961e",
   "metadata": {},
   "source": [
    "Dans cette partie nous allons compter le nombre de majuscule et minuscule dans les sms. Nous avons fait une étude séparée sur les spams et les hams."
   ]
  },
  {
   "cell_type": "code",
   "execution_count": 146,
   "id": "8a74d600",
   "metadata": {},
   "outputs": [
    {
     "data": {
      "text/html": [
       "<div>\n",
       "<style scoped>\n",
       "    .dataframe tbody tr th:only-of-type {\n",
       "        vertical-align: middle;\n",
       "    }\n",
       "\n",
       "    .dataframe tbody tr th {\n",
       "        vertical-align: top;\n",
       "    }\n",
       "\n",
       "    .dataframe thead th {\n",
       "        text-align: right;\n",
       "    }\n",
       "</style>\n",
       "<table border=\"1\" class=\"dataframe\">\n",
       "  <thead>\n",
       "    <tr style=\"text-align: right;\">\n",
       "      <th></th>\n",
       "      <th>label</th>\n",
       "      <th>sms</th>\n",
       "      <th>length</th>\n",
       "      <th>spam_word</th>\n",
       "      <th>amount_url</th>\n",
       "      <th>phone_number</th>\n",
       "      <th>Uppercase</th>\n",
       "      <th>Lowercase</th>\n",
       "    </tr>\n",
       "  </thead>\n",
       "  <tbody>\n",
       "    <tr>\n",
       "      <th>0</th>\n",
       "      <td>ham</td>\n",
       "      <td>Go until jurong point, crazy.. Available only ...</td>\n",
       "      <td>111</td>\n",
       "      <td>0</td>\n",
       "      <td>0</td>\n",
       "      <td>0</td>\n",
       "      <td>3</td>\n",
       "      <td>80</td>\n",
       "    </tr>\n",
       "    <tr>\n",
       "      <th>1</th>\n",
       "      <td>ham</td>\n",
       "      <td>Ok lar... Joking wif u oni...</td>\n",
       "      <td>29</td>\n",
       "      <td>0</td>\n",
       "      <td>0</td>\n",
       "      <td>0</td>\n",
       "      <td>2</td>\n",
       "      <td>16</td>\n",
       "    </tr>\n",
       "    <tr>\n",
       "      <th>2</th>\n",
       "      <td>spam</td>\n",
       "      <td>Free entry in 2 a wkly comp to win FA Cup fina...</td>\n",
       "      <td>155</td>\n",
       "      <td>0</td>\n",
       "      <td>0</td>\n",
       "      <td>2</td>\n",
       "      <td>10</td>\n",
       "      <td>87</td>\n",
       "    </tr>\n",
       "    <tr>\n",
       "      <th>3</th>\n",
       "      <td>ham</td>\n",
       "      <td>U dun say so early hor... U c already then say...</td>\n",
       "      <td>49</td>\n",
       "      <td>0</td>\n",
       "      <td>0</td>\n",
       "      <td>0</td>\n",
       "      <td>2</td>\n",
       "      <td>31</td>\n",
       "    </tr>\n",
       "    <tr>\n",
       "      <th>4</th>\n",
       "      <td>ham</td>\n",
       "      <td>Nah I don't think he goes to usf, he lives aro...</td>\n",
       "      <td>61</td>\n",
       "      <td>0</td>\n",
       "      <td>0</td>\n",
       "      <td>0</td>\n",
       "      <td>2</td>\n",
       "      <td>45</td>\n",
       "    </tr>\n",
       "    <tr>\n",
       "      <th>...</th>\n",
       "      <td>...</td>\n",
       "      <td>...</td>\n",
       "      <td>...</td>\n",
       "      <td>...</td>\n",
       "      <td>...</td>\n",
       "      <td>...</td>\n",
       "      <td>...</td>\n",
       "      <td>...</td>\n",
       "    </tr>\n",
       "    <tr>\n",
       "      <th>5567</th>\n",
       "      <td>spam</td>\n",
       "      <td>This is the 2nd time we have tried 2 contact u...</td>\n",
       "      <td>161</td>\n",
       "      <td>0</td>\n",
       "      <td>0</td>\n",
       "      <td>0</td>\n",
       "      <td>9</td>\n",
       "      <td>92</td>\n",
       "    </tr>\n",
       "    <tr>\n",
       "      <th>5568</th>\n",
       "      <td>ham</td>\n",
       "      <td>Will Ì_ b going to esplanade fr home?</td>\n",
       "      <td>37</td>\n",
       "      <td>0</td>\n",
       "      <td>0</td>\n",
       "      <td>0</td>\n",
       "      <td>1</td>\n",
       "      <td>26</td>\n",
       "    </tr>\n",
       "    <tr>\n",
       "      <th>5569</th>\n",
       "      <td>ham</td>\n",
       "      <td>Pity, * was in mood for that. So...any other s...</td>\n",
       "      <td>57</td>\n",
       "      <td>0</td>\n",
       "      <td>0</td>\n",
       "      <td>0</td>\n",
       "      <td>2</td>\n",
       "      <td>39</td>\n",
       "    </tr>\n",
       "    <tr>\n",
       "      <th>5570</th>\n",
       "      <td>ham</td>\n",
       "      <td>The guy did some bitching but I acted like i'd...</td>\n",
       "      <td>125</td>\n",
       "      <td>0</td>\n",
       "      <td>0</td>\n",
       "      <td>0</td>\n",
       "      <td>2</td>\n",
       "      <td>97</td>\n",
       "    </tr>\n",
       "    <tr>\n",
       "      <th>5571</th>\n",
       "      <td>ham</td>\n",
       "      <td>Rofl. Its true to its name</td>\n",
       "      <td>26</td>\n",
       "      <td>0</td>\n",
       "      <td>0</td>\n",
       "      <td>0</td>\n",
       "      <td>2</td>\n",
       "      <td>18</td>\n",
       "    </tr>\n",
       "  </tbody>\n",
       "</table>\n",
       "<p>5572 rows × 8 columns</p>\n",
       "</div>"
      ],
      "text/plain": [
       "     label                                                sms  length  \\\n",
       "0      ham  Go until jurong point, crazy.. Available only ...     111   \n",
       "1      ham                      Ok lar... Joking wif u oni...      29   \n",
       "2     spam  Free entry in 2 a wkly comp to win FA Cup fina...     155   \n",
       "3      ham  U dun say so early hor... U c already then say...      49   \n",
       "4      ham  Nah I don't think he goes to usf, he lives aro...      61   \n",
       "...    ...                                                ...     ...   \n",
       "5567  spam  This is the 2nd time we have tried 2 contact u...     161   \n",
       "5568   ham              Will Ì_ b going to esplanade fr home?      37   \n",
       "5569   ham  Pity, * was in mood for that. So...any other s...      57   \n",
       "5570   ham  The guy did some bitching but I acted like i'd...     125   \n",
       "5571   ham                         Rofl. Its true to its name      26   \n",
       "\n",
       "      spam_word  amount_url  phone_number  Uppercase  Lowercase  \n",
       "0             0           0             0          3         80  \n",
       "1             0           0             0          2         16  \n",
       "2             0           0             2         10         87  \n",
       "3             0           0             0          2         31  \n",
       "4             0           0             0          2         45  \n",
       "...         ...         ...           ...        ...        ...  \n",
       "5567          0           0             0          9         92  \n",
       "5568          0           0             0          1         26  \n",
       "5569          0           0             0          2         39  \n",
       "5570          0           0             0          2         97  \n",
       "5571          0           0             0          2         18  \n",
       "\n",
       "[5572 rows x 8 columns]"
      ]
     },
     "execution_count": 146,
     "metadata": {},
     "output_type": "execute_result"
    }
   ],
   "source": [
    "v = dfn.sms.values.astype(str)\n",
    "v = v.view(np.uint8).reshape(len(dfn), -1)\n",
    "\n",
    "dfn['Uppercase'] = ((v >= 65) & (v <= 90)).sum(1)\n",
    "dfn['Lowercase'] = ((v >= 97) & (v <= 122)).sum(1)\n",
    "dfn"
   ]
  },
  {
   "cell_type": "markdown",
   "id": "87987021",
   "metadata": {},
   "source": [
    "#### Nombre majuscule et minuscule dans les spams"
   ]
  },
  {
   "cell_type": "code",
   "execution_count": 147,
   "id": "afd9cf9f",
   "metadata": {},
   "outputs": [
    {
     "data": {
      "text/html": [
       "<div>\n",
       "<style scoped>\n",
       "    .dataframe tbody tr th:only-of-type {\n",
       "        vertical-align: middle;\n",
       "    }\n",
       "\n",
       "    .dataframe tbody tr th {\n",
       "        vertical-align: top;\n",
       "    }\n",
       "\n",
       "    .dataframe thead th {\n",
       "        text-align: right;\n",
       "    }\n",
       "</style>\n",
       "<table border=\"1\" class=\"dataframe\">\n",
       "  <thead>\n",
       "    <tr style=\"text-align: right;\">\n",
       "      <th></th>\n",
       "      <th>label</th>\n",
       "      <th>sms</th>\n",
       "      <th>length</th>\n",
       "      <th>spam_word</th>\n",
       "      <th>amount_url</th>\n",
       "      <th>phone_number</th>\n",
       "      <th>Uppercase</th>\n",
       "      <th>Lowercase</th>\n",
       "    </tr>\n",
       "  </thead>\n",
       "  <tbody>\n",
       "    <tr>\n",
       "      <th>2</th>\n",
       "      <td>spam</td>\n",
       "      <td>Free entry in 2 a wkly comp to win FA Cup fina...</td>\n",
       "      <td>155</td>\n",
       "      <td>0</td>\n",
       "      <td>0</td>\n",
       "      <td>2</td>\n",
       "      <td>10</td>\n",
       "      <td>87</td>\n",
       "    </tr>\n",
       "    <tr>\n",
       "      <th>5</th>\n",
       "      <td>spam</td>\n",
       "      <td>FreeMsg Hey there darling it's been 3 week's n...</td>\n",
       "      <td>148</td>\n",
       "      <td>0</td>\n",
       "      <td>0</td>\n",
       "      <td>0</td>\n",
       "      <td>7</td>\n",
       "      <td>96</td>\n",
       "    </tr>\n",
       "    <tr>\n",
       "      <th>8</th>\n",
       "      <td>spam</td>\n",
       "      <td>WINNER!! As a valued network customer you have...</td>\n",
       "      <td>158</td>\n",
       "      <td>0</td>\n",
       "      <td>0</td>\n",
       "      <td>1</td>\n",
       "      <td>12</td>\n",
       "      <td>94</td>\n",
       "    </tr>\n",
       "    <tr>\n",
       "      <th>9</th>\n",
       "      <td>spam</td>\n",
       "      <td>Had your mobile 11 months or more? U R entitle...</td>\n",
       "      <td>154</td>\n",
       "      <td>0</td>\n",
       "      <td>0</td>\n",
       "      <td>1</td>\n",
       "      <td>14</td>\n",
       "      <td>97</td>\n",
       "    </tr>\n",
       "    <tr>\n",
       "      <th>11</th>\n",
       "      <td>spam</td>\n",
       "      <td>SIX chances to win CASH! From 100 to 20,000 po...</td>\n",
       "      <td>136</td>\n",
       "      <td>0</td>\n",
       "      <td>0</td>\n",
       "      <td>1</td>\n",
       "      <td>17</td>\n",
       "      <td>64</td>\n",
       "    </tr>\n",
       "    <tr>\n",
       "      <th>...</th>\n",
       "      <td>...</td>\n",
       "      <td>...</td>\n",
       "      <td>...</td>\n",
       "      <td>...</td>\n",
       "      <td>...</td>\n",
       "      <td>...</td>\n",
       "      <td>...</td>\n",
       "      <td>...</td>\n",
       "    </tr>\n",
       "    <tr>\n",
       "      <th>5537</th>\n",
       "      <td>spam</td>\n",
       "      <td>Want explicit SEX in 30 secs? Ring 02073162414...</td>\n",
       "      <td>90</td>\n",
       "      <td>0</td>\n",
       "      <td>0</td>\n",
       "      <td>1</td>\n",
       "      <td>17</td>\n",
       "      <td>34</td>\n",
       "    </tr>\n",
       "    <tr>\n",
       "      <th>5540</th>\n",
       "      <td>spam</td>\n",
       "      <td>ASKED 3MOBILE IF 0870 CHATLINES INCLU IN FREE ...</td>\n",
       "      <td>160</td>\n",
       "      <td>0</td>\n",
       "      <td>0</td>\n",
       "      <td>0</td>\n",
       "      <td>104</td>\n",
       "      <td>1</td>\n",
       "    </tr>\n",
       "    <tr>\n",
       "      <th>5547</th>\n",
       "      <td>spam</td>\n",
       "      <td>Had your contract mobile 11 Mnths? Latest Moto...</td>\n",
       "      <td>160</td>\n",
       "      <td>0</td>\n",
       "      <td>0</td>\n",
       "      <td>0</td>\n",
       "      <td>20</td>\n",
       "      <td>103</td>\n",
       "    </tr>\n",
       "    <tr>\n",
       "      <th>5566</th>\n",
       "      <td>spam</td>\n",
       "      <td>REMINDER FROM O2: To get 2.50 pounds free call...</td>\n",
       "      <td>147</td>\n",
       "      <td>0</td>\n",
       "      <td>0</td>\n",
       "      <td>0</td>\n",
       "      <td>14</td>\n",
       "      <td>98</td>\n",
       "    </tr>\n",
       "    <tr>\n",
       "      <th>5567</th>\n",
       "      <td>spam</td>\n",
       "      <td>This is the 2nd time we have tried 2 contact u...</td>\n",
       "      <td>161</td>\n",
       "      <td>0</td>\n",
       "      <td>0</td>\n",
       "      <td>0</td>\n",
       "      <td>9</td>\n",
       "      <td>92</td>\n",
       "    </tr>\n",
       "  </tbody>\n",
       "</table>\n",
       "<p>747 rows × 8 columns</p>\n",
       "</div>"
      ],
      "text/plain": [
       "     label                                                sms  length  \\\n",
       "2     spam  Free entry in 2 a wkly comp to win FA Cup fina...     155   \n",
       "5     spam  FreeMsg Hey there darling it's been 3 week's n...     148   \n",
       "8     spam  WINNER!! As a valued network customer you have...     158   \n",
       "9     spam  Had your mobile 11 months or more? U R entitle...     154   \n",
       "11    spam  SIX chances to win CASH! From 100 to 20,000 po...     136   \n",
       "...    ...                                                ...     ...   \n",
       "5537  spam  Want explicit SEX in 30 secs? Ring 02073162414...      90   \n",
       "5540  spam  ASKED 3MOBILE IF 0870 CHATLINES INCLU IN FREE ...     160   \n",
       "5547  spam  Had your contract mobile 11 Mnths? Latest Moto...     160   \n",
       "5566  spam  REMINDER FROM O2: To get 2.50 pounds free call...     147   \n",
       "5567  spam  This is the 2nd time we have tried 2 contact u...     161   \n",
       "\n",
       "      spam_word  amount_url  phone_number  Uppercase  Lowercase  \n",
       "2             0           0             2         10         87  \n",
       "5             0           0             0          7         96  \n",
       "8             0           0             1         12         94  \n",
       "9             0           0             1         14         97  \n",
       "11            0           0             1         17         64  \n",
       "...         ...         ...           ...        ...        ...  \n",
       "5537          0           0             1         17         34  \n",
       "5540          0           0             0        104          1  \n",
       "5547          0           0             0         20        103  \n",
       "5566          0           0             0         14         98  \n",
       "5567          0           0             0          9         92  \n",
       "\n",
       "[747 rows x 8 columns]"
      ]
     },
     "execution_count": 147,
     "metadata": {},
     "output_type": "execute_result"
    }
   ],
   "source": [
    "spamUL = dfn.loc[dfn.label=='spam']\n",
    "spamUL"
   ]
  },
  {
   "cell_type": "code",
   "execution_count": 148,
   "id": "29eb7b22",
   "metadata": {},
   "outputs": [],
   "source": [
    "#dfn.sms.tolist()"
   ]
  },
  {
   "cell_type": "code",
   "execution_count": 149,
   "id": "8a407512",
   "metadata": {},
   "outputs": [
    {
     "name": "stdout",
     "output_type": "stream",
     "text": [
      "Nombre de majuscule et minuscule\n",
      "Uppercase    15.428380\n",
      "Lowercase    78.178046\n",
      "dtype: float64\n",
      "\n",
      "moyenne majuscule\n",
      "Uppercase    15.42838\n",
      "dtype: float64\n",
      "\n",
      "moyenne longueur\n",
      "length    138.866131\n",
      "dtype: float64\n",
      "\n",
      "La proportion moyenne de majuscule dans les spams: 10\n"
     ]
    }
   ],
   "source": [
    "#-----------------------------------------------------------\n",
    "print('Nombre de majuscule et minuscule')\n",
    "hamUL_mean = spamUL[[\"Uppercase\", \"Lowercase\"]].mean()\n",
    "print(hamUL_mean)\n",
    "#-----------------------------------------------------------\n",
    "print('\\nmoyenne majuscule')\n",
    "spamUL_mean = spamUL[[\"Uppercase\"]].mean()\n",
    "print(spamUL_mean)\n",
    "#----------------------------------------------------------\n",
    "print('\\nmoyenne longueur')\n",
    "lenghtUL_mean = spamUL[[\"length\"]].mean()\n",
    "print(lenghtUL_mean)\n",
    "#-----------------------------------------------------------\n",
    "#calcul proportion\n",
    "lg =lenghtUL_mean\n",
    "u = spamUL_mean\n",
    "results = (int(u)*100)/int(lg)\n",
    "print('')\n",
    "print('La proportion moyenne de majuscule dans les spams:', int(results))"
   ]
  },
  {
   "cell_type": "markdown",
   "id": "2171640d",
   "metadata": {},
   "source": [
    "#### Nombre majuscule et minuscule dans les hams"
   ]
  },
  {
   "cell_type": "code",
   "execution_count": 150,
   "id": "a15ee979",
   "metadata": {},
   "outputs": [
    {
     "data": {
      "text/html": [
       "<div>\n",
       "<style scoped>\n",
       "    .dataframe tbody tr th:only-of-type {\n",
       "        vertical-align: middle;\n",
       "    }\n",
       "\n",
       "    .dataframe tbody tr th {\n",
       "        vertical-align: top;\n",
       "    }\n",
       "\n",
       "    .dataframe thead th {\n",
       "        text-align: right;\n",
       "    }\n",
       "</style>\n",
       "<table border=\"1\" class=\"dataframe\">\n",
       "  <thead>\n",
       "    <tr style=\"text-align: right;\">\n",
       "      <th></th>\n",
       "      <th>label</th>\n",
       "      <th>sms</th>\n",
       "      <th>length</th>\n",
       "      <th>spam_word</th>\n",
       "      <th>amount_url</th>\n",
       "      <th>phone_number</th>\n",
       "      <th>Uppercase</th>\n",
       "      <th>Lowercase</th>\n",
       "    </tr>\n",
       "  </thead>\n",
       "  <tbody>\n",
       "    <tr>\n",
       "      <th>0</th>\n",
       "      <td>ham</td>\n",
       "      <td>Go until jurong point, crazy.. Available only ...</td>\n",
       "      <td>111</td>\n",
       "      <td>0</td>\n",
       "      <td>0</td>\n",
       "      <td>0</td>\n",
       "      <td>3</td>\n",
       "      <td>80</td>\n",
       "    </tr>\n",
       "    <tr>\n",
       "      <th>1</th>\n",
       "      <td>ham</td>\n",
       "      <td>Ok lar... Joking wif u oni...</td>\n",
       "      <td>29</td>\n",
       "      <td>0</td>\n",
       "      <td>0</td>\n",
       "      <td>0</td>\n",
       "      <td>2</td>\n",
       "      <td>16</td>\n",
       "    </tr>\n",
       "    <tr>\n",
       "      <th>3</th>\n",
       "      <td>ham</td>\n",
       "      <td>U dun say so early hor... U c already then say...</td>\n",
       "      <td>49</td>\n",
       "      <td>0</td>\n",
       "      <td>0</td>\n",
       "      <td>0</td>\n",
       "      <td>2</td>\n",
       "      <td>31</td>\n",
       "    </tr>\n",
       "    <tr>\n",
       "      <th>4</th>\n",
       "      <td>ham</td>\n",
       "      <td>Nah I don't think he goes to usf, he lives aro...</td>\n",
       "      <td>61</td>\n",
       "      <td>0</td>\n",
       "      <td>0</td>\n",
       "      <td>0</td>\n",
       "      <td>2</td>\n",
       "      <td>45</td>\n",
       "    </tr>\n",
       "    <tr>\n",
       "      <th>6</th>\n",
       "      <td>ham</td>\n",
       "      <td>Even my brother is not like to speak with me. ...</td>\n",
       "      <td>77</td>\n",
       "      <td>0</td>\n",
       "      <td>0</td>\n",
       "      <td>0</td>\n",
       "      <td>2</td>\n",
       "      <td>58</td>\n",
       "    </tr>\n",
       "    <tr>\n",
       "      <th>...</th>\n",
       "      <td>...</td>\n",
       "      <td>...</td>\n",
       "      <td>...</td>\n",
       "      <td>...</td>\n",
       "      <td>...</td>\n",
       "      <td>...</td>\n",
       "      <td>...</td>\n",
       "      <td>...</td>\n",
       "    </tr>\n",
       "    <tr>\n",
       "      <th>5565</th>\n",
       "      <td>ham</td>\n",
       "      <td>Huh y lei...</td>\n",
       "      <td>12</td>\n",
       "      <td>0</td>\n",
       "      <td>0</td>\n",
       "      <td>0</td>\n",
       "      <td>1</td>\n",
       "      <td>6</td>\n",
       "    </tr>\n",
       "    <tr>\n",
       "      <th>5568</th>\n",
       "      <td>ham</td>\n",
       "      <td>Will Ì_ b going to esplanade fr home?</td>\n",
       "      <td>37</td>\n",
       "      <td>0</td>\n",
       "      <td>0</td>\n",
       "      <td>0</td>\n",
       "      <td>1</td>\n",
       "      <td>26</td>\n",
       "    </tr>\n",
       "    <tr>\n",
       "      <th>5569</th>\n",
       "      <td>ham</td>\n",
       "      <td>Pity, * was in mood for that. So...any other s...</td>\n",
       "      <td>57</td>\n",
       "      <td>0</td>\n",
       "      <td>0</td>\n",
       "      <td>0</td>\n",
       "      <td>2</td>\n",
       "      <td>39</td>\n",
       "    </tr>\n",
       "    <tr>\n",
       "      <th>5570</th>\n",
       "      <td>ham</td>\n",
       "      <td>The guy did some bitching but I acted like i'd...</td>\n",
       "      <td>125</td>\n",
       "      <td>0</td>\n",
       "      <td>0</td>\n",
       "      <td>0</td>\n",
       "      <td>2</td>\n",
       "      <td>97</td>\n",
       "    </tr>\n",
       "    <tr>\n",
       "      <th>5571</th>\n",
       "      <td>ham</td>\n",
       "      <td>Rofl. Its true to its name</td>\n",
       "      <td>26</td>\n",
       "      <td>0</td>\n",
       "      <td>0</td>\n",
       "      <td>0</td>\n",
       "      <td>2</td>\n",
       "      <td>18</td>\n",
       "    </tr>\n",
       "  </tbody>\n",
       "</table>\n",
       "<p>4825 rows × 8 columns</p>\n",
       "</div>"
      ],
      "text/plain": [
       "     label                                                sms  length  \\\n",
       "0      ham  Go until jurong point, crazy.. Available only ...     111   \n",
       "1      ham                      Ok lar... Joking wif u oni...      29   \n",
       "3      ham  U dun say so early hor... U c already then say...      49   \n",
       "4      ham  Nah I don't think he goes to usf, he lives aro...      61   \n",
       "6      ham  Even my brother is not like to speak with me. ...      77   \n",
       "...    ...                                                ...     ...   \n",
       "5565   ham                                       Huh y lei...      12   \n",
       "5568   ham              Will Ì_ b going to esplanade fr home?      37   \n",
       "5569   ham  Pity, * was in mood for that. So...any other s...      57   \n",
       "5570   ham  The guy did some bitching but I acted like i'd...     125   \n",
       "5571   ham                         Rofl. Its true to its name      26   \n",
       "\n",
       "      spam_word  amount_url  phone_number  Uppercase  Lowercase  \n",
       "0             0           0             0          3         80  \n",
       "1             0           0             0          2         16  \n",
       "3             0           0             0          2         31  \n",
       "4             0           0             0          2         45  \n",
       "6             0           0             0          2         58  \n",
       "...         ...         ...           ...        ...        ...  \n",
       "5565          0           0             0          1          6  \n",
       "5568          0           0             0          1         26  \n",
       "5569          0           0             0          2         39  \n",
       "5570          0           0             0          2         97  \n",
       "5571          0           0             0          2         18  \n",
       "\n",
       "[4825 rows x 8 columns]"
      ]
     },
     "execution_count": 150,
     "metadata": {},
     "output_type": "execute_result"
    }
   ],
   "source": [
    "hamUL = dfn.loc[dfn.label=='ham']\n",
    "hamUL"
   ]
  },
  {
   "cell_type": "code",
   "execution_count": 151,
   "id": "e4c223a2",
   "metadata": {},
   "outputs": [
    {
     "data": {
      "text/plain": [
       "Uppercase     3.961036\n",
       "Lowercase    49.355233\n",
       "dtype: float64"
      ]
     },
     "execution_count": 151,
     "metadata": {},
     "output_type": "execute_result"
    }
   ],
   "source": [
    "hamUL_mean = hamUL[[\"Uppercase\", \"Lowercase\"]].mean()\n",
    "hamUL_mean"
   ]
  },
  {
   "cell_type": "code",
   "execution_count": 152,
   "id": "6bbcb69f",
   "metadata": {},
   "outputs": [
    {
     "name": "stdout",
     "output_type": "stream",
     "text": [
      "Nombre majuscule et minuscule\n",
      "Uppercase     3.961036\n",
      "Lowercase    49.355233\n",
      "dtype: float64\n",
      "\n",
      "moyenne majuscule\n",
      "Uppercase    3.961036\n",
      "dtype: float64\n",
      "\n",
      "moyenne longueur\n",
      "length    71.023627\n",
      "dtype: float64\n",
      "La proportion moyenne de majuscule: 4\n"
     ]
    }
   ],
   "source": [
    "#-------------------------------------------------------\n",
    "print('Nombre majuscule et minuscule')\n",
    "hamUL_mean = hamUL[[\"Uppercase\", \"Lowercase\"]].mean()\n",
    "print(hamUL_mean)\n",
    "#calcul moyenne majuscule\n",
    "print('\\nmoyenne majuscule')\n",
    "hamUL_mean = hamUL[[\"Uppercase\"]].mean()\n",
    "print(hamUL_mean)\n",
    "#-------------------------------------------------------\n",
    "#calcul moyen d'un message\n",
    "print('\\nmoyenne longueur')\n",
    "lenghtHUL_mean = hamUL[[\"length\"]].mean()\n",
    "print(lenghtHUL_mean)\n",
    "#---------------------------------------------------------\n",
    "#Calcul de la proportion de majuscule dans un message\n",
    "lg1 =lenghtHUL_mean\n",
    "u1 = hamUL_mean\n",
    "results = (int(u1)*100)/int(lg1)\n",
    "print('La proportion moyenne de majuscule:', int(results))"
   ]
  },
  {
   "cell_type": "markdown",
   "id": "2c27462c",
   "metadata": {},
   "source": [
    "On remarque que la proportion moyenne de majuscule est plus élevée dans les spams. Cela confirme l'intéret de notre feature dans le dataframe. "
   ]
  },
  {
   "cell_type": "markdown",
   "id": "bd2e726b",
   "metadata": {},
   "source": [
    "### Feature6: Les caractères speciaux."
   ]
  },
  {
   "cell_type": "markdown",
   "id": "9a8eddf8",
   "metadata": {},
   "source": [
    "Dans cette partie nous allons compter le nombre de caractères speciaux dans les sms. Pour cela on Utilise une petite boucle qui va chercher une liste de caractère dans tous les sms."
   ]
  },
  {
   "cell_type": "code",
   "execution_count": 153,
   "id": "27b3cafe",
   "metadata": {},
   "outputs": [],
   "source": [
    "import numpy as np\n",
    "\n",
    "def count_special_char(str):\n",
    "    count = 0\n",
    "    for i in range (0, len (str)):   \n",
    "     #Checks whether given character is a punctuation mark  \n",
    "        if str[i] in ('!' ,\"\\'\" ,\"\\\"\",\"-\" ,\"$\", \"£\",\"?\",\"#\", \"%\",\"_\",\"*\",\"=\", \"&\", \"'\", \":\",\"+\"):  \n",
    "            count = count + 1;  \n",
    "            #print(count)\n",
    "    return count\n",
    "#print (count); \n",
    "dfn[\"special_char\"]=dfn.sms.apply(count_special_char)\n",
    "#dfn\n",
    "#str = \"Good Morning! Mr. James Potter. Had your breakfast?\"\n"
   ]
  },
  {
   "cell_type": "code",
   "execution_count": 154,
   "id": "269501ad",
   "metadata": {},
   "outputs": [
    {
     "data": {
      "text/html": [
       "<div>\n",
       "<style scoped>\n",
       "    .dataframe tbody tr th:only-of-type {\n",
       "        vertical-align: middle;\n",
       "    }\n",
       "\n",
       "    .dataframe tbody tr th {\n",
       "        vertical-align: top;\n",
       "    }\n",
       "\n",
       "    .dataframe thead th {\n",
       "        text-align: right;\n",
       "    }\n",
       "</style>\n",
       "<table border=\"1\" class=\"dataframe\">\n",
       "  <thead>\n",
       "    <tr style=\"text-align: right;\">\n",
       "      <th></th>\n",
       "      <th>label</th>\n",
       "      <th>sms</th>\n",
       "      <th>length</th>\n",
       "      <th>spam_word</th>\n",
       "      <th>amount_url</th>\n",
       "      <th>phone_number</th>\n",
       "      <th>Uppercase</th>\n",
       "      <th>Lowercase</th>\n",
       "      <th>special_char</th>\n",
       "    </tr>\n",
       "  </thead>\n",
       "  <tbody>\n",
       "    <tr>\n",
       "      <th>0</th>\n",
       "      <td>ham</td>\n",
       "      <td>Go until jurong point, crazy.. Available only ...</td>\n",
       "      <td>111</td>\n",
       "      <td>0</td>\n",
       "      <td>0</td>\n",
       "      <td>0</td>\n",
       "      <td>3</td>\n",
       "      <td>80</td>\n",
       "      <td>0</td>\n",
       "    </tr>\n",
       "    <tr>\n",
       "      <th>1</th>\n",
       "      <td>ham</td>\n",
       "      <td>Ok lar... Joking wif u oni...</td>\n",
       "      <td>29</td>\n",
       "      <td>0</td>\n",
       "      <td>0</td>\n",
       "      <td>0</td>\n",
       "      <td>2</td>\n",
       "      <td>16</td>\n",
       "      <td>0</td>\n",
       "    </tr>\n",
       "    <tr>\n",
       "      <th>2</th>\n",
       "      <td>spam</td>\n",
       "      <td>Free entry in 2 a wkly comp to win FA Cup fina...</td>\n",
       "      <td>155</td>\n",
       "      <td>0</td>\n",
       "      <td>0</td>\n",
       "      <td>2</td>\n",
       "      <td>10</td>\n",
       "      <td>87</td>\n",
       "      <td>3</td>\n",
       "    </tr>\n",
       "    <tr>\n",
       "      <th>3</th>\n",
       "      <td>ham</td>\n",
       "      <td>U dun say so early hor... U c already then say...</td>\n",
       "      <td>49</td>\n",
       "      <td>0</td>\n",
       "      <td>0</td>\n",
       "      <td>0</td>\n",
       "      <td>2</td>\n",
       "      <td>31</td>\n",
       "      <td>0</td>\n",
       "    </tr>\n",
       "    <tr>\n",
       "      <th>4</th>\n",
       "      <td>ham</td>\n",
       "      <td>Nah I don't think he goes to usf, he lives aro...</td>\n",
       "      <td>61</td>\n",
       "      <td>0</td>\n",
       "      <td>0</td>\n",
       "      <td>0</td>\n",
       "      <td>2</td>\n",
       "      <td>45</td>\n",
       "      <td>1</td>\n",
       "    </tr>\n",
       "    <tr>\n",
       "      <th>...</th>\n",
       "      <td>...</td>\n",
       "      <td>...</td>\n",
       "      <td>...</td>\n",
       "      <td>...</td>\n",
       "      <td>...</td>\n",
       "      <td>...</td>\n",
       "      <td>...</td>\n",
       "      <td>...</td>\n",
       "      <td>...</td>\n",
       "    </tr>\n",
       "    <tr>\n",
       "      <th>5567</th>\n",
       "      <td>spam</td>\n",
       "      <td>This is the 2nd time we have tried 2 contact u...</td>\n",
       "      <td>161</td>\n",
       "      <td>0</td>\n",
       "      <td>0</td>\n",
       "      <td>0</td>\n",
       "      <td>9</td>\n",
       "      <td>92</td>\n",
       "      <td>4</td>\n",
       "    </tr>\n",
       "    <tr>\n",
       "      <th>5568</th>\n",
       "      <td>ham</td>\n",
       "      <td>Will Ì_ b going to esplanade fr home?</td>\n",
       "      <td>37</td>\n",
       "      <td>0</td>\n",
       "      <td>0</td>\n",
       "      <td>0</td>\n",
       "      <td>1</td>\n",
       "      <td>26</td>\n",
       "      <td>2</td>\n",
       "    </tr>\n",
       "    <tr>\n",
       "      <th>5569</th>\n",
       "      <td>ham</td>\n",
       "      <td>Pity, * was in mood for that. So...any other s...</td>\n",
       "      <td>57</td>\n",
       "      <td>0</td>\n",
       "      <td>0</td>\n",
       "      <td>0</td>\n",
       "      <td>2</td>\n",
       "      <td>39</td>\n",
       "      <td>2</td>\n",
       "    </tr>\n",
       "    <tr>\n",
       "      <th>5570</th>\n",
       "      <td>ham</td>\n",
       "      <td>The guy did some bitching but I acted like i'd...</td>\n",
       "      <td>125</td>\n",
       "      <td>0</td>\n",
       "      <td>0</td>\n",
       "      <td>0</td>\n",
       "      <td>2</td>\n",
       "      <td>97</td>\n",
       "      <td>1</td>\n",
       "    </tr>\n",
       "    <tr>\n",
       "      <th>5571</th>\n",
       "      <td>ham</td>\n",
       "      <td>Rofl. Its true to its name</td>\n",
       "      <td>26</td>\n",
       "      <td>0</td>\n",
       "      <td>0</td>\n",
       "      <td>0</td>\n",
       "      <td>2</td>\n",
       "      <td>18</td>\n",
       "      <td>0</td>\n",
       "    </tr>\n",
       "  </tbody>\n",
       "</table>\n",
       "<p>5572 rows × 9 columns</p>\n",
       "</div>"
      ],
      "text/plain": [
       "     label                                                sms  length  \\\n",
       "0      ham  Go until jurong point, crazy.. Available only ...     111   \n",
       "1      ham                      Ok lar... Joking wif u oni...      29   \n",
       "2     spam  Free entry in 2 a wkly comp to win FA Cup fina...     155   \n",
       "3      ham  U dun say so early hor... U c already then say...      49   \n",
       "4      ham  Nah I don't think he goes to usf, he lives aro...      61   \n",
       "...    ...                                                ...     ...   \n",
       "5567  spam  This is the 2nd time we have tried 2 contact u...     161   \n",
       "5568   ham              Will Ì_ b going to esplanade fr home?      37   \n",
       "5569   ham  Pity, * was in mood for that. So...any other s...      57   \n",
       "5570   ham  The guy did some bitching but I acted like i'd...     125   \n",
       "5571   ham                         Rofl. Its true to its name      26   \n",
       "\n",
       "      spam_word  amount_url  phone_number  Uppercase  Lowercase  special_char  \n",
       "0             0           0             0          3         80             0  \n",
       "1             0           0             0          2         16             0  \n",
       "2             0           0             2         10         87             3  \n",
       "3             0           0             0          2         31             0  \n",
       "4             0           0             0          2         45             1  \n",
       "...         ...         ...           ...        ...        ...           ...  \n",
       "5567          0           0             0          9         92             4  \n",
       "5568          0           0             0          1         26             2  \n",
       "5569          0           0             0          2         39             2  \n",
       "5570          0           0             0          2         97             1  \n",
       "5571          0           0             0          2         18             0  \n",
       "\n",
       "[5572 rows x 9 columns]"
      ]
     },
     "execution_count": 154,
     "metadata": {},
     "output_type": "execute_result"
    }
   ],
   "source": [
    "dfn"
   ]
  },
  {
   "cell_type": "code",
   "execution_count": 155,
   "id": "6607ed62",
   "metadata": {},
   "outputs": [
    {
     "data": {
      "text/html": [
       "<div>\n",
       "<style scoped>\n",
       "    .dataframe tbody tr th:only-of-type {\n",
       "        vertical-align: middle;\n",
       "    }\n",
       "\n",
       "    .dataframe tbody tr th {\n",
       "        vertical-align: top;\n",
       "    }\n",
       "\n",
       "    .dataframe thead th {\n",
       "        text-align: right;\n",
       "    }\n",
       "</style>\n",
       "<table border=\"1\" class=\"dataframe\">\n",
       "  <thead>\n",
       "    <tr style=\"text-align: right;\">\n",
       "      <th></th>\n",
       "      <th>label</th>\n",
       "      <th>sms</th>\n",
       "      <th>length</th>\n",
       "      <th>spam_word</th>\n",
       "      <th>amount_url</th>\n",
       "      <th>phone_number</th>\n",
       "      <th>Uppercase</th>\n",
       "      <th>Lowercase</th>\n",
       "      <th>special_char</th>\n",
       "    </tr>\n",
       "  </thead>\n",
       "  <tbody>\n",
       "    <tr>\n",
       "      <th>2</th>\n",
       "      <td>spam</td>\n",
       "      <td>Free entry in 2 a wkly comp to win FA Cup fina...</td>\n",
       "      <td>155</td>\n",
       "      <td>0</td>\n",
       "      <td>0</td>\n",
       "      <td>2</td>\n",
       "      <td>10</td>\n",
       "      <td>87</td>\n",
       "      <td>3</td>\n",
       "    </tr>\n",
       "    <tr>\n",
       "      <th>5</th>\n",
       "      <td>spam</td>\n",
       "      <td>FreeMsg Hey there darling it's been 3 week's n...</td>\n",
       "      <td>148</td>\n",
       "      <td>0</td>\n",
       "      <td>0</td>\n",
       "      <td>0</td>\n",
       "      <td>7</td>\n",
       "      <td>96</td>\n",
       "      <td>7</td>\n",
       "    </tr>\n",
       "    <tr>\n",
       "      <th>8</th>\n",
       "      <td>spam</td>\n",
       "      <td>WINNER!! As a valued network customer you have...</td>\n",
       "      <td>158</td>\n",
       "      <td>0</td>\n",
       "      <td>0</td>\n",
       "      <td>1</td>\n",
       "      <td>12</td>\n",
       "      <td>94</td>\n",
       "      <td>4</td>\n",
       "    </tr>\n",
       "    <tr>\n",
       "      <th>9</th>\n",
       "      <td>spam</td>\n",
       "      <td>Had your mobile 11 months or more? U R entitle...</td>\n",
       "      <td>154</td>\n",
       "      <td>0</td>\n",
       "      <td>0</td>\n",
       "      <td>1</td>\n",
       "      <td>14</td>\n",
       "      <td>97</td>\n",
       "      <td>2</td>\n",
       "    </tr>\n",
       "    <tr>\n",
       "      <th>11</th>\n",
       "      <td>spam</td>\n",
       "      <td>SIX chances to win CASH! From 100 to 20,000 po...</td>\n",
       "      <td>136</td>\n",
       "      <td>0</td>\n",
       "      <td>0</td>\n",
       "      <td>1</td>\n",
       "      <td>17</td>\n",
       "      <td>64</td>\n",
       "      <td>2</td>\n",
       "    </tr>\n",
       "    <tr>\n",
       "      <th>...</th>\n",
       "      <td>...</td>\n",
       "      <td>...</td>\n",
       "      <td>...</td>\n",
       "      <td>...</td>\n",
       "      <td>...</td>\n",
       "      <td>...</td>\n",
       "      <td>...</td>\n",
       "      <td>...</td>\n",
       "      <td>...</td>\n",
       "    </tr>\n",
       "    <tr>\n",
       "      <th>5537</th>\n",
       "      <td>spam</td>\n",
       "      <td>Want explicit SEX in 30 secs? Ring 02073162414...</td>\n",
       "      <td>90</td>\n",
       "      <td>0</td>\n",
       "      <td>0</td>\n",
       "      <td>1</td>\n",
       "      <td>17</td>\n",
       "      <td>34</td>\n",
       "      <td>2</td>\n",
       "    </tr>\n",
       "    <tr>\n",
       "      <th>5540</th>\n",
       "      <td>spam</td>\n",
       "      <td>ASKED 3MOBILE IF 0870 CHATLINES INCLU IN FREE ...</td>\n",
       "      <td>160</td>\n",
       "      <td>0</td>\n",
       "      <td>0</td>\n",
       "      <td>0</td>\n",
       "      <td>104</td>\n",
       "      <td>1</td>\n",
       "      <td>2</td>\n",
       "    </tr>\n",
       "    <tr>\n",
       "      <th>5547</th>\n",
       "      <td>spam</td>\n",
       "      <td>Had your contract mobile 11 Mnths? Latest Moto...</td>\n",
       "      <td>160</td>\n",
       "      <td>0</td>\n",
       "      <td>0</td>\n",
       "      <td>0</td>\n",
       "      <td>20</td>\n",
       "      <td>103</td>\n",
       "      <td>3</td>\n",
       "    </tr>\n",
       "    <tr>\n",
       "      <th>5566</th>\n",
       "      <td>spam</td>\n",
       "      <td>REMINDER FROM O2: To get 2.50 pounds free call...</td>\n",
       "      <td>147</td>\n",
       "      <td>0</td>\n",
       "      <td>0</td>\n",
       "      <td>0</td>\n",
       "      <td>14</td>\n",
       "      <td>98</td>\n",
       "      <td>1</td>\n",
       "    </tr>\n",
       "    <tr>\n",
       "      <th>5567</th>\n",
       "      <td>spam</td>\n",
       "      <td>This is the 2nd time we have tried 2 contact u...</td>\n",
       "      <td>161</td>\n",
       "      <td>0</td>\n",
       "      <td>0</td>\n",
       "      <td>0</td>\n",
       "      <td>9</td>\n",
       "      <td>92</td>\n",
       "      <td>4</td>\n",
       "    </tr>\n",
       "  </tbody>\n",
       "</table>\n",
       "<p>747 rows × 9 columns</p>\n",
       "</div>"
      ],
      "text/plain": [
       "     label                                                sms  length  \\\n",
       "2     spam  Free entry in 2 a wkly comp to win FA Cup fina...     155   \n",
       "5     spam  FreeMsg Hey there darling it's been 3 week's n...     148   \n",
       "8     spam  WINNER!! As a valued network customer you have...     158   \n",
       "9     spam  Had your mobile 11 months or more? U R entitle...     154   \n",
       "11    spam  SIX chances to win CASH! From 100 to 20,000 po...     136   \n",
       "...    ...                                                ...     ...   \n",
       "5537  spam  Want explicit SEX in 30 secs? Ring 02073162414...      90   \n",
       "5540  spam  ASKED 3MOBILE IF 0870 CHATLINES INCLU IN FREE ...     160   \n",
       "5547  spam  Had your contract mobile 11 Mnths? Latest Moto...     160   \n",
       "5566  spam  REMINDER FROM O2: To get 2.50 pounds free call...     147   \n",
       "5567  spam  This is the 2nd time we have tried 2 contact u...     161   \n",
       "\n",
       "      spam_word  amount_url  phone_number  Uppercase  Lowercase  special_char  \n",
       "2             0           0             2         10         87             3  \n",
       "5             0           0             0          7         96             7  \n",
       "8             0           0             1         12         94             4  \n",
       "9             0           0             1         14         97             2  \n",
       "11            0           0             1         17         64             2  \n",
       "...         ...         ...           ...        ...        ...           ...  \n",
       "5537          0           0             1         17         34             2  \n",
       "5540          0           0             0        104          1             2  \n",
       "5547          0           0             0         20        103             3  \n",
       "5566          0           0             0         14         98             1  \n",
       "5567          0           0             0          9         92             4  \n",
       "\n",
       "[747 rows x 9 columns]"
      ]
     },
     "execution_count": 155,
     "metadata": {},
     "output_type": "execute_result"
    }
   ],
   "source": [
    "spamSC = dfn.loc[dfn.label=='spam']\n",
    "spamSC"
   ]
  },
  {
   "cell_type": "code",
   "execution_count": 248,
   "id": "7f145ea2",
   "metadata": {},
   "outputs": [
    {
     "name": "stdout",
     "output_type": "stream",
     "text": [
      "Nombre moyen\n",
      "special_char    2.737617\n",
      "dtype: float64\n",
      "\n",
      "moyenne longueur\n",
      "length    138.866131\n",
      "dtype: float64\n",
      "La proportion moyenne de caractère: 1 %\n"
     ]
    }
   ],
   "source": [
    "#-------------------------------------------------------\n",
    "print('Nombre moyen')\n",
    "spamSC_mean = spamSC[[\"special_char\"]].mean()\n",
    "print(spamSC_mean)\n",
    "#-------------------------------------------------------\n",
    "#calcul moyen d'un message\n",
    "print('\\nmoyenne longueur')\n",
    "lenghtSC_mean = spamUL[[\"length\"]].mean()\n",
    "print(lenghtSC_mean)\n",
    "#---------------------------------------------------------\n",
    "#Calcul de la proportion de majuscule dans un message\n",
    "lg2 =lenghtSC_mean\n",
    "u2 = spamSC_mean\n",
    "results = (int(u2)*100)/int(lg2)\n",
    "print('La proportion moyenne de caractère:', int(results),'%')"
   ]
  },
  {
   "cell_type": "code",
   "execution_count": 157,
   "id": "4f465f85",
   "metadata": {},
   "outputs": [
    {
     "data": {
      "text/html": [
       "<div>\n",
       "<style scoped>\n",
       "    .dataframe tbody tr th:only-of-type {\n",
       "        vertical-align: middle;\n",
       "    }\n",
       "\n",
       "    .dataframe tbody tr th {\n",
       "        vertical-align: top;\n",
       "    }\n",
       "\n",
       "    .dataframe thead th {\n",
       "        text-align: right;\n",
       "    }\n",
       "</style>\n",
       "<table border=\"1\" class=\"dataframe\">\n",
       "  <thead>\n",
       "    <tr style=\"text-align: right;\">\n",
       "      <th></th>\n",
       "      <th>label</th>\n",
       "      <th>sms</th>\n",
       "      <th>length</th>\n",
       "      <th>spam_word</th>\n",
       "      <th>amount_url</th>\n",
       "      <th>phone_number</th>\n",
       "      <th>Uppercase</th>\n",
       "      <th>Lowercase</th>\n",
       "      <th>special_char</th>\n",
       "    </tr>\n",
       "  </thead>\n",
       "  <tbody>\n",
       "    <tr>\n",
       "      <th>0</th>\n",
       "      <td>ham</td>\n",
       "      <td>Go until jurong point, crazy.. Available only ...</td>\n",
       "      <td>111</td>\n",
       "      <td>0</td>\n",
       "      <td>0</td>\n",
       "      <td>0</td>\n",
       "      <td>3</td>\n",
       "      <td>80</td>\n",
       "      <td>0</td>\n",
       "    </tr>\n",
       "    <tr>\n",
       "      <th>1</th>\n",
       "      <td>ham</td>\n",
       "      <td>Ok lar... Joking wif u oni...</td>\n",
       "      <td>29</td>\n",
       "      <td>0</td>\n",
       "      <td>0</td>\n",
       "      <td>0</td>\n",
       "      <td>2</td>\n",
       "      <td>16</td>\n",
       "      <td>0</td>\n",
       "    </tr>\n",
       "    <tr>\n",
       "      <th>3</th>\n",
       "      <td>ham</td>\n",
       "      <td>U dun say so early hor... U c already then say...</td>\n",
       "      <td>49</td>\n",
       "      <td>0</td>\n",
       "      <td>0</td>\n",
       "      <td>0</td>\n",
       "      <td>2</td>\n",
       "      <td>31</td>\n",
       "      <td>0</td>\n",
       "    </tr>\n",
       "    <tr>\n",
       "      <th>4</th>\n",
       "      <td>ham</td>\n",
       "      <td>Nah I don't think he goes to usf, he lives aro...</td>\n",
       "      <td>61</td>\n",
       "      <td>0</td>\n",
       "      <td>0</td>\n",
       "      <td>0</td>\n",
       "      <td>2</td>\n",
       "      <td>45</td>\n",
       "      <td>1</td>\n",
       "    </tr>\n",
       "    <tr>\n",
       "      <th>6</th>\n",
       "      <td>ham</td>\n",
       "      <td>Even my brother is not like to speak with me. ...</td>\n",
       "      <td>77</td>\n",
       "      <td>0</td>\n",
       "      <td>0</td>\n",
       "      <td>0</td>\n",
       "      <td>2</td>\n",
       "      <td>58</td>\n",
       "      <td>0</td>\n",
       "    </tr>\n",
       "    <tr>\n",
       "      <th>...</th>\n",
       "      <td>...</td>\n",
       "      <td>...</td>\n",
       "      <td>...</td>\n",
       "      <td>...</td>\n",
       "      <td>...</td>\n",
       "      <td>...</td>\n",
       "      <td>...</td>\n",
       "      <td>...</td>\n",
       "      <td>...</td>\n",
       "    </tr>\n",
       "    <tr>\n",
       "      <th>5565</th>\n",
       "      <td>ham</td>\n",
       "      <td>Huh y lei...</td>\n",
       "      <td>12</td>\n",
       "      <td>0</td>\n",
       "      <td>0</td>\n",
       "      <td>0</td>\n",
       "      <td>1</td>\n",
       "      <td>6</td>\n",
       "      <td>0</td>\n",
       "    </tr>\n",
       "    <tr>\n",
       "      <th>5568</th>\n",
       "      <td>ham</td>\n",
       "      <td>Will Ì_ b going to esplanade fr home?</td>\n",
       "      <td>37</td>\n",
       "      <td>0</td>\n",
       "      <td>0</td>\n",
       "      <td>0</td>\n",
       "      <td>1</td>\n",
       "      <td>26</td>\n",
       "      <td>2</td>\n",
       "    </tr>\n",
       "    <tr>\n",
       "      <th>5569</th>\n",
       "      <td>ham</td>\n",
       "      <td>Pity, * was in mood for that. So...any other s...</td>\n",
       "      <td>57</td>\n",
       "      <td>0</td>\n",
       "      <td>0</td>\n",
       "      <td>0</td>\n",
       "      <td>2</td>\n",
       "      <td>39</td>\n",
       "      <td>2</td>\n",
       "    </tr>\n",
       "    <tr>\n",
       "      <th>5570</th>\n",
       "      <td>ham</td>\n",
       "      <td>The guy did some bitching but I acted like i'd...</td>\n",
       "      <td>125</td>\n",
       "      <td>0</td>\n",
       "      <td>0</td>\n",
       "      <td>0</td>\n",
       "      <td>2</td>\n",
       "      <td>97</td>\n",
       "      <td>1</td>\n",
       "    </tr>\n",
       "    <tr>\n",
       "      <th>5571</th>\n",
       "      <td>ham</td>\n",
       "      <td>Rofl. Its true to its name</td>\n",
       "      <td>26</td>\n",
       "      <td>0</td>\n",
       "      <td>0</td>\n",
       "      <td>0</td>\n",
       "      <td>2</td>\n",
       "      <td>18</td>\n",
       "      <td>0</td>\n",
       "    </tr>\n",
       "  </tbody>\n",
       "</table>\n",
       "<p>4825 rows × 9 columns</p>\n",
       "</div>"
      ],
      "text/plain": [
       "     label                                                sms  length  \\\n",
       "0      ham  Go until jurong point, crazy.. Available only ...     111   \n",
       "1      ham                      Ok lar... Joking wif u oni...      29   \n",
       "3      ham  U dun say so early hor... U c already then say...      49   \n",
       "4      ham  Nah I don't think he goes to usf, he lives aro...      61   \n",
       "6      ham  Even my brother is not like to speak with me. ...      77   \n",
       "...    ...                                                ...     ...   \n",
       "5565   ham                                       Huh y lei...      12   \n",
       "5568   ham              Will Ì_ b going to esplanade fr home?      37   \n",
       "5569   ham  Pity, * was in mood for that. So...any other s...      57   \n",
       "5570   ham  The guy did some bitching but I acted like i'd...     125   \n",
       "5571   ham                         Rofl. Its true to its name      26   \n",
       "\n",
       "      spam_word  amount_url  phone_number  Uppercase  Lowercase  special_char  \n",
       "0             0           0             0          3         80             0  \n",
       "1             0           0             0          2         16             0  \n",
       "3             0           0             0          2         31             0  \n",
       "4             0           0             0          2         45             1  \n",
       "6             0           0             0          2         58             0  \n",
       "...         ...         ...           ...        ...        ...           ...  \n",
       "5565          0           0             0          1          6             0  \n",
       "5568          0           0             0          1         26             2  \n",
       "5569          0           0             0          2         39             2  \n",
       "5570          0           0             0          2         97             1  \n",
       "5571          0           0             0          2         18             0  \n",
       "\n",
       "[4825 rows x 9 columns]"
      ]
     },
     "execution_count": 157,
     "metadata": {},
     "output_type": "execute_result"
    }
   ],
   "source": [
    "hamSC = dfn.loc[dfn.label=='ham']\n",
    "hamSC"
   ]
  },
  {
   "cell_type": "code",
   "execution_count": 158,
   "id": "1bfbda5a",
   "metadata": {},
   "outputs": [
    {
     "name": "stdout",
     "output_type": "stream",
     "text": [
      "Nombre moyen\n",
      "special_char    1.355026\n",
      "dtype: float64\n",
      "\n",
      "moyenne longueur\n",
      "length    71.023627\n",
      "dtype: float64\n",
      "La proportion moyenne de majuscule: 1\n"
     ]
    }
   ],
   "source": [
    "#-------------------------------------------------------\n",
    "print('Nombre moyen')\n",
    "hamSC_mean = hamSC[[\"special_char\"]].mean()\n",
    "print(hamSC_mean)\n",
    "#-------------------------------------------------------\n",
    "#calcul moyen d'un message\n",
    "print('\\nmoyenne longueur')\n",
    "lenghtSC1_mean = hamSC[[\"length\"]].mean()\n",
    "print(lenghtSC1_mean)\n",
    "#---------------------------------------------------------\n",
    "#Calcul de la proportion de majuscule dans un message\n",
    "lg3 =lenghtSC1_mean\n",
    "u3 = hamSC_mean\n",
    "results = (int(u3)*100)/int(lg3)\n",
    "print('La proportion moyenne de majuscule:', int(results))"
   ]
  },
  {
   "cell_type": "markdown",
   "id": "524265a2",
   "metadata": {},
   "source": [
    "En moyenne il y a plus de caractere speciaux dans les spams, cela comfirme aussi l'utilité de cette feature dans notre dataframe."
   ]
  },
  {
   "cell_type": "markdown",
   "id": "0d2d51cd",
   "metadata": {},
   "source": [
    "### Feature7: Longueur moyenne des mots"
   ]
  },
  {
   "cell_type": "markdown",
   "id": "f0a595d9",
   "metadata": {},
   "source": [
    "Enfin dans la dernière partie de la recherche des features nous avons calculé la longueur moyenne des spams"
   ]
  },
  {
   "cell_type": "code",
   "execution_count": 160,
   "id": "e75ddb23",
   "metadata": {},
   "outputs": [
    {
     "data": {
      "text/html": [
       "<div>\n",
       "<style scoped>\n",
       "    .dataframe tbody tr th:only-of-type {\n",
       "        vertical-align: middle;\n",
       "    }\n",
       "\n",
       "    .dataframe tbody tr th {\n",
       "        vertical-align: top;\n",
       "    }\n",
       "\n",
       "    .dataframe thead th {\n",
       "        text-align: right;\n",
       "    }\n",
       "</style>\n",
       "<table border=\"1\" class=\"dataframe\">\n",
       "  <thead>\n",
       "    <tr style=\"text-align: right;\">\n",
       "      <th></th>\n",
       "      <th>label</th>\n",
       "      <th>sms</th>\n",
       "      <th>length</th>\n",
       "      <th>spam_word</th>\n",
       "      <th>amount_url</th>\n",
       "      <th>phone_number</th>\n",
       "      <th>Uppercase</th>\n",
       "      <th>Lowercase</th>\n",
       "      <th>special_char</th>\n",
       "      <th>avg_word_len</th>\n",
       "    </tr>\n",
       "  </thead>\n",
       "  <tbody>\n",
       "    <tr>\n",
       "      <th>0</th>\n",
       "      <td>ham</td>\n",
       "      <td>Go until jurong point, crazy.. Available only ...</td>\n",
       "      <td>111</td>\n",
       "      <td>0</td>\n",
       "      <td>0</td>\n",
       "      <td>0</td>\n",
       "      <td>3</td>\n",
       "      <td>80</td>\n",
       "      <td>0</td>\n",
       "      <td>4.600000</td>\n",
       "    </tr>\n",
       "    <tr>\n",
       "      <th>1</th>\n",
       "      <td>ham</td>\n",
       "      <td>Ok lar... Joking wif u oni...</td>\n",
       "      <td>29</td>\n",
       "      <td>0</td>\n",
       "      <td>0</td>\n",
       "      <td>0</td>\n",
       "      <td>2</td>\n",
       "      <td>16</td>\n",
       "      <td>0</td>\n",
       "      <td>4.000000</td>\n",
       "    </tr>\n",
       "    <tr>\n",
       "      <th>2</th>\n",
       "      <td>spam</td>\n",
       "      <td>Free entry in 2 a wkly comp to win FA Cup fina...</td>\n",
       "      <td>155</td>\n",
       "      <td>0</td>\n",
       "      <td>0</td>\n",
       "      <td>2</td>\n",
       "      <td>10</td>\n",
       "      <td>87</td>\n",
       "      <td>3</td>\n",
       "      <td>4.571429</td>\n",
       "    </tr>\n",
       "    <tr>\n",
       "      <th>3</th>\n",
       "      <td>ham</td>\n",
       "      <td>U dun say so early hor... U c already then say...</td>\n",
       "      <td>49</td>\n",
       "      <td>0</td>\n",
       "      <td>0</td>\n",
       "      <td>0</td>\n",
       "      <td>2</td>\n",
       "      <td>31</td>\n",
       "      <td>0</td>\n",
       "      <td>3.545455</td>\n",
       "    </tr>\n",
       "    <tr>\n",
       "      <th>4</th>\n",
       "      <td>ham</td>\n",
       "      <td>Nah I don't think he goes to usf, he lives aro...</td>\n",
       "      <td>61</td>\n",
       "      <td>0</td>\n",
       "      <td>0</td>\n",
       "      <td>0</td>\n",
       "      <td>2</td>\n",
       "      <td>45</td>\n",
       "      <td>1</td>\n",
       "      <td>3.769231</td>\n",
       "    </tr>\n",
       "    <tr>\n",
       "      <th>...</th>\n",
       "      <td>...</td>\n",
       "      <td>...</td>\n",
       "      <td>...</td>\n",
       "      <td>...</td>\n",
       "      <td>...</td>\n",
       "      <td>...</td>\n",
       "      <td>...</td>\n",
       "      <td>...</td>\n",
       "      <td>...</td>\n",
       "      <td>...</td>\n",
       "    </tr>\n",
       "    <tr>\n",
       "      <th>5567</th>\n",
       "      <td>spam</td>\n",
       "      <td>This is the 2nd time we have tried 2 contact u...</td>\n",
       "      <td>161</td>\n",
       "      <td>0</td>\n",
       "      <td>0</td>\n",
       "      <td>0</td>\n",
       "      <td>9</td>\n",
       "      <td>92</td>\n",
       "      <td>4</td>\n",
       "      <td>4.400000</td>\n",
       "    </tr>\n",
       "    <tr>\n",
       "      <th>5568</th>\n",
       "      <td>ham</td>\n",
       "      <td>Will Ì_ b going to esplanade fr home?</td>\n",
       "      <td>37</td>\n",
       "      <td>0</td>\n",
       "      <td>0</td>\n",
       "      <td>0</td>\n",
       "      <td>1</td>\n",
       "      <td>26</td>\n",
       "      <td>2</td>\n",
       "      <td>3.750000</td>\n",
       "    </tr>\n",
       "    <tr>\n",
       "      <th>5569</th>\n",
       "      <td>ham</td>\n",
       "      <td>Pity, * was in mood for that. So...any other s...</td>\n",
       "      <td>57</td>\n",
       "      <td>0</td>\n",
       "      <td>0</td>\n",
       "      <td>0</td>\n",
       "      <td>2</td>\n",
       "      <td>39</td>\n",
       "      <td>2</td>\n",
       "      <td>4.800000</td>\n",
       "    </tr>\n",
       "    <tr>\n",
       "      <th>5570</th>\n",
       "      <td>ham</td>\n",
       "      <td>The guy did some bitching but I acted like i'd...</td>\n",
       "      <td>125</td>\n",
       "      <td>0</td>\n",
       "      <td>0</td>\n",
       "      <td>0</td>\n",
       "      <td>2</td>\n",
       "      <td>97</td>\n",
       "      <td>1</td>\n",
       "      <td>3.846154</td>\n",
       "    </tr>\n",
       "    <tr>\n",
       "      <th>5571</th>\n",
       "      <td>ham</td>\n",
       "      <td>Rofl. Its true to its name</td>\n",
       "      <td>26</td>\n",
       "      <td>0</td>\n",
       "      <td>0</td>\n",
       "      <td>0</td>\n",
       "      <td>2</td>\n",
       "      <td>18</td>\n",
       "      <td>0</td>\n",
       "      <td>3.500000</td>\n",
       "    </tr>\n",
       "  </tbody>\n",
       "</table>\n",
       "<p>5572 rows × 10 columns</p>\n",
       "</div>"
      ],
      "text/plain": [
       "     label                                                sms  length  \\\n",
       "0      ham  Go until jurong point, crazy.. Available only ...     111   \n",
       "1      ham                      Ok lar... Joking wif u oni...      29   \n",
       "2     spam  Free entry in 2 a wkly comp to win FA Cup fina...     155   \n",
       "3      ham  U dun say so early hor... U c already then say...      49   \n",
       "4      ham  Nah I don't think he goes to usf, he lives aro...      61   \n",
       "...    ...                                                ...     ...   \n",
       "5567  spam  This is the 2nd time we have tried 2 contact u...     161   \n",
       "5568   ham              Will Ì_ b going to esplanade fr home?      37   \n",
       "5569   ham  Pity, * was in mood for that. So...any other s...      57   \n",
       "5570   ham  The guy did some bitching but I acted like i'd...     125   \n",
       "5571   ham                         Rofl. Its true to its name      26   \n",
       "\n",
       "      spam_word  amount_url  phone_number  Uppercase  Lowercase  special_char  \\\n",
       "0             0           0             0          3         80             0   \n",
       "1             0           0             0          2         16             0   \n",
       "2             0           0             2         10         87             3   \n",
       "3             0           0             0          2         31             0   \n",
       "4             0           0             0          2         45             1   \n",
       "...         ...         ...           ...        ...        ...           ...   \n",
       "5567          0           0             0          9         92             4   \n",
       "5568          0           0             0          1         26             2   \n",
       "5569          0           0             0          2         39             2   \n",
       "5570          0           0             0          2         97             1   \n",
       "5571          0           0             0          2         18             0   \n",
       "\n",
       "      avg_word_len  \n",
       "0         4.600000  \n",
       "1         4.000000  \n",
       "2         4.571429  \n",
       "3         3.545455  \n",
       "4         3.769231  \n",
       "...            ...  \n",
       "5567      4.400000  \n",
       "5568      3.750000  \n",
       "5569      4.800000  \n",
       "5570      3.846154  \n",
       "5571      3.500000  \n",
       "\n",
       "[5572 rows x 10 columns]"
      ]
     },
     "execution_count": 160,
     "metadata": {},
     "output_type": "execute_result"
    }
   ],
   "source": [
    "import re\n",
    "def lengh_word_mean(word):\n",
    "    words = word.split()\n",
    "    average = sum(len(word) for word in words) / len(words)\n",
    "    return average\n",
    "dfn[\"avg_word_len\"]=dfn.sms.apply(lengh_word_mean)\n",
    "dfn\n"
   ]
  },
  {
   "cell_type": "code",
   "execution_count": 161,
   "id": "4b5448e7",
   "metadata": {},
   "outputs": [
    {
     "data": {
      "text/html": [
       "<div>\n",
       "<style scoped>\n",
       "    .dataframe tbody tr th:only-of-type {\n",
       "        vertical-align: middle;\n",
       "    }\n",
       "\n",
       "    .dataframe tbody tr th {\n",
       "        vertical-align: top;\n",
       "    }\n",
       "\n",
       "    .dataframe thead th {\n",
       "        text-align: right;\n",
       "    }\n",
       "</style>\n",
       "<table border=\"1\" class=\"dataframe\">\n",
       "  <thead>\n",
       "    <tr style=\"text-align: right;\">\n",
       "      <th></th>\n",
       "      <th>label</th>\n",
       "      <th>sms</th>\n",
       "      <th>length</th>\n",
       "      <th>spam_word</th>\n",
       "      <th>amount_url</th>\n",
       "      <th>phone_number</th>\n",
       "      <th>Uppercase</th>\n",
       "      <th>Lowercase</th>\n",
       "      <th>special_char</th>\n",
       "      <th>avg_word_len</th>\n",
       "    </tr>\n",
       "  </thead>\n",
       "  <tbody>\n",
       "    <tr>\n",
       "      <th>0</th>\n",
       "      <td>ham</td>\n",
       "      <td>Go until jurong point, crazy.. Available only ...</td>\n",
       "      <td>111</td>\n",
       "      <td>0</td>\n",
       "      <td>0</td>\n",
       "      <td>0</td>\n",
       "      <td>3</td>\n",
       "      <td>80</td>\n",
       "      <td>0</td>\n",
       "      <td>4.600000</td>\n",
       "    </tr>\n",
       "    <tr>\n",
       "      <th>1</th>\n",
       "      <td>ham</td>\n",
       "      <td>Ok lar... Joking wif u oni...</td>\n",
       "      <td>29</td>\n",
       "      <td>0</td>\n",
       "      <td>0</td>\n",
       "      <td>0</td>\n",
       "      <td>2</td>\n",
       "      <td>16</td>\n",
       "      <td>0</td>\n",
       "      <td>4.000000</td>\n",
       "    </tr>\n",
       "    <tr>\n",
       "      <th>3</th>\n",
       "      <td>ham</td>\n",
       "      <td>U dun say so early hor... U c already then say...</td>\n",
       "      <td>49</td>\n",
       "      <td>0</td>\n",
       "      <td>0</td>\n",
       "      <td>0</td>\n",
       "      <td>2</td>\n",
       "      <td>31</td>\n",
       "      <td>0</td>\n",
       "      <td>3.545455</td>\n",
       "    </tr>\n",
       "    <tr>\n",
       "      <th>4</th>\n",
       "      <td>ham</td>\n",
       "      <td>Nah I don't think he goes to usf, he lives aro...</td>\n",
       "      <td>61</td>\n",
       "      <td>0</td>\n",
       "      <td>0</td>\n",
       "      <td>0</td>\n",
       "      <td>2</td>\n",
       "      <td>45</td>\n",
       "      <td>1</td>\n",
       "      <td>3.769231</td>\n",
       "    </tr>\n",
       "    <tr>\n",
       "      <th>6</th>\n",
       "      <td>ham</td>\n",
       "      <td>Even my brother is not like to speak with me. ...</td>\n",
       "      <td>77</td>\n",
       "      <td>0</td>\n",
       "      <td>0</td>\n",
       "      <td>0</td>\n",
       "      <td>2</td>\n",
       "      <td>58</td>\n",
       "      <td>0</td>\n",
       "      <td>3.875000</td>\n",
       "    </tr>\n",
       "    <tr>\n",
       "      <th>...</th>\n",
       "      <td>...</td>\n",
       "      <td>...</td>\n",
       "      <td>...</td>\n",
       "      <td>...</td>\n",
       "      <td>...</td>\n",
       "      <td>...</td>\n",
       "      <td>...</td>\n",
       "      <td>...</td>\n",
       "      <td>...</td>\n",
       "      <td>...</td>\n",
       "    </tr>\n",
       "    <tr>\n",
       "      <th>5565</th>\n",
       "      <td>ham</td>\n",
       "      <td>Huh y lei...</td>\n",
       "      <td>12</td>\n",
       "      <td>0</td>\n",
       "      <td>0</td>\n",
       "      <td>0</td>\n",
       "      <td>1</td>\n",
       "      <td>6</td>\n",
       "      <td>0</td>\n",
       "      <td>3.333333</td>\n",
       "    </tr>\n",
       "    <tr>\n",
       "      <th>5568</th>\n",
       "      <td>ham</td>\n",
       "      <td>Will Ì_ b going to esplanade fr home?</td>\n",
       "      <td>37</td>\n",
       "      <td>0</td>\n",
       "      <td>0</td>\n",
       "      <td>0</td>\n",
       "      <td>1</td>\n",
       "      <td>26</td>\n",
       "      <td>2</td>\n",
       "      <td>3.750000</td>\n",
       "    </tr>\n",
       "    <tr>\n",
       "      <th>5569</th>\n",
       "      <td>ham</td>\n",
       "      <td>Pity, * was in mood for that. So...any other s...</td>\n",
       "      <td>57</td>\n",
       "      <td>0</td>\n",
       "      <td>0</td>\n",
       "      <td>0</td>\n",
       "      <td>2</td>\n",
       "      <td>39</td>\n",
       "      <td>2</td>\n",
       "      <td>4.800000</td>\n",
       "    </tr>\n",
       "    <tr>\n",
       "      <th>5570</th>\n",
       "      <td>ham</td>\n",
       "      <td>The guy did some bitching but I acted like i'd...</td>\n",
       "      <td>125</td>\n",
       "      <td>0</td>\n",
       "      <td>0</td>\n",
       "      <td>0</td>\n",
       "      <td>2</td>\n",
       "      <td>97</td>\n",
       "      <td>1</td>\n",
       "      <td>3.846154</td>\n",
       "    </tr>\n",
       "    <tr>\n",
       "      <th>5571</th>\n",
       "      <td>ham</td>\n",
       "      <td>Rofl. Its true to its name</td>\n",
       "      <td>26</td>\n",
       "      <td>0</td>\n",
       "      <td>0</td>\n",
       "      <td>0</td>\n",
       "      <td>2</td>\n",
       "      <td>18</td>\n",
       "      <td>0</td>\n",
       "      <td>3.500000</td>\n",
       "    </tr>\n",
       "  </tbody>\n",
       "</table>\n",
       "<p>4825 rows × 10 columns</p>\n",
       "</div>"
      ],
      "text/plain": [
       "     label                                                sms  length  \\\n",
       "0      ham  Go until jurong point, crazy.. Available only ...     111   \n",
       "1      ham                      Ok lar... Joking wif u oni...      29   \n",
       "3      ham  U dun say so early hor... U c already then say...      49   \n",
       "4      ham  Nah I don't think he goes to usf, he lives aro...      61   \n",
       "6      ham  Even my brother is not like to speak with me. ...      77   \n",
       "...    ...                                                ...     ...   \n",
       "5565   ham                                       Huh y lei...      12   \n",
       "5568   ham              Will Ì_ b going to esplanade fr home?      37   \n",
       "5569   ham  Pity, * was in mood for that. So...any other s...      57   \n",
       "5570   ham  The guy did some bitching but I acted like i'd...     125   \n",
       "5571   ham                         Rofl. Its true to its name      26   \n",
       "\n",
       "      spam_word  amount_url  phone_number  Uppercase  Lowercase  special_char  \\\n",
       "0             0           0             0          3         80             0   \n",
       "1             0           0             0          2         16             0   \n",
       "3             0           0             0          2         31             0   \n",
       "4             0           0             0          2         45             1   \n",
       "6             0           0             0          2         58             0   \n",
       "...         ...         ...           ...        ...        ...           ...   \n",
       "5565          0           0             0          1          6             0   \n",
       "5568          0           0             0          1         26             2   \n",
       "5569          0           0             0          2         39             2   \n",
       "5570          0           0             0          2         97             1   \n",
       "5571          0           0             0          2         18             0   \n",
       "\n",
       "      avg_word_len  \n",
       "0         4.600000  \n",
       "1         4.000000  \n",
       "3         3.545455  \n",
       "4         3.769231  \n",
       "6         3.875000  \n",
       "...            ...  \n",
       "5565      3.333333  \n",
       "5568      3.750000  \n",
       "5569      4.800000  \n",
       "5570      3.846154  \n",
       "5571      3.500000  \n",
       "\n",
       "[4825 rows x 10 columns]"
      ]
     },
     "execution_count": 161,
     "metadata": {},
     "output_type": "execute_result"
    }
   ],
   "source": [
    "hamWM = dfn.loc[dfn.label=='ham']\n",
    "hamWM"
   ]
  },
  {
   "cell_type": "code",
   "execution_count": 162,
   "id": "f47592e3",
   "metadata": {},
   "outputs": [
    {
     "name": "stdout",
     "output_type": "stream",
     "text": [
      "La longueur moyenne d'un mot dans un ham: 4.177573771250962\n"
     ]
    }
   ],
   "source": [
    "print(\"La longueur moyenne d'un mot dans un ham:\", hamWM.avg_word_len.mean())"
   ]
  },
  {
   "cell_type": "code",
   "execution_count": 163,
   "id": "d8753c62",
   "metadata": {},
   "outputs": [
    {
     "data": {
      "text/html": [
       "<div>\n",
       "<style scoped>\n",
       "    .dataframe tbody tr th:only-of-type {\n",
       "        vertical-align: middle;\n",
       "    }\n",
       "\n",
       "    .dataframe tbody tr th {\n",
       "        vertical-align: top;\n",
       "    }\n",
       "\n",
       "    .dataframe thead th {\n",
       "        text-align: right;\n",
       "    }\n",
       "</style>\n",
       "<table border=\"1\" class=\"dataframe\">\n",
       "  <thead>\n",
       "    <tr style=\"text-align: right;\">\n",
       "      <th></th>\n",
       "      <th>label</th>\n",
       "      <th>sms</th>\n",
       "      <th>length</th>\n",
       "      <th>spam_word</th>\n",
       "      <th>amount_url</th>\n",
       "      <th>phone_number</th>\n",
       "      <th>Uppercase</th>\n",
       "      <th>Lowercase</th>\n",
       "      <th>special_char</th>\n",
       "      <th>avg_word_len</th>\n",
       "    </tr>\n",
       "  </thead>\n",
       "  <tbody>\n",
       "    <tr>\n",
       "      <th>2</th>\n",
       "      <td>spam</td>\n",
       "      <td>Free entry in 2 a wkly comp to win FA Cup fina...</td>\n",
       "      <td>155</td>\n",
       "      <td>0</td>\n",
       "      <td>0</td>\n",
       "      <td>2</td>\n",
       "      <td>10</td>\n",
       "      <td>87</td>\n",
       "      <td>3</td>\n",
       "      <td>4.571429</td>\n",
       "    </tr>\n",
       "    <tr>\n",
       "      <th>5</th>\n",
       "      <td>spam</td>\n",
       "      <td>FreeMsg Hey there darling it's been 3 week's n...</td>\n",
       "      <td>148</td>\n",
       "      <td>0</td>\n",
       "      <td>0</td>\n",
       "      <td>0</td>\n",
       "      <td>7</td>\n",
       "      <td>96</td>\n",
       "      <td>7</td>\n",
       "      <td>3.656250</td>\n",
       "    </tr>\n",
       "    <tr>\n",
       "      <th>8</th>\n",
       "      <td>spam</td>\n",
       "      <td>WINNER!! As a valued network customer you have...</td>\n",
       "      <td>158</td>\n",
       "      <td>0</td>\n",
       "      <td>0</td>\n",
       "      <td>1</td>\n",
       "      <td>12</td>\n",
       "      <td>94</td>\n",
       "      <td>4</td>\n",
       "      <td>5.115385</td>\n",
       "    </tr>\n",
       "    <tr>\n",
       "      <th>9</th>\n",
       "      <td>spam</td>\n",
       "      <td>Had your mobile 11 months or more? U R entitle...</td>\n",
       "      <td>154</td>\n",
       "      <td>0</td>\n",
       "      <td>0</td>\n",
       "      <td>1</td>\n",
       "      <td>14</td>\n",
       "      <td>97</td>\n",
       "      <td>2</td>\n",
       "      <td>4.344828</td>\n",
       "    </tr>\n",
       "    <tr>\n",
       "      <th>11</th>\n",
       "      <td>spam</td>\n",
       "      <td>SIX chances to win CASH! From 100 to 20,000 po...</td>\n",
       "      <td>136</td>\n",
       "      <td>0</td>\n",
       "      <td>0</td>\n",
       "      <td>1</td>\n",
       "      <td>17</td>\n",
       "      <td>64</td>\n",
       "      <td>2</td>\n",
       "      <td>4.269231</td>\n",
       "    </tr>\n",
       "    <tr>\n",
       "      <th>...</th>\n",
       "      <td>...</td>\n",
       "      <td>...</td>\n",
       "      <td>...</td>\n",
       "      <td>...</td>\n",
       "      <td>...</td>\n",
       "      <td>...</td>\n",
       "      <td>...</td>\n",
       "      <td>...</td>\n",
       "      <td>...</td>\n",
       "      <td>...</td>\n",
       "    </tr>\n",
       "    <tr>\n",
       "      <th>5537</th>\n",
       "      <td>spam</td>\n",
       "      <td>Want explicit SEX in 30 secs? Ring 02073162414...</td>\n",
       "      <td>90</td>\n",
       "      <td>0</td>\n",
       "      <td>0</td>\n",
       "      <td>1</td>\n",
       "      <td>17</td>\n",
       "      <td>34</td>\n",
       "      <td>2</td>\n",
       "      <td>4.687500</td>\n",
       "    </tr>\n",
       "    <tr>\n",
       "      <th>5540</th>\n",
       "      <td>spam</td>\n",
       "      <td>ASKED 3MOBILE IF 0870 CHATLINES INCLU IN FREE ...</td>\n",
       "      <td>160</td>\n",
       "      <td>0</td>\n",
       "      <td>0</td>\n",
       "      <td>0</td>\n",
       "      <td>104</td>\n",
       "      <td>1</td>\n",
       "      <td>2</td>\n",
       "      <td>3.878788</td>\n",
       "    </tr>\n",
       "    <tr>\n",
       "      <th>5547</th>\n",
       "      <td>spam</td>\n",
       "      <td>Had your contract mobile 11 Mnths? Latest Moto...</td>\n",
       "      <td>160</td>\n",
       "      <td>0</td>\n",
       "      <td>0</td>\n",
       "      <td>0</td>\n",
       "      <td>20</td>\n",
       "      <td>103</td>\n",
       "      <td>3</td>\n",
       "      <td>4.750000</td>\n",
       "    </tr>\n",
       "    <tr>\n",
       "      <th>5566</th>\n",
       "      <td>spam</td>\n",
       "      <td>REMINDER FROM O2: To get 2.50 pounds free call...</td>\n",
       "      <td>147</td>\n",
       "      <td>0</td>\n",
       "      <td>0</td>\n",
       "      <td>0</td>\n",
       "      <td>14</td>\n",
       "      <td>98</td>\n",
       "      <td>1</td>\n",
       "      <td>4.285714</td>\n",
       "    </tr>\n",
       "    <tr>\n",
       "      <th>5567</th>\n",
       "      <td>spam</td>\n",
       "      <td>This is the 2nd time we have tried 2 contact u...</td>\n",
       "      <td>161</td>\n",
       "      <td>0</td>\n",
       "      <td>0</td>\n",
       "      <td>0</td>\n",
       "      <td>9</td>\n",
       "      <td>92</td>\n",
       "      <td>4</td>\n",
       "      <td>4.400000</td>\n",
       "    </tr>\n",
       "  </tbody>\n",
       "</table>\n",
       "<p>747 rows × 10 columns</p>\n",
       "</div>"
      ],
      "text/plain": [
       "     label                                                sms  length  \\\n",
       "2     spam  Free entry in 2 a wkly comp to win FA Cup fina...     155   \n",
       "5     spam  FreeMsg Hey there darling it's been 3 week's n...     148   \n",
       "8     spam  WINNER!! As a valued network customer you have...     158   \n",
       "9     spam  Had your mobile 11 months or more? U R entitle...     154   \n",
       "11    spam  SIX chances to win CASH! From 100 to 20,000 po...     136   \n",
       "...    ...                                                ...     ...   \n",
       "5537  spam  Want explicit SEX in 30 secs? Ring 02073162414...      90   \n",
       "5540  spam  ASKED 3MOBILE IF 0870 CHATLINES INCLU IN FREE ...     160   \n",
       "5547  spam  Had your contract mobile 11 Mnths? Latest Moto...     160   \n",
       "5566  spam  REMINDER FROM O2: To get 2.50 pounds free call...     147   \n",
       "5567  spam  This is the 2nd time we have tried 2 contact u...     161   \n",
       "\n",
       "      spam_word  amount_url  phone_number  Uppercase  Lowercase  special_char  \\\n",
       "2             0           0             2         10         87             3   \n",
       "5             0           0             0          7         96             7   \n",
       "8             0           0             1         12         94             4   \n",
       "9             0           0             1         14         97             2   \n",
       "11            0           0             1         17         64             2   \n",
       "...         ...         ...           ...        ...        ...           ...   \n",
       "5537          0           0             1         17         34             2   \n",
       "5540          0           0             0        104          1             2   \n",
       "5547          0           0             0         20        103             3   \n",
       "5566          0           0             0         14         98             1   \n",
       "5567          0           0             0          9         92             4   \n",
       "\n",
       "      avg_word_len  \n",
       "2         4.571429  \n",
       "5         3.656250  \n",
       "8         5.115385  \n",
       "9         4.344828  \n",
       "11        4.269231  \n",
       "...            ...  \n",
       "5537      4.687500  \n",
       "5540      3.878788  \n",
       "5547      4.750000  \n",
       "5566      4.285714  \n",
       "5567      4.400000  \n",
       "\n",
       "[747 rows x 10 columns]"
      ]
     },
     "execution_count": 163,
     "metadata": {},
     "output_type": "execute_result"
    }
   ],
   "source": [
    "spamWM = dfn.loc[dfn.label=='spam']\n",
    "spamWM "
   ]
  },
  {
   "cell_type": "code",
   "execution_count": 164,
   "id": "05b4817a",
   "metadata": {},
   "outputs": [
    {
     "name": "stdout",
     "output_type": "stream",
     "text": [
      "La longueur moyenne d'un mot dans un spam: 4.992838622408249\n"
     ]
    }
   ],
   "source": [
    "print(\"La longueur moyenne d'un mot dans un spam:\",spamWM.avg_word_len.mean())"
   ]
  },
  {
   "cell_type": "markdown",
   "id": "af960eef",
   "metadata": {},
   "source": [
    "Nous avons remarqué que les mots sont en moyenne plus long dans les spams."
   ]
  },
  {
   "cell_type": "markdown",
   "id": "59419c74",
   "metadata": {},
   "source": [
    "## MACHINE LEARNING"
   ]
  },
  {
   "cell_type": "markdown",
   "id": "d42f3afd",
   "metadata": {},
   "source": [
    "Dans la 4 ième partie nous allons nous concentrer sur l'étude et le choix du modèle de ML. Nous commencerons par le modèle KNN et le modèle RF. Nous utiliserons aussi le GridSeach pour trouver les meilleurs hyperparamètre. et nous utiliserons aussi la méthode de cross validation car notre jeu de donnée est déséquilibré. "
   ]
  },
  {
   "cell_type": "markdown",
   "id": "c056ea40",
   "metadata": {},
   "source": [
    "### Visualisation des donnees dans le nouveau DF"
   ]
  },
  {
   "cell_type": "markdown",
   "id": "020c2df8",
   "metadata": {},
   "source": [
    "Premierement nous analysons notre dataframe avec toutes les features pour verifier si tout est correct."
   ]
  },
  {
   "cell_type": "code",
   "execution_count": 165,
   "id": "cf73b57e",
   "metadata": {},
   "outputs": [
    {
     "data": {
      "text/html": [
       "<div>\n",
       "<style scoped>\n",
       "    .dataframe tbody tr th:only-of-type {\n",
       "        vertical-align: middle;\n",
       "    }\n",
       "\n",
       "    .dataframe tbody tr th {\n",
       "        vertical-align: top;\n",
       "    }\n",
       "\n",
       "    .dataframe thead th {\n",
       "        text-align: right;\n",
       "    }\n",
       "</style>\n",
       "<table border=\"1\" class=\"dataframe\">\n",
       "  <thead>\n",
       "    <tr style=\"text-align: right;\">\n",
       "      <th></th>\n",
       "      <th>label</th>\n",
       "      <th>sms</th>\n",
       "      <th>length</th>\n",
       "      <th>spam_word</th>\n",
       "      <th>amount_url</th>\n",
       "      <th>phone_number</th>\n",
       "      <th>Uppercase</th>\n",
       "      <th>Lowercase</th>\n",
       "      <th>special_char</th>\n",
       "      <th>avg_word_len</th>\n",
       "    </tr>\n",
       "  </thead>\n",
       "  <tbody>\n",
       "    <tr>\n",
       "      <th>0</th>\n",
       "      <td>0</td>\n",
       "      <td>Go until jurong point, crazy.. Available only ...</td>\n",
       "      <td>111</td>\n",
       "      <td>0</td>\n",
       "      <td>0</td>\n",
       "      <td>0</td>\n",
       "      <td>3</td>\n",
       "      <td>80</td>\n",
       "      <td>0</td>\n",
       "      <td>4.600000</td>\n",
       "    </tr>\n",
       "    <tr>\n",
       "      <th>1</th>\n",
       "      <td>0</td>\n",
       "      <td>Ok lar... Joking wif u oni...</td>\n",
       "      <td>29</td>\n",
       "      <td>0</td>\n",
       "      <td>0</td>\n",
       "      <td>0</td>\n",
       "      <td>2</td>\n",
       "      <td>16</td>\n",
       "      <td>0</td>\n",
       "      <td>4.000000</td>\n",
       "    </tr>\n",
       "    <tr>\n",
       "      <th>2</th>\n",
       "      <td>1</td>\n",
       "      <td>Free entry in 2 a wkly comp to win FA Cup fina...</td>\n",
       "      <td>155</td>\n",
       "      <td>0</td>\n",
       "      <td>0</td>\n",
       "      <td>2</td>\n",
       "      <td>10</td>\n",
       "      <td>87</td>\n",
       "      <td>3</td>\n",
       "      <td>4.571429</td>\n",
       "    </tr>\n",
       "    <tr>\n",
       "      <th>3</th>\n",
       "      <td>0</td>\n",
       "      <td>U dun say so early hor... U c already then say...</td>\n",
       "      <td>49</td>\n",
       "      <td>0</td>\n",
       "      <td>0</td>\n",
       "      <td>0</td>\n",
       "      <td>2</td>\n",
       "      <td>31</td>\n",
       "      <td>0</td>\n",
       "      <td>3.545455</td>\n",
       "    </tr>\n",
       "    <tr>\n",
       "      <th>4</th>\n",
       "      <td>0</td>\n",
       "      <td>Nah I don't think he goes to usf, he lives aro...</td>\n",
       "      <td>61</td>\n",
       "      <td>0</td>\n",
       "      <td>0</td>\n",
       "      <td>0</td>\n",
       "      <td>2</td>\n",
       "      <td>45</td>\n",
       "      <td>1</td>\n",
       "      <td>3.769231</td>\n",
       "    </tr>\n",
       "    <tr>\n",
       "      <th>...</th>\n",
       "      <td>...</td>\n",
       "      <td>...</td>\n",
       "      <td>...</td>\n",
       "      <td>...</td>\n",
       "      <td>...</td>\n",
       "      <td>...</td>\n",
       "      <td>...</td>\n",
       "      <td>...</td>\n",
       "      <td>...</td>\n",
       "      <td>...</td>\n",
       "    </tr>\n",
       "    <tr>\n",
       "      <th>5567</th>\n",
       "      <td>1</td>\n",
       "      <td>This is the 2nd time we have tried 2 contact u...</td>\n",
       "      <td>161</td>\n",
       "      <td>0</td>\n",
       "      <td>0</td>\n",
       "      <td>0</td>\n",
       "      <td>9</td>\n",
       "      <td>92</td>\n",
       "      <td>4</td>\n",
       "      <td>4.400000</td>\n",
       "    </tr>\n",
       "    <tr>\n",
       "      <th>5568</th>\n",
       "      <td>0</td>\n",
       "      <td>Will Ì_ b going to esplanade fr home?</td>\n",
       "      <td>37</td>\n",
       "      <td>0</td>\n",
       "      <td>0</td>\n",
       "      <td>0</td>\n",
       "      <td>1</td>\n",
       "      <td>26</td>\n",
       "      <td>2</td>\n",
       "      <td>3.750000</td>\n",
       "    </tr>\n",
       "    <tr>\n",
       "      <th>5569</th>\n",
       "      <td>0</td>\n",
       "      <td>Pity, * was in mood for that. So...any other s...</td>\n",
       "      <td>57</td>\n",
       "      <td>0</td>\n",
       "      <td>0</td>\n",
       "      <td>0</td>\n",
       "      <td>2</td>\n",
       "      <td>39</td>\n",
       "      <td>2</td>\n",
       "      <td>4.800000</td>\n",
       "    </tr>\n",
       "    <tr>\n",
       "      <th>5570</th>\n",
       "      <td>0</td>\n",
       "      <td>The guy did some bitching but I acted like i'd...</td>\n",
       "      <td>125</td>\n",
       "      <td>0</td>\n",
       "      <td>0</td>\n",
       "      <td>0</td>\n",
       "      <td>2</td>\n",
       "      <td>97</td>\n",
       "      <td>1</td>\n",
       "      <td>3.846154</td>\n",
       "    </tr>\n",
       "    <tr>\n",
       "      <th>5571</th>\n",
       "      <td>0</td>\n",
       "      <td>Rofl. Its true to its name</td>\n",
       "      <td>26</td>\n",
       "      <td>0</td>\n",
       "      <td>0</td>\n",
       "      <td>0</td>\n",
       "      <td>2</td>\n",
       "      <td>18</td>\n",
       "      <td>0</td>\n",
       "      <td>3.500000</td>\n",
       "    </tr>\n",
       "  </tbody>\n",
       "</table>\n",
       "<p>5572 rows × 10 columns</p>\n",
       "</div>"
      ],
      "text/plain": [
       "      label                                                sms  length  \\\n",
       "0         0  Go until jurong point, crazy.. Available only ...     111   \n",
       "1         0                      Ok lar... Joking wif u oni...      29   \n",
       "2         1  Free entry in 2 a wkly comp to win FA Cup fina...     155   \n",
       "3         0  U dun say so early hor... U c already then say...      49   \n",
       "4         0  Nah I don't think he goes to usf, he lives aro...      61   \n",
       "...     ...                                                ...     ...   \n",
       "5567      1  This is the 2nd time we have tried 2 contact u...     161   \n",
       "5568      0              Will Ì_ b going to esplanade fr home?      37   \n",
       "5569      0  Pity, * was in mood for that. So...any other s...      57   \n",
       "5570      0  The guy did some bitching but I acted like i'd...     125   \n",
       "5571      0                         Rofl. Its true to its name      26   \n",
       "\n",
       "      spam_word  amount_url  phone_number  Uppercase  Lowercase  special_char  \\\n",
       "0             0           0             0          3         80             0   \n",
       "1             0           0             0          2         16             0   \n",
       "2             0           0             2         10         87             3   \n",
       "3             0           0             0          2         31             0   \n",
       "4             0           0             0          2         45             1   \n",
       "...         ...         ...           ...        ...        ...           ...   \n",
       "5567          0           0             0          9         92             4   \n",
       "5568          0           0             0          1         26             2   \n",
       "5569          0           0             0          2         39             2   \n",
       "5570          0           0             0          2         97             1   \n",
       "5571          0           0             0          2         18             0   \n",
       "\n",
       "      avg_word_len  \n",
       "0         4.600000  \n",
       "1         4.000000  \n",
       "2         4.571429  \n",
       "3         3.545455  \n",
       "4         3.769231  \n",
       "...            ...  \n",
       "5567      4.400000  \n",
       "5568      3.750000  \n",
       "5569      4.800000  \n",
       "5570      3.846154  \n",
       "5571      3.500000  \n",
       "\n",
       "[5572 rows x 10 columns]"
      ]
     },
     "execution_count": 165,
     "metadata": {},
     "output_type": "execute_result"
    }
   ],
   "source": [
    "#transform label en binaire\n",
    "from sklearn.preprocessing import LabelEncoder\n",
    "\n",
    "lb = LabelEncoder() \n",
    "dfn['label'] = lb.fit_transform(dfn['label'])\n",
    "dfn"
   ]
  },
  {
   "cell_type": "markdown",
   "id": "08a4c051",
   "metadata": {},
   "source": [
    "Ensuite nous utilisont la methode describe pour comprendre notre nouveau DF."
   ]
  },
  {
   "cell_type": "code",
   "execution_count": 166,
   "id": "98f46dfd",
   "metadata": {},
   "outputs": [
    {
     "data": {
      "text/html": [
       "<div>\n",
       "<style scoped>\n",
       "    .dataframe tbody tr th:only-of-type {\n",
       "        vertical-align: middle;\n",
       "    }\n",
       "\n",
       "    .dataframe tbody tr th {\n",
       "        vertical-align: top;\n",
       "    }\n",
       "\n",
       "    .dataframe thead th {\n",
       "        text-align: right;\n",
       "    }\n",
       "</style>\n",
       "<table border=\"1\" class=\"dataframe\">\n",
       "  <thead>\n",
       "    <tr style=\"text-align: right;\">\n",
       "      <th></th>\n",
       "      <th>label</th>\n",
       "      <th>length</th>\n",
       "      <th>spam_word</th>\n",
       "      <th>amount_url</th>\n",
       "      <th>phone_number</th>\n",
       "      <th>Uppercase</th>\n",
       "      <th>Lowercase</th>\n",
       "      <th>special_char</th>\n",
       "      <th>avg_word_len</th>\n",
       "    </tr>\n",
       "  </thead>\n",
       "  <tbody>\n",
       "    <tr>\n",
       "      <th>count</th>\n",
       "      <td>747.0</td>\n",
       "      <td>747.000000</td>\n",
       "      <td>747.0</td>\n",
       "      <td>747.000000</td>\n",
       "      <td>747.000000</td>\n",
       "      <td>747.000000</td>\n",
       "      <td>747.000000</td>\n",
       "      <td>747.000000</td>\n",
       "      <td>747.000000</td>\n",
       "    </tr>\n",
       "    <tr>\n",
       "      <th>mean</th>\n",
       "      <td>1.0</td>\n",
       "      <td>138.866131</td>\n",
       "      <td>0.0</td>\n",
       "      <td>0.151272</td>\n",
       "      <td>0.871486</td>\n",
       "      <td>15.428380</td>\n",
       "      <td>78.178046</td>\n",
       "      <td>2.737617</td>\n",
       "      <td>4.992839</td>\n",
       "    </tr>\n",
       "    <tr>\n",
       "      <th>std</th>\n",
       "      <td>0.0</td>\n",
       "      <td>29.183082</td>\n",
       "      <td>0.0</td>\n",
       "      <td>0.362273</td>\n",
       "      <td>0.674768</td>\n",
       "      <td>12.306787</td>\n",
       "      <td>22.029511</td>\n",
       "      <td>2.201807</td>\n",
       "      <td>1.005943</td>\n",
       "    </tr>\n",
       "    <tr>\n",
       "      <th>min</th>\n",
       "      <td>1.0</td>\n",
       "      <td>13.000000</td>\n",
       "      <td>0.0</td>\n",
       "      <td>0.000000</td>\n",
       "      <td>0.000000</td>\n",
       "      <td>0.000000</td>\n",
       "      <td>0.000000</td>\n",
       "      <td>0.000000</td>\n",
       "      <td>3.333333</td>\n",
       "    </tr>\n",
       "    <tr>\n",
       "      <th>25%</th>\n",
       "      <td>1.0</td>\n",
       "      <td>132.500000</td>\n",
       "      <td>0.0</td>\n",
       "      <td>0.000000</td>\n",
       "      <td>0.000000</td>\n",
       "      <td>7.000000</td>\n",
       "      <td>66.000000</td>\n",
       "      <td>1.000000</td>\n",
       "      <td>4.423077</td>\n",
       "    </tr>\n",
       "    <tr>\n",
       "      <th>50%</th>\n",
       "      <td>1.0</td>\n",
       "      <td>149.000000</td>\n",
       "      <td>0.0</td>\n",
       "      <td>0.000000</td>\n",
       "      <td>1.000000</td>\n",
       "      <td>13.000000</td>\n",
       "      <td>82.000000</td>\n",
       "      <td>2.000000</td>\n",
       "      <td>4.884615</td>\n",
       "    </tr>\n",
       "    <tr>\n",
       "      <th>75%</th>\n",
       "      <td>1.0</td>\n",
       "      <td>157.000000</td>\n",
       "      <td>0.0</td>\n",
       "      <td>0.000000</td>\n",
       "      <td>1.000000</td>\n",
       "      <td>21.000000</td>\n",
       "      <td>94.000000</td>\n",
       "      <td>4.000000</td>\n",
       "      <td>5.375000</td>\n",
       "    </tr>\n",
       "    <tr>\n",
       "      <th>max</th>\n",
       "      <td>1.0</td>\n",
       "      <td>224.000000</td>\n",
       "      <td>0.0</td>\n",
       "      <td>2.000000</td>\n",
       "      <td>3.000000</td>\n",
       "      <td>128.000000</td>\n",
       "      <td>137.000000</td>\n",
       "      <td>20.000000</td>\n",
       "      <td>17.333333</td>\n",
       "    </tr>\n",
       "  </tbody>\n",
       "</table>\n",
       "</div>"
      ],
      "text/plain": [
       "       label      length  spam_word  amount_url  phone_number   Uppercase  \\\n",
       "count  747.0  747.000000      747.0  747.000000    747.000000  747.000000   \n",
       "mean     1.0  138.866131        0.0    0.151272      0.871486   15.428380   \n",
       "std      0.0   29.183082        0.0    0.362273      0.674768   12.306787   \n",
       "min      1.0   13.000000        0.0    0.000000      0.000000    0.000000   \n",
       "25%      1.0  132.500000        0.0    0.000000      0.000000    7.000000   \n",
       "50%      1.0  149.000000        0.0    0.000000      1.000000   13.000000   \n",
       "75%      1.0  157.000000        0.0    0.000000      1.000000   21.000000   \n",
       "max      1.0  224.000000        0.0    2.000000      3.000000  128.000000   \n",
       "\n",
       "        Lowercase  special_char  avg_word_len  \n",
       "count  747.000000    747.000000    747.000000  \n",
       "mean    78.178046      2.737617      4.992839  \n",
       "std     22.029511      2.201807      1.005943  \n",
       "min      0.000000      0.000000      3.333333  \n",
       "25%     66.000000      1.000000      4.423077  \n",
       "50%     82.000000      2.000000      4.884615  \n",
       "75%     94.000000      4.000000      5.375000  \n",
       "max    137.000000     20.000000     17.333333  "
      ]
     },
     "execution_count": 166,
     "metadata": {},
     "output_type": "execute_result"
    }
   ],
   "source": [
    "#caracteristique des spams\n",
    "spam = dfn.loc[dfn.label==1]\n",
    "spam.describe()"
   ]
  },
  {
   "cell_type": "code",
   "execution_count": 167,
   "id": "f3c2b747",
   "metadata": {},
   "outputs": [
    {
     "data": {
      "text/html": [
       "<div>\n",
       "<style scoped>\n",
       "    .dataframe tbody tr th:only-of-type {\n",
       "        vertical-align: middle;\n",
       "    }\n",
       "\n",
       "    .dataframe tbody tr th {\n",
       "        vertical-align: top;\n",
       "    }\n",
       "\n",
       "    .dataframe thead th {\n",
       "        text-align: right;\n",
       "    }\n",
       "</style>\n",
       "<table border=\"1\" class=\"dataframe\">\n",
       "  <thead>\n",
       "    <tr style=\"text-align: right;\">\n",
       "      <th></th>\n",
       "      <th>label</th>\n",
       "      <th>length</th>\n",
       "      <th>spam_word</th>\n",
       "      <th>amount_url</th>\n",
       "      <th>phone_number</th>\n",
       "      <th>Uppercase</th>\n",
       "      <th>Lowercase</th>\n",
       "      <th>special_char</th>\n",
       "      <th>avg_word_len</th>\n",
       "    </tr>\n",
       "  </thead>\n",
       "  <tbody>\n",
       "    <tr>\n",
       "      <th>count</th>\n",
       "      <td>4825.0</td>\n",
       "      <td>4825.000000</td>\n",
       "      <td>4825.0</td>\n",
       "      <td>4825.000000</td>\n",
       "      <td>4825.000000</td>\n",
       "      <td>4825.000000</td>\n",
       "      <td>4825.000000</td>\n",
       "      <td>4825.000000</td>\n",
       "      <td>4825.000000</td>\n",
       "    </tr>\n",
       "    <tr>\n",
       "      <th>mean</th>\n",
       "      <td>0.0</td>\n",
       "      <td>71.023627</td>\n",
       "      <td>0.0</td>\n",
       "      <td>0.000622</td>\n",
       "      <td>0.000207</td>\n",
       "      <td>3.961036</td>\n",
       "      <td>49.355233</td>\n",
       "      <td>1.355026</td>\n",
       "      <td>4.177574</td>\n",
       "    </tr>\n",
       "    <tr>\n",
       "      <th>std</th>\n",
       "      <td>0.0</td>\n",
       "      <td>58.016023</td>\n",
       "      <td>0.0</td>\n",
       "      <td>0.024930</td>\n",
       "      <td>0.014396</td>\n",
       "      <td>10.099676</td>\n",
       "      <td>41.652164</td>\n",
       "      <td>2.146811</td>\n",
       "      <td>1.133530</td>\n",
       "    </tr>\n",
       "    <tr>\n",
       "      <th>min</th>\n",
       "      <td>0.0</td>\n",
       "      <td>2.000000</td>\n",
       "      <td>0.0</td>\n",
       "      <td>0.000000</td>\n",
       "      <td>0.000000</td>\n",
       "      <td>0.000000</td>\n",
       "      <td>0.000000</td>\n",
       "      <td>0.000000</td>\n",
       "      <td>1.500000</td>\n",
       "    </tr>\n",
       "    <tr>\n",
       "      <th>25%</th>\n",
       "      <td>0.0</td>\n",
       "      <td>33.000000</td>\n",
       "      <td>0.0</td>\n",
       "      <td>0.000000</td>\n",
       "      <td>0.000000</td>\n",
       "      <td>1.000000</td>\n",
       "      <td>23.000000</td>\n",
       "      <td>0.000000</td>\n",
       "      <td>3.600000</td>\n",
       "    </tr>\n",
       "    <tr>\n",
       "      <th>50%</th>\n",
       "      <td>0.0</td>\n",
       "      <td>52.000000</td>\n",
       "      <td>0.0</td>\n",
       "      <td>0.000000</td>\n",
       "      <td>0.000000</td>\n",
       "      <td>2.000000</td>\n",
       "      <td>37.000000</td>\n",
       "      <td>1.000000</td>\n",
       "      <td>4.000000</td>\n",
       "    </tr>\n",
       "    <tr>\n",
       "      <th>75%</th>\n",
       "      <td>0.0</td>\n",
       "      <td>92.000000</td>\n",
       "      <td>0.0</td>\n",
       "      <td>0.000000</td>\n",
       "      <td>0.000000</td>\n",
       "      <td>3.000000</td>\n",
       "      <td>65.000000</td>\n",
       "      <td>2.000000</td>\n",
       "      <td>4.500000</td>\n",
       "    </tr>\n",
       "    <tr>\n",
       "      <th>max</th>\n",
       "      <td>0.0</td>\n",
       "      <td>910.000000</td>\n",
       "      <td>0.0</td>\n",
       "      <td>1.000000</td>\n",
       "      <td>1.000000</td>\n",
       "      <td>127.000000</td>\n",
       "      <td>706.000000</td>\n",
       "      <td>56.000000</td>\n",
       "      <td>49.000000</td>\n",
       "    </tr>\n",
       "  </tbody>\n",
       "</table>\n",
       "</div>"
      ],
      "text/plain": [
       "        label       length  spam_word   amount_url  phone_number    Uppercase  \\\n",
       "count  4825.0  4825.000000     4825.0  4825.000000   4825.000000  4825.000000   \n",
       "mean      0.0    71.023627        0.0     0.000622      0.000207     3.961036   \n",
       "std       0.0    58.016023        0.0     0.024930      0.014396    10.099676   \n",
       "min       0.0     2.000000        0.0     0.000000      0.000000     0.000000   \n",
       "25%       0.0    33.000000        0.0     0.000000      0.000000     1.000000   \n",
       "50%       0.0    52.000000        0.0     0.000000      0.000000     2.000000   \n",
       "75%       0.0    92.000000        0.0     0.000000      0.000000     3.000000   \n",
       "max       0.0   910.000000        0.0     1.000000      1.000000   127.000000   \n",
       "\n",
       "         Lowercase  special_char  avg_word_len  \n",
       "count  4825.000000   4825.000000   4825.000000  \n",
       "mean     49.355233      1.355026      4.177574  \n",
       "std      41.652164      2.146811      1.133530  \n",
       "min       0.000000      0.000000      1.500000  \n",
       "25%      23.000000      0.000000      3.600000  \n",
       "50%      37.000000      1.000000      4.000000  \n",
       "75%      65.000000      2.000000      4.500000  \n",
       "max     706.000000     56.000000     49.000000  "
      ]
     },
     "execution_count": 167,
     "metadata": {},
     "output_type": "execute_result"
    }
   ],
   "source": [
    "#caracteristique des hams\n",
    "ham = dfn.loc[dfn.label==0]\n",
    "ham.describe() \n"
   ]
  },
  {
   "cell_type": "markdown",
   "id": "f5e60db7",
   "metadata": {},
   "source": [
    "Nous analysons grace à la moyen les caracteriques moyennes des spams et des hams. Cela nous permet de bien remarquer la différence entre les deux type de message."
   ]
  },
  {
   "cell_type": "code",
   "execution_count": 168,
   "id": "3516add5",
   "metadata": {},
   "outputs": [
    {
     "data": {
      "text/plain": [
       "<AxesSubplot:>"
      ]
     },
     "execution_count": 168,
     "metadata": {},
     "output_type": "execute_result"
    },
    {
     "data": {
      "image/png": "[encoded data removed]",
      "text/plain": [
       "<Figure size 1440x720 with 2 Axes>"
      ]
     },
     "metadata": {
      "needs_background": "light"
     },
     "output_type": "display_data"
    }
   ],
   "source": [
    "# Plot heatmap with seaborn\n",
    "import seaborn as sns\n",
    "sns.heatmap(dfn.corr(), annot=True, linewidths=0.1)"
   ]
  },
  {
   "cell_type": "markdown",
   "id": "4748bf1a",
   "metadata": {},
   "source": [
    "La heatmap nous permet de voir si il y a des corrélations entre les différentes features et le label.\n",
    "Nous remarquons très vite que les numéros de téléphone influe beaucoup sur le label (spam et ham)"
   ]
  },
  {
   "cell_type": "code",
   "execution_count": 169,
   "id": "52b33cbf",
   "metadata": {},
   "outputs": [],
   "source": [
    "#sns.pairplot(dfn)"
   ]
  },
  {
   "cell_type": "code",
   "execution_count": 170,
   "id": "ba10dfd6",
   "metadata": {},
   "outputs": [
    {
     "data": {
      "text/html": [
       "<div>\n",
       "<style scoped>\n",
       "    .dataframe tbody tr th:only-of-type {\n",
       "        vertical-align: middle;\n",
       "    }\n",
       "\n",
       "    .dataframe tbody tr th {\n",
       "        vertical-align: top;\n",
       "    }\n",
       "\n",
       "    .dataframe thead th {\n",
       "        text-align: right;\n",
       "    }\n",
       "</style>\n",
       "<table border=\"1\" class=\"dataframe\">\n",
       "  <thead>\n",
       "    <tr style=\"text-align: right;\">\n",
       "      <th></th>\n",
       "      <th>label</th>\n",
       "      <th>sms</th>\n",
       "      <th>length</th>\n",
       "      <th>spam_word</th>\n",
       "      <th>amount_url</th>\n",
       "      <th>phone_number</th>\n",
       "      <th>Uppercase</th>\n",
       "      <th>Lowercase</th>\n",
       "      <th>special_char</th>\n",
       "      <th>avg_word_len</th>\n",
       "    </tr>\n",
       "  </thead>\n",
       "  <tbody>\n",
       "    <tr>\n",
       "      <th>0</th>\n",
       "      <td>0</td>\n",
       "      <td>Go until jurong point, crazy.. Available only ...</td>\n",
       "      <td>111</td>\n",
       "      <td>0</td>\n",
       "      <td>0</td>\n",
       "      <td>0</td>\n",
       "      <td>3</td>\n",
       "      <td>80</td>\n",
       "      <td>0</td>\n",
       "      <td>4.600000</td>\n",
       "    </tr>\n",
       "    <tr>\n",
       "      <th>1</th>\n",
       "      <td>0</td>\n",
       "      <td>Ok lar... Joking wif u oni...</td>\n",
       "      <td>29</td>\n",
       "      <td>0</td>\n",
       "      <td>0</td>\n",
       "      <td>0</td>\n",
       "      <td>2</td>\n",
       "      <td>16</td>\n",
       "      <td>0</td>\n",
       "      <td>4.000000</td>\n",
       "    </tr>\n",
       "    <tr>\n",
       "      <th>2</th>\n",
       "      <td>1</td>\n",
       "      <td>Free entry in 2 a wkly comp to win FA Cup fina...</td>\n",
       "      <td>155</td>\n",
       "      <td>0</td>\n",
       "      <td>0</td>\n",
       "      <td>2</td>\n",
       "      <td>10</td>\n",
       "      <td>87</td>\n",
       "      <td>3</td>\n",
       "      <td>4.571429</td>\n",
       "    </tr>\n",
       "    <tr>\n",
       "      <th>3</th>\n",
       "      <td>0</td>\n",
       "      <td>U dun say so early hor... U c already then say...</td>\n",
       "      <td>49</td>\n",
       "      <td>0</td>\n",
       "      <td>0</td>\n",
       "      <td>0</td>\n",
       "      <td>2</td>\n",
       "      <td>31</td>\n",
       "      <td>0</td>\n",
       "      <td>3.545455</td>\n",
       "    </tr>\n",
       "    <tr>\n",
       "      <th>4</th>\n",
       "      <td>0</td>\n",
       "      <td>Nah I don't think he goes to usf, he lives aro...</td>\n",
       "      <td>61</td>\n",
       "      <td>0</td>\n",
       "      <td>0</td>\n",
       "      <td>0</td>\n",
       "      <td>2</td>\n",
       "      <td>45</td>\n",
       "      <td>1</td>\n",
       "      <td>3.769231</td>\n",
       "    </tr>\n",
       "  </tbody>\n",
       "</table>\n",
       "</div>"
      ],
      "text/plain": [
       "   label                                                sms  length  \\\n",
       "0      0  Go until jurong point, crazy.. Available only ...     111   \n",
       "1      0                      Ok lar... Joking wif u oni...      29   \n",
       "2      1  Free entry in 2 a wkly comp to win FA Cup fina...     155   \n",
       "3      0  U dun say so early hor... U c already then say...      49   \n",
       "4      0  Nah I don't think he goes to usf, he lives aro...      61   \n",
       "\n",
       "   spam_word  amount_url  phone_number  Uppercase  Lowercase  special_char  \\\n",
       "0          0           0             0          3         80             0   \n",
       "1          0           0             0          2         16             0   \n",
       "2          0           0             2         10         87             3   \n",
       "3          0           0             0          2         31             0   \n",
       "4          0           0             0          2         45             1   \n",
       "\n",
       "   avg_word_len  \n",
       "0      4.600000  \n",
       "1      4.000000  \n",
       "2      4.571429  \n",
       "3      3.545455  \n",
       "4      3.769231  "
      ]
     },
     "execution_count": 170,
     "metadata": {},
     "output_type": "execute_result"
    }
   ],
   "source": [
    "#creation d'une visualisation 3D\n",
    "from mpl_toolkits.mplot3d import Axes3D\n",
    "import numpy as np\n",
    "import matplotlib.pyplot as plt\n",
    "from matplotlib import cm\n",
    "from matplotlib.ticker import LinearLocator, FormatStrFormatter\n",
    "from mpl_toolkits.mplot3d import Axes3D\n",
    "dfn.head()"
   ]
  },
  {
   "cell_type": "code",
   "execution_count": 171,
   "id": "09c60bce",
   "metadata": {},
   "outputs": [
    {
     "data": {
      "image/png": "[encoded data removed]",
      "text/plain": [
       "<Figure size 1440x720 with 1 Axes>"
      ]
     },
     "metadata": {
      "needs_background": "light"
     },
     "output_type": "display_data"
    }
   ],
   "source": [
    "threedee = plt.figure().gca(projection='3d')\n",
    "threedee.scatter(dfn['phone_number'], dfn['label'], dfn['spam_word'])\n",
    "threedee.set_xlabel('phone_number')\n",
    "threedee.set_ylabel('label')\n",
    "threedee.set_zlabel('spam_word')\n",
    "plt.show()"
   ]
  },
  {
   "cell_type": "code",
   "execution_count": 172,
   "id": "10da212d",
   "metadata": {},
   "outputs": [
    {
     "data": {
      "text/html": [
       "<div>\n",
       "<style scoped>\n",
       "    .dataframe tbody tr th:only-of-type {\n",
       "        vertical-align: middle;\n",
       "    }\n",
       "\n",
       "    .dataframe tbody tr th {\n",
       "        vertical-align: top;\n",
       "    }\n",
       "\n",
       "    .dataframe thead th {\n",
       "        text-align: right;\n",
       "    }\n",
       "</style>\n",
       "<table border=\"1\" class=\"dataframe\">\n",
       "  <thead>\n",
       "    <tr style=\"text-align: right;\">\n",
       "      <th></th>\n",
       "      <th>label</th>\n",
       "      <th>sms</th>\n",
       "      <th>length</th>\n",
       "      <th>spam_word</th>\n",
       "      <th>amount_url</th>\n",
       "      <th>phone_number</th>\n",
       "      <th>Uppercase</th>\n",
       "      <th>Lowercase</th>\n",
       "      <th>special_char</th>\n",
       "      <th>avg_word_len</th>\n",
       "    </tr>\n",
       "  </thead>\n",
       "  <tbody>\n",
       "    <tr>\n",
       "      <th>0</th>\n",
       "      <td>0</td>\n",
       "      <td>Go until jurong point, crazy.. Available only ...</td>\n",
       "      <td>111</td>\n",
       "      <td>0</td>\n",
       "      <td>0</td>\n",
       "      <td>0</td>\n",
       "      <td>3</td>\n",
       "      <td>80</td>\n",
       "      <td>0</td>\n",
       "      <td>4.600000</td>\n",
       "    </tr>\n",
       "    <tr>\n",
       "      <th>1</th>\n",
       "      <td>0</td>\n",
       "      <td>Ok lar... Joking wif u oni...</td>\n",
       "      <td>29</td>\n",
       "      <td>0</td>\n",
       "      <td>0</td>\n",
       "      <td>0</td>\n",
       "      <td>2</td>\n",
       "      <td>16</td>\n",
       "      <td>0</td>\n",
       "      <td>4.000000</td>\n",
       "    </tr>\n",
       "    <tr>\n",
       "      <th>2</th>\n",
       "      <td>1</td>\n",
       "      <td>Free entry in 2 a wkly comp to win FA Cup fina...</td>\n",
       "      <td>155</td>\n",
       "      <td>0</td>\n",
       "      <td>0</td>\n",
       "      <td>2</td>\n",
       "      <td>10</td>\n",
       "      <td>87</td>\n",
       "      <td>3</td>\n",
       "      <td>4.571429</td>\n",
       "    </tr>\n",
       "    <tr>\n",
       "      <th>3</th>\n",
       "      <td>0</td>\n",
       "      <td>U dun say so early hor... U c already then say...</td>\n",
       "      <td>49</td>\n",
       "      <td>0</td>\n",
       "      <td>0</td>\n",
       "      <td>0</td>\n",
       "      <td>2</td>\n",
       "      <td>31</td>\n",
       "      <td>0</td>\n",
       "      <td>3.545455</td>\n",
       "    </tr>\n",
       "    <tr>\n",
       "      <th>4</th>\n",
       "      <td>0</td>\n",
       "      <td>Nah I don't think he goes to usf, he lives aro...</td>\n",
       "      <td>61</td>\n",
       "      <td>0</td>\n",
       "      <td>0</td>\n",
       "      <td>0</td>\n",
       "      <td>2</td>\n",
       "      <td>45</td>\n",
       "      <td>1</td>\n",
       "      <td>3.769231</td>\n",
       "    </tr>\n",
       "  </tbody>\n",
       "</table>\n",
       "</div>"
      ],
      "text/plain": [
       "   label                                                sms  length  \\\n",
       "0      0  Go until jurong point, crazy.. Available only ...     111   \n",
       "1      0                      Ok lar... Joking wif u oni...      29   \n",
       "2      1  Free entry in 2 a wkly comp to win FA Cup fina...     155   \n",
       "3      0  U dun say so early hor... U c already then say...      49   \n",
       "4      0  Nah I don't think he goes to usf, he lives aro...      61   \n",
       "\n",
       "   spam_word  amount_url  phone_number  Uppercase  Lowercase  special_char  \\\n",
       "0          0           0             0          3         80             0   \n",
       "1          0           0             0          2         16             0   \n",
       "2          0           0             2         10         87             3   \n",
       "3          0           0             0          2         31             0   \n",
       "4          0           0             0          2         45             1   \n",
       "\n",
       "   avg_word_len  \n",
       "0      4.600000  \n",
       "1      4.000000  \n",
       "2      4.571429  \n",
       "3      3.545455  \n",
       "4      3.769231  "
      ]
     },
     "execution_count": 172,
     "metadata": {},
     "output_type": "execute_result"
    }
   ],
   "source": [
    "dfn.head()"
   ]
  },
  {
   "cell_type": "code",
   "execution_count": 173,
   "id": "4b5c285c",
   "metadata": {},
   "outputs": [],
   "source": [
    "#webbrowser.open('https://jakevdp.github.io/PythonDataScienceHandbook/04.12-three-dimensional-plotting.html')"
   ]
  },
  {
   "cell_type": "markdown",
   "id": "9c54e27a",
   "metadata": {},
   "source": [
    "### Entrainement du jeu de donnee et choix du model"
   ]
  },
  {
   "cell_type": "markdown",
   "id": "c104260d",
   "metadata": {},
   "source": [
    "Nous pouvons enfin entrainer notre jeu de donnée grace à la méthode train test split en utilisant le paramétre Stratify pour équilibré les spams et les hams dans la séparation des donnée."
   ]
  },
  {
   "cell_type": "code",
   "execution_count": 174,
   "id": "dd0d94f9",
   "metadata": {},
   "outputs": [],
   "source": [
    "from sklearn.model_selection import train_test_split"
   ]
  },
  {
   "cell_type": "code",
   "execution_count": 249,
   "id": "4a7ceeb6",
   "metadata": {},
   "outputs": [
    {
     "name": "stdout",
     "output_type": "stream",
     "text": [
      "train set: (4457, 2)\n",
      "test set: (1115, 2)\n"
     ]
    }
   ],
   "source": [
    "y = dfn['label']\n",
    "X = dfn.drop(['label','sms'], axis = 1 )\n",
    "\n",
    "X_train, X_test, y_train, y_test = train_test_split(X, y, test_size=0.20, random_state=1, stratify=(y))\n",
    "print('train set:', X_train.shape)\n",
    "print('test set:', X_test.shape)"
   ]
  },
  {
   "cell_type": "markdown",
   "id": "6656e3b7",
   "metadata": {},
   "source": [
    "#### Model KNN"
   ]
  },
  {
   "cell_type": "markdown",
   "id": "f0fec4a1",
   "metadata": {},
   "source": [
    "On entraine notre premier modèle: KNN "
   ]
  },
  {
   "cell_type": "code",
   "execution_count": 176,
   "id": "2ca06265",
   "metadata": {},
   "outputs": [
    {
     "data": {
      "text/plain": [
       "KNeighborsClassifier(n_neighbors=10)"
      ]
     },
     "execution_count": 176,
     "metadata": {},
     "output_type": "execute_result"
    }
   ],
   "source": [
    "from sklearn.neighbors import KNeighborsClassifier\n",
    "modelKN = KNeighborsClassifier(n_neighbors=10)\n",
    "modelKN.fit(X_train, y_train)\n",
    "#print('train score:', modelKN.score(X_train,y_train))\n",
    "#print('test score:', modelKN.score(X_test,y_test))\n"
   ]
  },
  {
   "cell_type": "markdown",
   "id": "1e79c0b8",
   "metadata": {},
   "source": [
    "On utilise la fonction cross validation pour remarquer si il y a des ecarts entre la performance du modèle et le résultat du SKF."
   ]
  },
  {
   "cell_type": "code",
   "execution_count": 177,
   "id": "8d7e42b5",
   "metadata": {},
   "outputs": [],
   "source": [
    "from sklearn.model_selection import cross_val_score\n",
    "from sklearn.model_selection import StratifiedKFold, cross_val_score"
   ]
  },
  {
   "cell_type": "code",
   "execution_count": 254,
   "id": "467cae17",
   "metadata": {},
   "outputs": [
    {
     "name": "stdout",
     "output_type": "stream",
     "text": [
      "[0.84753363 0.867713   0.85650224 0.89461883 0.88116592 0.867713\n",
      " 0.89237668 0.88539326 0.88539326 0.89213483]\n",
      "moyenne_train: 87.70544666700258 %\n"
     ]
    }
   ],
   "source": [
    "#cross validation \n",
    "cv = StratifiedKFold(10)\n",
    "val_score = cross_val_score(modelKN, X_train, y_train, cv=cv)\n",
    "print(val_score)\n",
    "print('moyenne_train:',(val_score.mean())*100,'%')"
   ]
  },
  {
   "cell_type": "markdown",
   "id": "37102fbf",
   "metadata": {},
   "source": [
    "voici les resultats de notre modele"
   ]
  },
  {
   "cell_type": "code",
   "execution_count": 256,
   "id": "fd7a652b",
   "metadata": {},
   "outputs": [
    {
     "name": "stdout",
     "output_type": "stream",
     "text": [
      "train score: 89.23042405205295 %\n",
      "test score: 87.2645739910314 %\n"
     ]
    }
   ],
   "source": [
    "modelKN.fit(X_train, y_train)\n",
    "print('train score:', (modelKN.score(X_train,y_train))*100,'%')\n",
    "print('test score:', (modelKN.score(X_test,y_test))*100,'%')"
   ]
  },
  {
   "cell_type": "markdown",
   "id": "ca8b567a",
   "metadata": {},
   "source": [
    "On remarque que la difference entre les resultats de la cross validation et les résultats de notre modèle ne sont pas très éloignés. "
   ]
  },
  {
   "cell_type": "markdown",
   "id": "d3005fda",
   "metadata": {},
   "source": [
    "#### Validation curve par une boucle"
   ]
  },
  {
   "cell_type": "code",
   "execution_count": 257,
   "id": "bc9e2723",
   "metadata": {},
   "outputs": [],
   "source": [
    "#validation curve par une boucle\n",
    "val_score = []\n",
    "for k in range(1, 10):\n",
    "    cv = StratifiedKFold(10)\n",
    "    score = cross_val_score(KNeighborsClassifier(k), X_train, y_train, cv=cv).mean()\n",
    "    val_score.append(score)\n",
    "#plt.plot(val_score)\n"
   ]
  },
  {
   "cell_type": "code",
   "execution_count": 258,
   "id": "f32b0444",
   "metadata": {},
   "outputs": [
    {
     "data": {
      "text/plain": [
       "array([0.85079696, 0.86829783, 0.87884576, 0.87974312, 0.87592744,\n",
       "       0.8819888 , 0.88355805])"
      ]
     },
     "execution_count": 258,
     "metadata": {},
     "output_type": "execute_result"
    }
   ],
   "source": [
    "#validation curve par la methode validation_curve\n",
    "from sklearn.model_selection import validation_curve\n",
    "model = KNeighborsClassifier()\n",
    "k = np.arange(1, 15,2)\n",
    "train_score,val_score1 = validation_curve(model, X_train, y_train,param_name='n_neighbors',param_range=k,cv=5)\n",
    "val_score1.mean(axis=1)"
   ]
  },
  {
   "cell_type": "code",
   "execution_count": 259,
   "id": "f88f9163",
   "metadata": {},
   "outputs": [
    {
     "data": {
      "text/plain": [
       "<matplotlib.legend.Legend at 0x13f1afce2e0>"
      ]
     },
     "execution_count": 259,
     "metadata": {},
     "output_type": "execute_result"
    },
    {
     "data": {
      "image/png": "[encoded data removed]",
      "text/plain": [
       "<Figure size 1440x720 with 1 Axes>"
      ]
     },
     "metadata": {
      "needs_background": "light"
     },
     "output_type": "display_data"
    }
   ],
   "source": [
    "plt.plot(k, val_score1.mean(axis=1),label = 'validation')\n",
    "plt.plot(k, train_score.mean(axis=1), label=\"train\")\n",
    "plt.ylabel('score')\n",
    "plt.xlabel('n_neighbors')\n",
    "plt.legend()"
   ]
  },
  {
   "cell_type": "markdown",
   "id": "2ea8f75c",
   "metadata": {},
   "source": [
    "On est en overfiting quand k=1 dans le train"
   ]
  },
  {
   "cell_type": "markdown",
   "id": "df2c93b1",
   "metadata": {},
   "source": [
    "#### confusion matrix et metrics"
   ]
  },
  {
   "cell_type": "code",
   "execution_count": 260,
   "id": "d973ca27",
   "metadata": {},
   "outputs": [],
   "source": [
    "#confusion matrix\n",
    "from sklearn.metrics import confusion_matrix, recall_score, accuracy_score, f1_score\n",
    "\n",
    "prediction = modelKN.predict(X_train)\n",
    "#print(prediction.tolist())\n",
    "prediction2 = modelKN.predict(X_test)"
   ]
  },
  {
   "cell_type": "code",
   "execution_count": 261,
   "id": "8cd9b956",
   "metadata": {},
   "outputs": [
    {
     "data": {
      "image/png": "[encoded data removed]",
      "text/plain": [
       "<Figure size 360x360 with 1 Axes>"
      ]
     },
     "metadata": {
      "needs_background": "light"
     },
     "output_type": "display_data"
    }
   ],
   "source": [
    "# Calculate the confusion matrix\n",
    "conf_matrix = confusion_matrix(y_train, prediction)\n",
    "#\n",
    "# Print the confusion matrix using Matplotlib\n",
    "#\n",
    "fig, ax = plt.subplots(figsize=(5, 5))\n",
    "ax.matshow(conf_matrix, cmap=plt.cm.Oranges, alpha=0.3)\n",
    "for i in range(conf_matrix.shape[0]):\n",
    "    for j in range(conf_matrix.shape[1]):\n",
    "        ax.text(x=j, y=i,s=conf_matrix[i, j], va='center', ha='center', size='xx-large')\n",
    " \n",
    "plt.xlabel('Predictions', fontsize=18)\n",
    "plt.ylabel('Actuals', fontsize=18)\n",
    "plt.title('Confusion Matrix train', fontsize=18)\n",
    "plt.show()"
   ]
  },
  {
   "cell_type": "code",
   "execution_count": 262,
   "id": "cae280ab",
   "metadata": {},
   "outputs": [
    {
     "data": {
      "image/png": "[encoded data removed]",
      "text/plain": [
       "<Figure size 360x360 with 1 Axes>"
      ]
     },
     "metadata": {
      "needs_background": "light"
     },
     "output_type": "display_data"
    }
   ],
   "source": [
    "# Calculate the confusion matrix\n",
    "conf_matrix = confusion_matrix(y_test, prediction2)\n",
    "#\n",
    "# Print the confusion matrix using Matplotlib\n",
    "#\n",
    "fig, ax = plt.subplots(figsize=(5, 5))\n",
    "ax.matshow(conf_matrix, cmap=plt.cm.Oranges, alpha=0.3)\n",
    "for i in range(conf_matrix.shape[0]):\n",
    "    for j in range(conf_matrix.shape[1]):\n",
    "        ax.text(x=j, y=i,s=conf_matrix[i, j], va='center', ha='center', size='xx-large')\n",
    " \n",
    "plt.xlabel('Predictions', fontsize=18)\n",
    "plt.ylabel('Actuals', fontsize=18)\n",
    "plt.title('Confusion Matrix test', fontsize=18)\n",
    "plt.show()"
   ]
  },
  {
   "cell_type": "code",
   "execution_count": 275,
   "id": "f16ed377",
   "metadata": {},
   "outputs": [
    {
     "name": "stdout",
     "output_type": "stream",
     "text": [
      "recall 54.84949832775919 %\n",
      "Accuracy: 0.873\n",
      "F1 Score: 0.503\n"
     ]
    }
   ],
   "source": [
    "#recall\n",
    "print('recall',(recall_score(y_train, prediction,pos_label='spam'))*100,'%')\n",
    "print('Accuracy: %.3f' % accuracy_score(y_test, prediction2))\n",
    "print('F1 Score: %.3f' % f1_score(y_test, prediction2,pos_label='spam'))"
   ]
  },
  {
   "cell_type": "markdown",
   "id": "bfc2f0dc",
   "metadata": {
    "heading_collapsed": true
   },
   "source": [
    "#### Prediction avec Randomforest"
   ]
  },
  {
   "cell_type": "code",
   "execution_count": null,
   "id": "02aa0773",
   "metadata": {
    "hidden": true
   },
   "outputs": [],
   "source": []
  },
  {
   "cell_type": "code",
   "execution_count": 187,
   "id": "ad4e2487",
   "metadata": {
    "hidden": true
   },
   "outputs": [
    {
     "data": {
      "text/plain": [
       "RandomForestClassifier()"
      ]
     },
     "execution_count": 187,
     "metadata": {},
     "output_type": "execute_result"
    }
   ],
   "source": [
    "from sklearn.ensemble import RandomForestClassifier\n",
    "modelRF = RandomForestClassifier()\n",
    "modelRF.fit(X_train, y_train)\n"
   ]
  },
  {
   "cell_type": "code",
   "execution_count": 188,
   "id": "27441748",
   "metadata": {
    "hidden": true
   },
   "outputs": [
    {
     "name": "stdout",
     "output_type": "stream",
     "text": [
      "[0.96973094 0.97197309 0.97643098 0.97979798 0.98204265]\n",
      "score moyen: 97.5995128162542 %\n"
     ]
    }
   ],
   "source": [
    "from sklearn.model_selection import StratifiedKFold, cross_val_score\n",
    "cv1 = StratifiedKFold(5)\n",
    "val_crossRF = cross_val_score(modelRF, X_train, y_train, cv=cv1)\n",
    "print(val_crossRF)\n",
    "print('score moyen:',(val_crossRF.mean())*100,'%')"
   ]
  },
  {
   "cell_type": "code",
   "execution_count": 189,
   "id": "e60acc4a",
   "metadata": {
    "hidden": true
   },
   "outputs": [
    {
     "name": "stdout",
     "output_type": "stream",
     "text": [
      "98.56502242152466 %\n"
     ]
    }
   ],
   "source": [
    "scoreRF = modelRF.score(X_test, y_test)\n",
    "print(scoreRF*100,'%')"
   ]
  },
  {
   "cell_type": "code",
   "execution_count": 190,
   "id": "46ce3467",
   "metadata": {
    "hidden": true
   },
   "outputs": [],
   "source": [
    "#confusion matrix\n",
    "from sklearn.metrics import confusion_matrix, recall_score\n",
    "\n",
    "predictionRF = modelRF.predict(X_train)\n",
    "#print(prediction.tolist())\n",
    "predictionRF_test = modelRF.predict(X_test)"
   ]
  },
  {
   "cell_type": "code",
   "execution_count": 191,
   "id": "d91945d1",
   "metadata": {
    "hidden": true
   },
   "outputs": [
    {
     "data": {
      "text/plain": [
       "array([[3849,    0],\n",
       "       [   0,  608]], dtype=int64)"
      ]
     },
     "execution_count": 191,
     "metadata": {},
     "output_type": "execute_result"
    }
   ],
   "source": [
    "confusion_matrix(y_train, predictionRF)"
   ]
  },
  {
   "cell_type": "code",
   "execution_count": 192,
   "id": "4da0a723",
   "metadata": {
    "hidden": true
   },
   "outputs": [
    {
     "data": {
      "text/plain": [
       "array([[973,   3],\n",
       "       [ 13, 126]], dtype=int64)"
      ]
     },
     "execution_count": 192,
     "metadata": {},
     "output_type": "execute_result"
    }
   ],
   "source": [
    "confusion_matrix(y_test, predictionRF_test)"
   ]
  },
  {
   "cell_type": "code",
   "execution_count": 193,
   "id": "eba88735",
   "metadata": {
    "hidden": true
   },
   "outputs": [
    {
     "name": "stdout",
     "output_type": "stream",
     "text": [
      "bonne prediction des spam: 100.0 %\n"
     ]
    }
   ],
   "source": [
    "#recall\n",
    "print('bonne prediction des spam:',(recall_score(y_train, predictionRF))*100,'%')"
   ]
  },
  {
   "cell_type": "code",
   "execution_count": 194,
   "id": "fc063cbc",
   "metadata": {
    "hidden": true
   },
   "outputs": [
    {
     "name": "stdout",
     "output_type": "stream",
     "text": [
      "bonne prediction des spam: 90.64748201438849 %\n"
     ]
    }
   ],
   "source": [
    "#recall\n",
    "print('bonne prediction des spam:',(recall_score(y_test, predictionRF_test))*100,'%')"
   ]
  },
  {
   "cell_type": "markdown",
   "id": "79d46009",
   "metadata": {},
   "source": [
    "####  GridSearchCV"
   ]
  },
  {
   "cell_type": "markdown",
   "id": "12c3708d",
   "metadata": {},
   "source": [
    "Dans cette partie nous allons utiliser le GridSearch pour trouver les meilleurs parametre"
   ]
  },
  {
   "cell_type": "code",
   "execution_count": 195,
   "id": "1e252450",
   "metadata": {},
   "outputs": [],
   "source": [
    "from sklearn.model_selection import GridSearchCV"
   ]
  },
  {
   "cell_type": "code",
   "execution_count": 196,
   "id": "d77480d0",
   "metadata": {},
   "outputs": [
    {
     "name": "stdout",
     "output_type": "stream",
     "text": [
      "Parameters currently in use:\n",
      "\n",
      "{'bootstrap': True,\n",
      " 'ccp_alpha': 0.0,\n",
      " 'class_weight': None,\n",
      " 'criterion': 'gini',\n",
      " 'max_depth': None,\n",
      " 'max_features': 'auto',\n",
      " 'max_leaf_nodes': None,\n",
      " 'max_samples': None,\n",
      " 'min_impurity_decrease': 0.0,\n",
      " 'min_impurity_split': None,\n",
      " 'min_samples_leaf': 1,\n",
      " 'min_samples_split': 2,\n",
      " 'min_weight_fraction_leaf': 0.0,\n",
      " 'n_estimators': 100,\n",
      " 'n_jobs': None,\n",
      " 'oob_score': False,\n",
      " 'random_state': 42,\n",
      " 'verbose': 0,\n",
      " 'warm_start': False}\n"
     ]
    }
   ],
   "source": [
    "from sklearn.ensemble import RandomForestRegressor\n",
    "rf = RandomForestClassifier(random_state = 42)\n",
    "from pprint import pprint\n",
    "# Look at parameters used by our current forest\n",
    "print('Parameters currently in use:\\n')\n",
    "pprint(rf.get_params())\n"
   ]
  },
  {
   "cell_type": "code",
   "execution_count": 197,
   "id": "dd601c66",
   "metadata": {},
   "outputs": [
    {
     "name": "stdout",
     "output_type": "stream",
     "text": [
      "{'bootstrap': [True, False],\n",
      " 'max_depth': [10, 20, 30, 40, 50, 60, 70, 80, 90, 100, 110, None],\n",
      " 'max_features': ['auto', 'sqrt'],\n",
      " 'min_samples_leaf': [1, 2, 4],\n",
      " 'min_samples_split': [2, 5, 10],\n",
      " 'n_estimators': [200, 400, 600, 800, 1000, 1200, 1400, 1600, 1800, 2000]}\n"
     ]
    }
   ],
   "source": [
    "from sklearn.model_selection import RandomizedSearchCV\n",
    "# Number of trees in random forest\n",
    "n_estimators = [int(x) for x in np.linspace(start = 200, stop = 2000, num = 10)]\n",
    "# Number of features to consider at every split\n",
    "max_features = ['auto', 'sqrt']\n",
    "# Maximum number of levels in tree\n",
    "max_depth = [int(x) for x in np.linspace(10, 110, num = 11)]\n",
    "max_depth.append(None)\n",
    "# Minimum number of samples required to split a node\n",
    "min_samples_split = [2, 5, 10]\n",
    "# Minimum number of samples required at each leaf node\n",
    "min_samples_leaf = [1, 2, 4]\n",
    "# Method of selecting samples for training each tree\n",
    "bootstrap = [True, False]\n",
    "# Create the random grid\n",
    "random_grid = {'n_estimators': n_estimators,\n",
    "               'max_features': max_features,\n",
    "               'max_depth': max_depth,\n",
    "               'min_samples_split': min_samples_split,\n",
    "               'min_samples_leaf': min_samples_leaf,\n",
    "               'bootstrap': bootstrap}\n",
    "pprint(random_grid)\n"
   ]
  },
  {
   "cell_type": "code",
   "execution_count": 198,
   "id": "c0ed4f84",
   "metadata": {},
   "outputs": [
    {
     "name": "stdout",
     "output_type": "stream",
     "text": [
      "Fitting 3 folds for each of 10 candidates, totalling 30 fits\n"
     ]
    },
    {
     "data": {
      "text/plain": [
       "RandomizedSearchCV(cv=3, estimator=RandomForestClassifier(), n_jobs=-1,\n",
       "                   param_distributions={'bootstrap': [True, False],\n",
       "                                        'max_depth': [10, 20, 30, 40, 50, 60,\n",
       "                                                      70, 80, 90, 100, 110,\n",
       "                                                      None],\n",
       "                                        'max_features': ['auto', 'sqrt'],\n",
       "                                        'min_samples_leaf': [1, 2, 4],\n",
       "                                        'min_samples_split': [2, 5, 10],\n",
       "                                        'n_estimators': [200, 400, 600, 800,\n",
       "                                                         1000, 1200, 1400, 1600,\n",
       "                                                         1800, 2000]},\n",
       "                   random_state=42, verbose=2)"
      ]
     },
     "execution_count": 198,
     "metadata": {},
     "output_type": "execute_result"
    }
   ],
   "source": [
    "# Use the random grid to search for best hyperparameters\n",
    "# First create the base model to tune\n",
    "rf = RandomForestClassifier()\n",
    "# Random search of parameters, using 3 fold cross validation, \n",
    "# search across 100 different combinations, and use all available cores\n",
    "rf_random = RandomizedSearchCV(estimator = rf, param_distributions = random_grid, n_iter = 10, cv = 3, verbose=2, random_state=42, n_jobs = -1)\n",
    "# Fit the random search model\n",
    "rf_random.fit(X_train, y_train)"
   ]
  },
  {
   "cell_type": "code",
   "execution_count": 199,
   "id": "d4ef5e26",
   "metadata": {},
   "outputs": [
    {
     "name": "stdout",
     "output_type": "stream",
     "text": [
      "{'bootstrap': False,\n",
      " 'max_depth': 50,\n",
      " 'max_features': 'auto',\n",
      " 'min_samples_leaf': 2,\n",
      " 'min_samples_split': 2,\n",
      " 'n_estimators': 2000}\n"
     ]
    }
   ],
   "source": [
    "pprint(rf_random.best_params_)"
   ]
  },
  {
   "cell_type": "code",
   "execution_count": 200,
   "id": "22c60149",
   "metadata": {},
   "outputs": [],
   "source": [
    "import plotly.graph_objects as go\n",
    "\n",
    "def evaluate(model, test_features, test_labels):\n",
    "    predictions = model.predict(test_features)\n",
    "    #predictions.reshape(1115) # tres important!!!\n",
    "    accuracy = model.score(test_features, test_labels)\n",
    "    print('Model Performance')\n",
    "    print('Accuracy =',accuracy*100,'%')\n",
    "    #recall = recall_score(test_labels,predictions)\n",
    "   # print(recall)\n",
    "   \n",
    "    return accuracy"
   ]
  },
  {
   "cell_type": "code",
   "execution_count": 201,
   "id": "114fd812",
   "metadata": {},
   "outputs": [
    {
     "name": "stdout",
     "output_type": "stream",
     "text": [
      "Model Performance\n",
      "Accuracy = 98.29596412556054 %\n"
     ]
    }
   ],
   "source": [
    "base_model = RandomForestClassifier(n_estimators = 10, random_state = 42)\n",
    "base_model.fit(X_train, y_train)\n",
    "base_accuracy = evaluate(base_model, X_test, y_test)"
   ]
  },
  {
   "cell_type": "code",
   "execution_count": 202,
   "id": "5857894f",
   "metadata": {},
   "outputs": [
    {
     "name": "stdout",
     "output_type": "stream",
     "text": [
      "Model Performance\n",
      "Accuracy = 98.65470852017937 %\n"
     ]
    }
   ],
   "source": [
    "best_random = rf_random.best_estimator_\n",
    "random_accuracy = evaluate(best_random, X_test, y_test)"
   ]
  },
  {
   "cell_type": "code",
   "execution_count": 203,
   "id": "a8b38615",
   "metadata": {},
   "outputs": [
    {
     "name": "stdout",
     "output_type": "stream",
     "text": [
      "Improvement of 0.36%.\n"
     ]
    }
   ],
   "source": [
    "print('Improvement of {:0.2f}%.'.format( 100 * (random_accuracy - base_accuracy) / base_accuracy))"
   ]
  },
  {
   "cell_type": "code",
   "execution_count": 279,
   "id": "0fb0a087",
   "metadata": {},
   "outputs": [],
   "source": [
    "from sklearn.model_selection import GridSearchCV\n",
    "# Create the parameter grid based on the results of random search \n",
    "param_grid = {\n",
    "    'bootstrap': [True],\n",
    "    'max_depth': [80, 90, 100, 110],\n",
    "    'max_features': [2, 3],\n",
    "    'min_samples_leaf': [3, 4, 5],\n",
    "    'min_samples_split': [8, 10, 12],\n",
    "    'n_estimators': [100, 200, 300, 1000]\n",
    "}\n",
    "# Create a based model\n",
    "rf = RandomForestClassifier()\n",
    "# Instantiate the grid search model\n",
    "grid_search = GridSearchCV(estimator = rf, param_grid = param_grid, \n",
    "                          cv = 3)"
   ]
  },
  {
   "cell_type": "code",
   "execution_count": 281,
   "id": "2b1ed074",
   "metadata": {},
   "outputs": [],
   "source": [
    "# Fit the grid search to the data\n",
    "#grid_search.fit(X_train, y_train)\n",
    "#grid_search.best_params_"
   ]
  },
  {
   "cell_type": "code",
   "execution_count": null,
   "id": "0370e20c",
   "metadata": {},
   "outputs": [],
   "source": [
    "best_grid = grid_search.best_estimator_\n",
    "grid_search.fit(X_train, y_train)\n",
    "grid_accuracy = evaluate(best_grid, test_features, test_labels)"
   ]
  },
  {
   "cell_type": "code",
   "execution_count": null,
   "id": "6662e7a3",
   "metadata": {},
   "outputs": [],
   "source": [
    "print('Improvement of {:0.2f}%.'.format( 100 * (grid_accuracy - base_accuracy) / base_accuracy))"
   ]
  },
  {
   "cell_type": "code",
   "execution_count": null,
   "id": "6bbb8eae",
   "metadata": {},
   "outputs": [],
   "source": []
  }
 ],
 "metadata": {
  "kernelspec": {
   "display_name": "Python 3",
   "language": "python",
   "name": "python3"
  },
  "language_info": {
   "codemirror_mode": {
    "name": "ipython",
    "version": 3
   },
   "file_extension": ".py",
   "mimetype": "text/x-python",
   "name": "python",
   "nbconvert_exporter": "python",
   "pygments_lexer": "ipython3",
   "version": "3.8.8"
  },
  "toc": {
   "base_numbering": 1,
   "nav_menu": {},
   "number_sections": true,
   "sideBar": true,
   "skip_h1_title": false,
   "title_cell": "Table of Contents",
   "title_sidebar": "Contents",
   "toc_cell": false,
   "toc_position": {
    "height": "calc(100% - 180px)",
    "left": "10px",
    "top": "150px",
    "width": "288px"
   },
   "toc_section_display": true,
   "toc_window_display": false
  }
 },
 "nbformat": 4,
 "nbformat_minor": 5
}
